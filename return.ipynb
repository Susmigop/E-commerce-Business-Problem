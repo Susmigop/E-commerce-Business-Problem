{
 "cells": [
  {
   "cell_type": "markdown",
   "metadata": {},
   "source": [
    "     Problem Statement :\n",
    "\n",
    "            Customers send back a substantial part of the products that they purchase online. Return shipping is expensive for online platforms and return orders are said to reach 50% for certain industries and products. Nevertheless, free or inexpensive return shipping has become a customer expectation and de-facto standard in the fierce online competition on clothing, but shops have indirect ways to influence customer purchase behavior. For purchases where return seems likely, a shop could, for example, restrict payment options or display additional marketing communication."
   ]
  },
  {
   "cell_type": "markdown",
   "metadata": {},
   "source": [
    " **Attribute Information:**\n",
    "\n",
    "    order_item_id: The Unique id for the Every order\n",
    "    order_date:The date he/she is ordered\n",
    "    delivery_date: The delivery date of ordered product\n",
    "    item_id:The unique specific item for the product\n",
    "    item_size: Size of the product\n",
    "    item_color: Product Color\n",
    "    brand_id: Unique brand id for a product\n",
    "    item_price:Price of a product\n",
    "    user_id: unique user id given by company\n",
    "    user_title:User's title\n",
    "    user_dob:DOB of user\n",
    "    user_state:Users Living state\n",
    "    user_reg_date:User registartion date into the client Website\n",
    "    return: whether the product is returned or not \n",
    "    0:Not returned \n",
    "    1:returned\n",
    "    \n",
    "    "
   ]
  },
  {
   "cell_type": "markdown",
   "metadata": {},
   "source": [
    "        Let's start by loading the required libraries and the data.\n"
   ]
  },
  {
   "cell_type": "markdown",
   "metadata": {},
   "source": [
    "    We spend  huge amount of time importing some common libraries like NumPy, pandas, matplotlib, seaborn, nltk and many more. To reduce the time we import  pyforest library.It is that library which helps you to work directly without importing other libraries separately."
   ]
  },
  {
   "cell_type": "code",
   "execution_count": 144,
   "metadata": {},
   "outputs": [],
   "source": [
    "import pyforest\n",
    "import warnings\n",
    "warnings.filterwarnings(action='ignore',message='^internal gelsd')"
   ]
  },
  {
   "cell_type": "markdown",
   "metadata": {},
   "source": [
    "# Data Description\n",
    "      "
   ]
  },
  {
   "cell_type": "markdown",
   "metadata": {},
   "source": [
    "# Importing the dataset"
   ]
  },
  {
   "cell_type": "code",
   "execution_count": 145,
   "metadata": {},
   "outputs": [],
   "source": [
    "df_raw=pd.read_csv(\"H:\\\\Data Science\\\\Data Sets\\\\Analyze purposes\\\\Compay_datasets\\\\TrainingData_V1.csv\")\n",
    "df_raw.head()\n",
    "df=df_raw.copy()"
   ]
  },
  {
   "cell_type": "markdown",
   "metadata": {},
   "source": [
    "         To check whether the data set is load correct or not using head function"
   ]
  },
  {
   "cell_type": "code",
   "execution_count": 146,
   "metadata": {},
   "outputs": [
    {
     "data": {
      "text/html": [
       "<div>\n",
       "<style scoped>\n",
       "    .dataframe tbody tr th:only-of-type {\n",
       "        vertical-align: middle;\n",
       "    }\n",
       "\n",
       "    .dataframe tbody tr th {\n",
       "        vertical-align: top;\n",
       "    }\n",
       "\n",
       "    .dataframe thead th {\n",
       "        text-align: right;\n",
       "    }\n",
       "</style>\n",
       "<table border=\"1\" class=\"dataframe\">\n",
       "  <thead>\n",
       "    <tr style=\"text-align: right;\">\n",
       "      <th></th>\n",
       "      <th>order_item_id</th>\n",
       "      <th>order_date</th>\n",
       "      <th>delivery_date</th>\n",
       "      <th>item_id</th>\n",
       "      <th>item_size</th>\n",
       "      <th>item_color</th>\n",
       "      <th>brand_id</th>\n",
       "      <th>item_price</th>\n",
       "      <th>user_id</th>\n",
       "      <th>user_title</th>\n",
       "      <th>user_dob</th>\n",
       "      <th>user_state</th>\n",
       "      <th>user_reg_date</th>\n",
       "      <th>return</th>\n",
       "    </tr>\n",
       "  </thead>\n",
       "  <tbody>\n",
       "    <tr>\n",
       "      <th>0</th>\n",
       "      <td>1</td>\n",
       "      <td>22-06-2016</td>\n",
       "      <td>27-06-2016</td>\n",
       "      <td>643</td>\n",
       "      <td>38</td>\n",
       "      <td>navy</td>\n",
       "      <td>30</td>\n",
       "      <td>49.9</td>\n",
       "      <td>30822</td>\n",
       "      <td>Mrs</td>\n",
       "      <td>17-04-1969</td>\n",
       "      <td>1013</td>\n",
       "      <td>23-06-2016</td>\n",
       "      <td>0</td>\n",
       "    </tr>\n",
       "    <tr>\n",
       "      <th>1</th>\n",
       "      <td>10</td>\n",
       "      <td>22-06-2016</td>\n",
       "      <td>27-06-2016</td>\n",
       "      <td>195</td>\n",
       "      <td>xxl</td>\n",
       "      <td>grey</td>\n",
       "      <td>46</td>\n",
       "      <td>19.9</td>\n",
       "      <td>30823</td>\n",
       "      <td>Mrs</td>\n",
       "      <td>22-04-1970</td>\n",
       "      <td>1001</td>\n",
       "      <td>15-03-2015</td>\n",
       "      <td>1</td>\n",
       "    </tr>\n",
       "    <tr>\n",
       "      <th>2</th>\n",
       "      <td>11</td>\n",
       "      <td>22-06-2016</td>\n",
       "      <td>05-07-2016</td>\n",
       "      <td>25</td>\n",
       "      <td>xxl</td>\n",
       "      <td>grey</td>\n",
       "      <td>5</td>\n",
       "      <td>79.9</td>\n",
       "      <td>30823</td>\n",
       "      <td>Mrs</td>\n",
       "      <td>22-04-1970</td>\n",
       "      <td>1001</td>\n",
       "      <td>15-03-2015</td>\n",
       "      <td>0</td>\n",
       "    </tr>\n",
       "    <tr>\n",
       "      <th>3</th>\n",
       "      <td>32</td>\n",
       "      <td>23-06-2016</td>\n",
       "      <td>26-06-2016</td>\n",
       "      <td>173</td>\n",
       "      <td>m</td>\n",
       "      <td>brown</td>\n",
       "      <td>20</td>\n",
       "      <td>19.9</td>\n",
       "      <td>17234</td>\n",
       "      <td>Mrs</td>\n",
       "      <td>09-01-1960</td>\n",
       "      <td>1013</td>\n",
       "      <td>17-02-2015</td>\n",
       "      <td>0</td>\n",
       "    </tr>\n",
       "    <tr>\n",
       "      <th>4</th>\n",
       "      <td>43</td>\n",
       "      <td>23-06-2016</td>\n",
       "      <td>26-06-2016</td>\n",
       "      <td>394</td>\n",
       "      <td>40</td>\n",
       "      <td>black</td>\n",
       "      <td>44</td>\n",
       "      <td>90.0</td>\n",
       "      <td>30827</td>\n",
       "      <td>Mrs</td>\n",
       "      <td>NaN</td>\n",
       "      <td>1006</td>\n",
       "      <td>09-02-2016</td>\n",
       "      <td>1</td>\n",
       "    </tr>\n",
       "  </tbody>\n",
       "</table>\n",
       "</div>"
      ],
      "text/plain": [
       "   order_item_id  order_date delivery_date  item_id item_size item_color  \\\n",
       "0              1  22-06-2016    27-06-2016      643        38       navy   \n",
       "1             10  22-06-2016    27-06-2016      195       xxl       grey   \n",
       "2             11  22-06-2016    05-07-2016       25       xxl       grey   \n",
       "3             32  23-06-2016    26-06-2016      173         m      brown   \n",
       "4             43  23-06-2016    26-06-2016      394        40      black   \n",
       "\n",
       "   brand_id  item_price  user_id user_title    user_dob  user_state  \\\n",
       "0        30        49.9    30822        Mrs  17-04-1969        1013   \n",
       "1        46        19.9    30823        Mrs  22-04-1970        1001   \n",
       "2         5        79.9    30823        Mrs  22-04-1970        1001   \n",
       "3        20        19.9    17234        Mrs  09-01-1960        1013   \n",
       "4        44        90.0    30827        Mrs         NaN        1006   \n",
       "\n",
       "  user_reg_date  return  \n",
       "0    23-06-2016       0  \n",
       "1    15-03-2015       1  \n",
       "2    15-03-2015       0  \n",
       "3    17-02-2015       0  \n",
       "4    09-02-2016       1  "
      ]
     },
     "execution_count": 146,
     "metadata": {},
     "output_type": "execute_result"
    }
   ],
   "source": [
    "df.head()"
   ]
  },
  {
   "cell_type": "markdown",
   "metadata": {},
   "source": [
    "        Exploratory Data Analysis"
   ]
  },
  {
   "cell_type": "code",
   "execution_count": 147,
   "metadata": {},
   "outputs": [],
   "source": [
    "def SG_EDA(df):\n",
    "    print('shape of the dataset',df.shape)\n",
    "    print('Columns in the data set are:', df.columns)\n",
    "    print(df.info())\n",
    "    print('The statical data for the given data set is ',df.describe(include='all'))\n",
    "    \n",
    "    return df"
   ]
  },
  {
   "cell_type": "code",
   "execution_count": 148,
   "metadata": {},
   "outputs": [
    {
     "name": "stdout",
     "output_type": "stream",
     "text": [
      "shape of the dataset (79945, 14)\n",
      "Columns in the data set are: Index(['order_item_id', 'order_date', 'delivery_date', 'item_id', 'item_size',\n",
      "       'item_color', 'brand_id', 'item_price', 'user_id', 'user_title',\n",
      "       'user_dob', 'user_state', 'user_reg_date', 'return'],\n",
      "      dtype='object')\n",
      "<class 'pandas.core.frame.DataFrame'>\n",
      "RangeIndex: 79945 entries, 0 to 79944\n",
      "Data columns (total 14 columns):\n",
      " #   Column         Non-Null Count  Dtype  \n",
      "---  ------         --------------  -----  \n",
      " 0   order_item_id  79945 non-null  int64  \n",
      " 1   order_date     79945 non-null  object \n",
      " 2   delivery_date  72509 non-null  object \n",
      " 3   item_id        79945 non-null  int64  \n",
      " 4   item_size      79945 non-null  object \n",
      " 5   item_color     79945 non-null  object \n",
      " 6   brand_id       79945 non-null  int64  \n",
      " 7   item_price     79945 non-null  float64\n",
      " 8   user_id        79945 non-null  int64  \n",
      " 9   user_title     79945 non-null  object \n",
      " 10  user_dob       72956 non-null  object \n",
      " 11  user_state     79945 non-null  int64  \n",
      " 12  user_reg_date  79945 non-null  object \n",
      " 13  return         79945 non-null  int64  \n",
      "dtypes: float64(1), int64(6), object(7)\n",
      "memory usage: 8.5+ MB\n",
      "None\n",
      "The statical data for the given data set is          order_item_id  order_date delivery_date       item_id item_size  \\\n",
      "count    79945.000000       79945         72509  79945.000000     79945   \n",
      "unique            NaN          82           122           NaN       102   \n",
      "top               NaN  27-06-2016    03-07-2016           NaN         l   \n",
      "freq              NaN        4495          4031           NaN      9861   \n",
      "mean     50056.599925         NaN           NaN    924.281231       NaN   \n",
      "std      28872.601957         NaN           NaN    702.577022       NaN   \n",
      "min          1.000000         NaN           NaN      1.000000       NaN   \n",
      "25%      25133.000000         NaN           NaN    214.000000       NaN   \n",
      "50%      49985.000000         NaN           NaN    812.000000       NaN   \n",
      "75%      75118.000000         NaN           NaN   1582.000000       NaN   \n",
      "max     100000.000000         NaN           NaN   2241.000000       NaN   \n",
      "\n",
      "       item_color      brand_id    item_price       user_id user_title  \\\n",
      "count       79945  79945.000000  79945.000000  79945.000000      79945   \n",
      "unique         77           NaN           NaN           NaN          5   \n",
      "top         black           NaN           NaN           NaN        Mrs   \n",
      "freq        14920           NaN           NaN           NaN      76267   \n",
      "mean          NaN     30.100819     65.088521  27185.708500        NaN   \n",
      "std           NaN     28.157290     47.729105  14063.256304        NaN   \n",
      "min           NaN      1.000000      0.000000      9.000000        NaN   \n",
      "25%           NaN      5.000000     29.900000  14943.000000        NaN   \n",
      "50%           NaN     25.000000     49.900000  31189.000000        NaN   \n",
      "75%           NaN     44.000000     79.900000  38931.000000        NaN   \n",
      "max           NaN    138.000000    999.000000  48241.000000        NaN   \n",
      "\n",
      "          user_dob    user_state user_reg_date        return  \n",
      "count        72956  79945.000000         79945  79945.000000  \n",
      "unique        9007           NaN           572           NaN  \n",
      "top     21-11-1900           NaN    17-02-2015           NaN  \n",
      "freq           713           NaN         27144           NaN  \n",
      "mean           NaN   1007.268485           NaN      0.458590  \n",
      "std            NaN      4.281872           NaN      0.498285  \n",
      "min            NaN   1001.000000           NaN      0.000000  \n",
      "25%            NaN   1002.000000           NaN      0.000000  \n",
      "50%            NaN   1008.000000           NaN      0.000000  \n",
      "75%            NaN   1010.000000           NaN      1.000000  \n",
      "max            NaN   1016.000000           NaN      1.000000  \n"
     ]
    },
    {
     "data": {
      "text/html": [
       "<div>\n",
       "<style scoped>\n",
       "    .dataframe tbody tr th:only-of-type {\n",
       "        vertical-align: middle;\n",
       "    }\n",
       "\n",
       "    .dataframe tbody tr th {\n",
       "        vertical-align: top;\n",
       "    }\n",
       "\n",
       "    .dataframe thead th {\n",
       "        text-align: right;\n",
       "    }\n",
       "</style>\n",
       "<table border=\"1\" class=\"dataframe\">\n",
       "  <thead>\n",
       "    <tr style=\"text-align: right;\">\n",
       "      <th></th>\n",
       "      <th>order_item_id</th>\n",
       "      <th>order_date</th>\n",
       "      <th>delivery_date</th>\n",
       "      <th>item_id</th>\n",
       "      <th>item_size</th>\n",
       "      <th>item_color</th>\n",
       "      <th>brand_id</th>\n",
       "      <th>item_price</th>\n",
       "      <th>user_id</th>\n",
       "      <th>user_title</th>\n",
       "      <th>user_dob</th>\n",
       "      <th>user_state</th>\n",
       "      <th>user_reg_date</th>\n",
       "      <th>return</th>\n",
       "    </tr>\n",
       "  </thead>\n",
       "  <tbody>\n",
       "    <tr>\n",
       "      <th>0</th>\n",
       "      <td>1</td>\n",
       "      <td>22-06-2016</td>\n",
       "      <td>27-06-2016</td>\n",
       "      <td>643</td>\n",
       "      <td>38</td>\n",
       "      <td>navy</td>\n",
       "      <td>30</td>\n",
       "      <td>49.9</td>\n",
       "      <td>30822</td>\n",
       "      <td>Mrs</td>\n",
       "      <td>17-04-1969</td>\n",
       "      <td>1013</td>\n",
       "      <td>23-06-2016</td>\n",
       "      <td>0</td>\n",
       "    </tr>\n",
       "    <tr>\n",
       "      <th>1</th>\n",
       "      <td>10</td>\n",
       "      <td>22-06-2016</td>\n",
       "      <td>27-06-2016</td>\n",
       "      <td>195</td>\n",
       "      <td>xxl</td>\n",
       "      <td>grey</td>\n",
       "      <td>46</td>\n",
       "      <td>19.9</td>\n",
       "      <td>30823</td>\n",
       "      <td>Mrs</td>\n",
       "      <td>22-04-1970</td>\n",
       "      <td>1001</td>\n",
       "      <td>15-03-2015</td>\n",
       "      <td>1</td>\n",
       "    </tr>\n",
       "    <tr>\n",
       "      <th>2</th>\n",
       "      <td>11</td>\n",
       "      <td>22-06-2016</td>\n",
       "      <td>05-07-2016</td>\n",
       "      <td>25</td>\n",
       "      <td>xxl</td>\n",
       "      <td>grey</td>\n",
       "      <td>5</td>\n",
       "      <td>79.9</td>\n",
       "      <td>30823</td>\n",
       "      <td>Mrs</td>\n",
       "      <td>22-04-1970</td>\n",
       "      <td>1001</td>\n",
       "      <td>15-03-2015</td>\n",
       "      <td>0</td>\n",
       "    </tr>\n",
       "    <tr>\n",
       "      <th>3</th>\n",
       "      <td>32</td>\n",
       "      <td>23-06-2016</td>\n",
       "      <td>26-06-2016</td>\n",
       "      <td>173</td>\n",
       "      <td>m</td>\n",
       "      <td>brown</td>\n",
       "      <td>20</td>\n",
       "      <td>19.9</td>\n",
       "      <td>17234</td>\n",
       "      <td>Mrs</td>\n",
       "      <td>09-01-1960</td>\n",
       "      <td>1013</td>\n",
       "      <td>17-02-2015</td>\n",
       "      <td>0</td>\n",
       "    </tr>\n",
       "    <tr>\n",
       "      <th>4</th>\n",
       "      <td>43</td>\n",
       "      <td>23-06-2016</td>\n",
       "      <td>26-06-2016</td>\n",
       "      <td>394</td>\n",
       "      <td>40</td>\n",
       "      <td>black</td>\n",
       "      <td>44</td>\n",
       "      <td>90.0</td>\n",
       "      <td>30827</td>\n",
       "      <td>Mrs</td>\n",
       "      <td>NaN</td>\n",
       "      <td>1006</td>\n",
       "      <td>09-02-2016</td>\n",
       "      <td>1</td>\n",
       "    </tr>\n",
       "    <tr>\n",
       "      <th>...</th>\n",
       "      <td>...</td>\n",
       "      <td>...</td>\n",
       "      <td>...</td>\n",
       "      <td>...</td>\n",
       "      <td>...</td>\n",
       "      <td>...</td>\n",
       "      <td>...</td>\n",
       "      <td>...</td>\n",
       "      <td>...</td>\n",
       "      <td>...</td>\n",
       "      <td>...</td>\n",
       "      <td>...</td>\n",
       "      <td>...</td>\n",
       "      <td>...</td>\n",
       "    </tr>\n",
       "    <tr>\n",
       "      <th>79940</th>\n",
       "      <td>99942</td>\n",
       "      <td>11-09-2016</td>\n",
       "      <td>12-09-2016</td>\n",
       "      <td>39</td>\n",
       "      <td>41</td>\n",
       "      <td>blue</td>\n",
       "      <td>26</td>\n",
       "      <td>89.9</td>\n",
       "      <td>48232</td>\n",
       "      <td>Mrs</td>\n",
       "      <td>24-10-1941</td>\n",
       "      <td>1007</td>\n",
       "      <td>12-09-2016</td>\n",
       "      <td>1</td>\n",
       "    </tr>\n",
       "    <tr>\n",
       "      <th>79941</th>\n",
       "      <td>99954</td>\n",
       "      <td>11-09-2016</td>\n",
       "      <td>NaN</td>\n",
       "      <td>1498</td>\n",
       "      <td>42</td>\n",
       "      <td>green</td>\n",
       "      <td>6</td>\n",
       "      <td>59.9</td>\n",
       "      <td>48234</td>\n",
       "      <td>Mrs</td>\n",
       "      <td>02-10-1962</td>\n",
       "      <td>1007</td>\n",
       "      <td>12-09-2016</td>\n",
       "      <td>0</td>\n",
       "    </tr>\n",
       "    <tr>\n",
       "      <th>79942</th>\n",
       "      <td>99980</td>\n",
       "      <td>11-09-2016</td>\n",
       "      <td>12-09-2016</td>\n",
       "      <td>1806</td>\n",
       "      <td>unsized</td>\n",
       "      <td>brown</td>\n",
       "      <td>110</td>\n",
       "      <td>16.9</td>\n",
       "      <td>48240</td>\n",
       "      <td>Mr</td>\n",
       "      <td>22-07-1971</td>\n",
       "      <td>1010</td>\n",
       "      <td>17-02-2015</td>\n",
       "      <td>0</td>\n",
       "    </tr>\n",
       "    <tr>\n",
       "      <th>79943</th>\n",
       "      <td>99987</td>\n",
       "      <td>11-09-2016</td>\n",
       "      <td>12-09-2016</td>\n",
       "      <td>1530</td>\n",
       "      <td>l</td>\n",
       "      <td>black</td>\n",
       "      <td>56</td>\n",
       "      <td>79.9</td>\n",
       "      <td>12130</td>\n",
       "      <td>Mrs</td>\n",
       "      <td>NaN</td>\n",
       "      <td>1008</td>\n",
       "      <td>20-01-2016</td>\n",
       "      <td>0</td>\n",
       "    </tr>\n",
       "    <tr>\n",
       "      <th>79944</th>\n",
       "      <td>99997</td>\n",
       "      <td>11-09-2016</td>\n",
       "      <td>12-09-2016</td>\n",
       "      <td>156</td>\n",
       "      <td>20</td>\n",
       "      <td>brown</td>\n",
       "      <td>34</td>\n",
       "      <td>29.9</td>\n",
       "      <td>713</td>\n",
       "      <td>Mrs</td>\n",
       "      <td>21-03-1959</td>\n",
       "      <td>1011</td>\n",
       "      <td>17-02-2015</td>\n",
       "      <td>0</td>\n",
       "    </tr>\n",
       "  </tbody>\n",
       "</table>\n",
       "<p>79945 rows × 14 columns</p>\n",
       "</div>"
      ],
      "text/plain": [
       "       order_item_id  order_date delivery_date  item_id item_size item_color  \\\n",
       "0                  1  22-06-2016    27-06-2016      643        38       navy   \n",
       "1                 10  22-06-2016    27-06-2016      195       xxl       grey   \n",
       "2                 11  22-06-2016    05-07-2016       25       xxl       grey   \n",
       "3                 32  23-06-2016    26-06-2016      173         m      brown   \n",
       "4                 43  23-06-2016    26-06-2016      394        40      black   \n",
       "...              ...         ...           ...      ...       ...        ...   \n",
       "79940          99942  11-09-2016    12-09-2016       39        41       blue   \n",
       "79941          99954  11-09-2016           NaN     1498        42      green   \n",
       "79942          99980  11-09-2016    12-09-2016     1806   unsized      brown   \n",
       "79943          99987  11-09-2016    12-09-2016     1530         l      black   \n",
       "79944          99997  11-09-2016    12-09-2016      156        20      brown   \n",
       "\n",
       "       brand_id  item_price  user_id user_title    user_dob  user_state  \\\n",
       "0            30        49.9    30822        Mrs  17-04-1969        1013   \n",
       "1            46        19.9    30823        Mrs  22-04-1970        1001   \n",
       "2             5        79.9    30823        Mrs  22-04-1970        1001   \n",
       "3            20        19.9    17234        Mrs  09-01-1960        1013   \n",
       "4            44        90.0    30827        Mrs         NaN        1006   \n",
       "...         ...         ...      ...        ...         ...         ...   \n",
       "79940        26        89.9    48232        Mrs  24-10-1941        1007   \n",
       "79941         6        59.9    48234        Mrs  02-10-1962        1007   \n",
       "79942       110        16.9    48240         Mr  22-07-1971        1010   \n",
       "79943        56        79.9    12130        Mrs         NaN        1008   \n",
       "79944        34        29.9      713        Mrs  21-03-1959        1011   \n",
       "\n",
       "      user_reg_date  return  \n",
       "0        23-06-2016       0  \n",
       "1        15-03-2015       1  \n",
       "2        15-03-2015       0  \n",
       "3        17-02-2015       0  \n",
       "4        09-02-2016       1  \n",
       "...             ...     ...  \n",
       "79940    12-09-2016       1  \n",
       "79941    12-09-2016       0  \n",
       "79942    17-02-2015       0  \n",
       "79943    20-01-2016       0  \n",
       "79944    17-02-2015       0  \n",
       "\n",
       "[79945 rows x 14 columns]"
      ]
     },
     "execution_count": 148,
     "metadata": {},
     "output_type": "execute_result"
    }
   ],
   "source": [
    "SG_EDA(df)"
   ]
  },
  {
   "cell_type": "markdown",
   "metadata": {},
   "source": [
    "       After Checking Data types I come to know that some of the attributes are misclassified of data types "
   ]
  },
  {
   "cell_type": "markdown",
   "metadata": {},
   "source": [
    "        To check the correlation between the independent and dependent columns "
   ]
  },
  {
   "cell_type": "code",
   "execution_count": 149,
   "metadata": {},
   "outputs": [],
   "source": [
    "def HeatMap(df,x=True):\n",
    "        correlations = df.corr()\n",
    "        ## Create color map ranging between two colors\n",
    "        cmap = sns.diverging_palette(220, 10, as_cmap=True)\n",
    "        fig, ax = plt.subplots(figsize=(10, 10))\n",
    "        fig = sns.heatmap(correlations, cmap=cmap, vmax=1.0, center=0, fmt='.2f',square=True, linewidths=.5, annot=x, cbar_kws={\"shrink\": .75})\n",
    "        fig.set_xticklabels(fig.get_xticklabels(), rotation = 90, fontsize = 10)\n",
    "        fig.set_yticklabels(fig.get_yticklabels(), rotation = 0, fontsize = 10)\n",
    "        plt.tight_layout()\n",
    "        plt.show()"
   ]
  },
  {
   "cell_type": "code",
   "execution_count": 150,
   "metadata": {},
   "outputs": [
    {
     "data": {
      "application/javascript": [
       "\n",
       "        if (window._pyforest_update_imports_cell) { window._pyforest_update_imports_cell('import numpy as np\\nimport matplotlib.pyplot as plt\\nimport pandas as pd\\nimport seaborn as sns'); }\n",
       "    "
      ],
      "text/plain": [
       "<IPython.core.display.Javascript object>"
      ]
     },
     "metadata": {},
     "output_type": "display_data"
    },
    {
     "data": {
      "application/javascript": [
       "\n",
       "        if (window._pyforest_update_imports_cell) { window._pyforest_update_imports_cell('import numpy as np\\nimport matplotlib.pyplot as plt\\nimport pandas as pd\\nimport seaborn as sns'); }\n",
       "    "
      ],
      "text/plain": [
       "<IPython.core.display.Javascript object>"
      ]
     },
     "metadata": {},
     "output_type": "display_data"
    },
    {
     "data": {
      "image/png": "[encoded data removed]",
      "text/plain": [
       "<Figure size 720x720 with 2 Axes>"
      ]
     },
     "metadata": {
      "needs_background": "light"
     },
     "output_type": "display_data"
    }
   ],
   "source": [
    "HeatMap(df,x=True)"
   ]
  },
  {
   "cell_type": "markdown",
   "metadata": {},
   "source": [
    "    Data Cleaning"
   ]
  },
  {
   "cell_type": "markdown",
   "metadata": {},
   "source": [
    "            Deal with user id\n"
   ]
  },
  {
   "cell_type": "code",
   "execution_count": 151,
   "metadata": {},
   "outputs": [],
   "source": [
    "df['counts'] = df['user_id'].map(df['user_id'].value_counts())"
   ]
  },
  {
   "cell_type": "markdown",
   "metadata": {},
   "source": [
    "        Changing the data types of order_data and delievery date to date time format and created a new column with day of the order using order_date"
   ]
  },
  {
   "cell_type": "code",
   "execution_count": 152,
   "metadata": {},
   "outputs": [],
   "source": [
    "df['order_date'] = pd.to_datetime(df['order_date'])\n",
    "df['day_of_order'] = df['order_date'].dt.day_name()"
   ]
  },
  {
   "cell_type": "code",
   "execution_count": 153,
   "metadata": {},
   "outputs": [],
   "source": [
    "df['delivery_date'] = pd.to_datetime(df['delivery_date'])\n",
    "df['delieverday_of_order'] = df['order_date'].dt.day_name()"
   ]
  },
  {
   "cell_type": "code",
   "execution_count": 154,
   "metadata": {},
   "outputs": [
    {
     "name": "stdout",
     "output_type": "stream",
     "text": [
      "The Missing count in order date attribute is: 0\n",
      "The Missing count in delivery date attribute is: 7436\n"
     ]
    }
   ],
   "source": [
    "print('The Missing count in order date attribute is:',df['order_date'].isnull().sum())\n",
    "print('The Missing count in delivery date attribute is:',df['delivery_date'].isnull().sum())"
   ]
  },
  {
   "cell_type": "markdown",
   "metadata": {},
   "source": [
    "        For Imputation of Mising value in Delivery Date. I am doing feature engg for both order date and delivery date and got the number of days of a product is to be delievered for a user"
   ]
  },
  {
   "cell_type": "markdown",
   "metadata": {},
   "source": [
    "     df['No_of_d_t_R'] means number of days of a product is to be delievred for a user "
   ]
  },
  {
   "cell_type": "code",
   "execution_count": 155,
   "metadata": {},
   "outputs": [],
   "source": [
    "df['No_of_d_t_R'] = ((df['delivery_date'] - df['order_date']).dt.days).abs()"
   ]
  },
  {
   "cell_type": "code",
   "execution_count": 156,
   "metadata": {},
   "outputs": [
    {
     "data": {
      "application/javascript": [
       "\n",
       "        if (window._pyforest_update_imports_cell) { window._pyforest_update_imports_cell('import numpy as np\\nimport matplotlib.pyplot as plt\\nimport pandas as pd\\nimport seaborn as sns'); }\n",
       "    "
      ],
      "text/plain": [
       "<IPython.core.display.Javascript object>"
      ]
     },
     "metadata": {},
     "output_type": "display_data"
    },
    {
     "data": {
      "image/png": "[encoded data removed]",
      "text/plain": [
       "<Figure size 864x576 with 1 Axes>"
      ]
     },
     "metadata": {
      "needs_background": "light"
     },
     "output_type": "display_data"
    }
   ],
   "source": [
    "plt.figure(figsize=(12,8))\n",
    "sns.countplot(df['No_of_d_t_R'])\n",
    "plt.show()"
   ]
  },
  {
   "cell_type": "code",
   "execution_count": 157,
   "metadata": {},
   "outputs": [
    {
     "data": {
      "text/plain": [
       "2.0      7389\n",
       "1.0      7384\n",
       "3.0      5910\n",
       "61.0     4483\n",
       "4.0      3336\n",
       "         ... \n",
       "258.0       1\n",
       "337.0       1\n",
       "146.0       1\n",
       "310.0       1\n",
       "237.0       1\n",
       "Name: No_of_d_t_R, Length: 375, dtype: int64"
      ]
     },
     "execution_count": 157,
     "metadata": {},
     "output_type": "execute_result"
    }
   ],
   "source": [
    "df['No_of_d_t_R'].value_counts()"
   ]
  },
  {
   "cell_type": "markdown",
   "metadata": {},
   "source": [
    "            By analysing graph and counts of days we come to know that mostly item is delievered in 2 days.So, I fill We just add 2 days to order date"
   ]
  },
  {
   "cell_type": "code",
   "execution_count": 158,
   "metadata": {},
   "outputs": [],
   "source": [
    "df[\"delivery_date\"].fillna(df[\"order_date\"]+pd.DateOffset(2), inplace=True)"
   ]
  },
  {
   "cell_type": "code",
   "execution_count": 159,
   "metadata": {},
   "outputs": [],
   "source": [
    "df['No_of_d_t_R'] = ((df['delivery_date'] - df['order_date']).dt.days).abs()"
   ]
  },
  {
   "cell_type": "markdown",
   "metadata": {},
   "source": [
    "        Here, I deal with the next attribute named User_title "
   ]
  },
  {
   "cell_type": "code",
   "execution_count": 160,
   "metadata": {},
   "outputs": [
    {
     "data": {
      "text/plain": [
       "Mrs             76267\n",
       "Mr               3141\n",
       "Family            339\n",
       "Company           105\n",
       "not reported       93\n",
       "Name: user_title, dtype: int64"
      ]
     },
     "execution_count": 160,
     "metadata": {},
     "output_type": "execute_result"
    }
   ],
   "source": [
    "df['user_title'].value_counts()"
   ]
  },
  {
   "cell_type": "markdown",
   "metadata": {},
   "source": [
    "        Analysis of the graph and value_counts tells us that maximum the customers are mrs and some of the records are not reported I consider this are null values and fill with the most repeat"
   ]
  },
  {
   "cell_type": "markdown",
   "metadata": {},
   "source": [
    "        Here for convience I change mrs to female and mr to male"
   ]
  },
  {
   "cell_type": "code",
   "execution_count": 161,
   "metadata": {},
   "outputs": [],
   "source": [
    "df['user_title']=df['user_title'].replace('Mrs','Female', regex=True)\n",
    "df['user_title']=df['user_title'].replace('Mr','Male', regex=True)"
   ]
  },
  {
   "cell_type": "code",
   "execution_count": 162,
   "metadata": {},
   "outputs": [],
   "source": [
    "df['user_title']=df['user_title'].replace('not reported','Female', regex=True)"
   ]
  },
  {
   "cell_type": "markdown",
   "metadata": {},
   "source": [
    "      Here Next attributes with Size of the item:"
   ]
  },
  {
   "cell_type": "markdown",
   "metadata": {},
   "source": [
    "       For consideration, I changed item size to lower letters "
   ]
  },
  {
   "cell_type": "code",
   "execution_count": 163,
   "metadata": {},
   "outputs": [],
   "source": [
    "df['item_size'] = df['item_size'].str.lower()"
   ]
  },
  {
   "cell_type": "markdown",
   "metadata": {},
   "source": [
    "        Checking Unique columns"
   ]
  },
  {
   "cell_type": "code",
   "execution_count": 164,
   "metadata": {},
   "outputs": [
    {
     "data": {
      "text/plain": [
       "array(['38', 'xxl', 'm', '40', '42', 'l', 'xl', '41', '7', '6+', '18',\n",
       "       '44', '19', '48', 'unsized', '36', '6', '4', '39', '45', '37',\n",
       "       '7+', 's', '8', '9+', '50', '5+', '46', '9', '35', '21', '10',\n",
       "       '43', '11+', '8+', '24', '20', '128', '11', '39+', '38+', '5',\n",
       "       '12', '31', '140', '41+', '116', '4+', '40+', '56', '26', '47',\n",
       "       '52', '32', '28', '10+', '27', '22', '152', '30', '1', '104', '33',\n",
       "       'xs', '37+', '46+', '34', 'xxxl', '29', '13', '42+', '23', '3632',\n",
       "       '25', '3+', '54', '36+', '44+', '3832', '3332', '4032', '3432',\n",
       "       '43+', '100', '2', '176', '3', '164', '45+', '90', '105', '58',\n",
       "       '4034', '3834', '80', '2+', '3132', '14', '12+', '49', '84',\n",
       "       '3634'], dtype=object)"
      ]
     },
     "execution_count": 164,
     "metadata": {},
     "output_type": "execute_result"
    }
   ],
   "source": [
    "df['item_size'].unique()"
   ]
  },
  {
   "cell_type": "markdown",
   "metadata": {},
   "source": [
    "            On, checking I come to know that there are + symbol also with the size so, I just added in between values which is 0.5"
   ]
  },
  {
   "cell_type": "code",
   "execution_count": 165,
   "metadata": {},
   "outputs": [],
   "source": [
    "df['item_size'] = df['item_size'].str.replace('+', '.5', regex = False)"
   ]
  },
  {
   "cell_type": "markdown",
   "metadata": {},
   "source": [
    "        On analysis, there are unsized values are  I considered that are null values "
   ]
  },
  {
   "cell_type": "code",
   "execution_count": 166,
   "metadata": {},
   "outputs": [],
   "source": [
    "df['item_size'] = df['item_size'].str.replace('unsized', \"\", regex = False)\n",
    "df['item_size']=df['item_size'].replace('',np.nan, regex=True)"
   ]
  },
  {
   "cell_type": "code",
   "execution_count": 167,
   "metadata": {},
   "outputs": [
    {
     "data": {
      "text/plain": [
       "array(['38', 'xxl', 'm', '40', '42', 'l', 'xl', '41', '7', '6.5', '18',\n",
       "       '44', '19', '48', nan, '36', '6', '4', '39', '45', '37', '7.5',\n",
       "       's', '8', '9.5', '50', '5.5', '46', '9', '35', '21', '10', '43',\n",
       "       '11.5', '8.5', '24', '20', '128', '11', '39.5', '38.5', '5', '12',\n",
       "       '31', '140', '41.5', '116', '4.5', '40.5', '56', '26', '47', '52',\n",
       "       '32', '28', '10.5', '27', '22', '152', '30', '1', '104', '33',\n",
       "       'xs', '37.5', '46.5', '34', 'xxxl', '29', '13', '42.5', '23',\n",
       "       '3632', '25', '3.5', '54', '36.5', '44.5', '3832', '3332', '4032',\n",
       "       '3432', '43.5', '100', '2', '176', '3', '164', '45.5', '90', '105',\n",
       "       '58', '4034', '3834', '80', '2.5', '3132', '14', '12.5', '49',\n",
       "       '84', '3634'], dtype=object)"
      ]
     },
     "execution_count": 167,
     "metadata": {},
     "output_type": "execute_result"
    }
   ],
   "source": [
    "df.item_size.unique()"
   ]
  },
  {
   "cell_type": "code",
   "execution_count": 168,
   "metadata": {},
   "outputs": [
    {
     "data": {
      "text/plain": [
       "dtype('O')"
      ]
     },
     "execution_count": 168,
     "metadata": {},
     "output_type": "execute_result"
    }
   ],
   "source": [
    "df['item_size'].dtype"
   ]
  },
  {
   "cell_type": "markdown",
   "metadata": {},
   "source": [
    "        We can perform only some operations with object data type, So, i changed into string"
   ]
  },
  {
   "cell_type": "code",
   "execution_count": 169,
   "metadata": {},
   "outputs": [],
   "source": [
    "df['item_size']=df['item_size'].astype(str)"
   ]
  },
  {
   "cell_type": "markdown",
   "metadata": {},
   "source": [
    "        Image taken from Internet source If image is not visible use Image link "
   ]
  },
  {
   "cell_type": "code",
   "execution_count": 170,
   "metadata": {},
   "outputs": [
    {
     "data": {
      "image/png": "[encoded data removed]",
      "text/plain": [
       "<Figure size 432x288 with 1 Axes>"
      ]
     },
     "metadata": {
      "needs_background": "light"
     },
     "output_type": "display_data"
    }
   ],
   "source": [
    "import matplotlib.pyplot as plt\n",
    "import matplotlib.image as mpimg\n",
    "image = mpimg.imread(\"s.jpg\")\n",
    "plt.imshow(image)\n",
    "plt.show()"
   ]
  },
  {
   "cell_type": "code",
   "execution_count": 171,
   "metadata": {},
   "outputs": [],
   "source": [
    "#from IPython.display import Image\n",
    "#from IPython.core.display import HTML \n",
    "#Image(url= \"https://www.google.com/url?sa=i&url=https%3A%2F%2Fwww.pinterest.com%2Fpin%2F1014646991017277947%2F&psig=AOvVaw2QDSgApkIPplGkL4MAEiRD&ust=1630303616652000&source=images&cd=vfe&ved=0CAsQjRxqFwoTCKCCnrLI1fICFQAAAAAdAAAAABAD\")"
   ]
  },
  {
   "cell_type": "markdown",
   "metadata": {},
   "source": [
    "        By using Universal size chart I took sizes below"
   ]
  },
  {
   "cell_type": "code",
   "execution_count": 172,
   "metadata": {},
   "outputs": [],
   "source": [
    "df['item_size']=df['item_size'].replace('xs',87, regex=True)\n",
    "df['item_size']=df['item_size'].replace('xxxl',117, regex=True)\n",
    "df['item_size']=df['item_size'].replace('xxl',112, regex=True)\n",
    "df['item_size']=df['item_size'].replace('m',96, regex=True)\n",
    "df['item_size']=df['item_size'].replace('xl',106, regex=True)\n",
    "df['item_size']=df['item_size'].replace('l',101, regex=True)\n",
    "df['item_size']=df['item_size'].replace('s',91, regex=True)"
   ]
  },
  {
   "cell_type": "markdown",
   "metadata": {},
   "source": [
    "        There are some Na values we filled with median for better result"
   ]
  },
  {
   "cell_type": "markdown",
   "metadata": {},
   "source": [
    "            Now, we changed item size column to float"
   ]
  },
  {
   "cell_type": "code",
   "execution_count": 173,
   "metadata": {},
   "outputs": [],
   "source": [
    "df['item_size']=df['item_size'].astype(\"float64\")\n",
    "df['item_size'].fillna(df['item_size'].median(), inplace=True)"
   ]
  },
  {
   "cell_type": "markdown",
   "metadata": {},
   "source": [
    "             We consider 0 to 46 are as inches format so, we change into cms "
   ]
  },
  {
   "cell_type": "code",
   "execution_count": 174,
   "metadata": {},
   "outputs": [],
   "source": [
    "for col,row in df.iterrows():\n",
    "    if (row['item_size']<46 and row['item_size'] >=0 ):\n",
    "        df.loc[col,\"item_size\"]= row[\"item_size\"]*2.54\n",
    "    else:\n",
    "        df.loc[col,\"item_size\"]= row[\"item_size\"]"
   ]
  },
  {
   "cell_type": "markdown",
   "metadata": {},
   "source": [
    "        Next, attribute we deal with is user_dob"
   ]
  },
  {
   "cell_type": "markdown",
   "metadata": {},
   "source": [
    "            Checking the columns Value_counts "
   ]
  },
  {
   "cell_type": "code",
   "execution_count": 175,
   "metadata": {},
   "outputs": [
    {
     "data": {
      "text/plain": [
       "21-11-1900    713\n",
       "21-11-1949    427\n",
       "10-06-1965    153\n",
       "11-12-1980     89\n",
       "20-09-1968     82\n",
       "             ... \n",
       "17-09-1962      1\n",
       "30-12-1975      1\n",
       "05-09-1983      1\n",
       "07-10-1957      1\n",
       "15-10-1970      1\n",
       "Name: user_dob, Length: 9007, dtype: int64"
      ]
     },
     "execution_count": 175,
     "metadata": {},
     "output_type": "execute_result"
    }
   ],
   "source": [
    "df['user_dob'].value_counts()"
   ]
  },
  {
   "cell_type": "code",
   "execution_count": 176,
   "metadata": {},
   "outputs": [
    {
     "data": {
      "text/plain": [
       "dtype('O')"
      ]
     },
     "execution_count": 176,
     "metadata": {},
     "output_type": "execute_result"
    }
   ],
   "source": [
    "df['user_dob'].dtype"
   ]
  },
  {
   "cell_type": "markdown",
   "metadata": {},
   "source": [
    "            changing user dob to str bcoz this have to fill the most frequent value"
   ]
  },
  {
   "cell_type": "code",
   "execution_count": 177,
   "metadata": {},
   "outputs": [],
   "source": [
    "df['user_dob'] =df['user_dob'].astype(str)\n",
    "df['user_dob'] = df['user_dob'].str.replace('nan','10-06-1965', regex = False)"
   ]
  },
  {
   "cell_type": "markdown",
   "metadata": {},
   "source": [
    "            Checking for Null values finally"
   ]
  },
  {
   "cell_type": "code",
   "execution_count": 178,
   "metadata": {},
   "outputs": [
    {
     "data": {
      "text/plain": [
       "order_item_id           0\n",
       "order_date              0\n",
       "delivery_date           0\n",
       "item_id                 0\n",
       "item_size               0\n",
       "item_color              0\n",
       "brand_id                0\n",
       "item_price              0\n",
       "user_id                 0\n",
       "user_title              0\n",
       "user_dob                0\n",
       "user_state              0\n",
       "user_reg_date           0\n",
       "return                  0\n",
       "counts                  0\n",
       "day_of_order            0\n",
       "delieverday_of_order    0\n",
       "No_of_d_t_R             0\n",
       "dtype: int64"
      ]
     },
     "execution_count": 178,
     "metadata": {},
     "output_type": "execute_result"
    }
   ],
   "source": [
    "df.isnull().sum()"
   ]
  },
  {
   "cell_type": "markdown",
   "metadata": {},
   "source": [
    "        Changing user dob and user-reg-date to data time time"
   ]
  },
  {
   "cell_type": "code",
   "execution_count": 179,
   "metadata": {},
   "outputs": [],
   "source": [
    "df['user_dob'] = pd.to_datetime(df['user_dob'])\n",
    "df['user_reg_date'] = pd.to_datetime(df['user_reg_date'])"
   ]
  },
  {
   "cell_type": "markdown",
   "metadata": {},
   "source": [
    "         Deal with Item_colours "
   ]
  },
  {
   "cell_type": "code",
   "execution_count": 180,
   "metadata": {},
   "outputs": [
    {
     "data": {
      "text/plain": [
       "array(['navy', 'grey', 'brown', 'black', 'bordeaux', 'white', 'purple',\n",
       "       'magenta', 'stained', 'blue', 'red', 'olive', 'ocher', 'ash',\n",
       "       'khaki', 'nature', 'denim', 'curry', 'beige', 'turquoise', 'green',\n",
       "       'anthracite', 'yellow', 'berry', 'petrol', 'brwon', 'dark denim',\n",
       "       'hibiscus', 'mango', 'azure', 'mocca', 'aubergine', 'ecru', 'gold',\n",
       "       'orange', 'silver', 'darkblue', 'mint', 'pink', 'copper coin',\n",
       "       'jade', 'cobalt blue', 'blau', 'aqua', 'aviator', 'champagner',\n",
       "       'apricot', 'cognac', 'fuchsia', 'pallid', 'aquamarine',\n",
       "       'terracotta', 'ancient', 'ivory', 'curled', 'coral', 'baltic blue',\n",
       "       'basalt', 'floral', 'creme', 'mahagoni', 'dark garnet', 'striped',\n",
       "       '?', 'dark oliv', 'habana', 'dark navy', 'antique pink',\n",
       "       'dark grey', 'amethyst', 'currant purple', 'kanel', 'ebony',\n",
       "       'almond', 'avocado', 'caramel', 'opal'], dtype=object)"
      ]
     },
     "execution_count": 180,
     "metadata": {},
     "output_type": "execute_result"
    }
   ],
   "source": [
    "df.item_color.unique()"
   ]
  },
  {
   "cell_type": "markdown",
   "metadata": {},
   "source": [
    "        On, Analysis some of the names are miss spelled "
   ]
  },
  {
   "cell_type": "code",
   "execution_count": 181,
   "metadata": {},
   "outputs": [],
   "source": [
    "df.loc[df['item_color'] == 'blau', 'item_color'] = 'blue'\n",
    "df.loc[df['item_color'] == 'brwon', 'item_color'] = 'brown'\n",
    "df.loc[df['item_color'] == 'oliv', 'item_color'] = 'olive'"
   ]
  },
  {
   "cell_type": "markdown",
   "metadata": {},
   "source": [
    "            Item colour have ? which is null values fill with the most frequent"
   ]
  },
  {
   "cell_type": "code",
   "execution_count": 182,
   "metadata": {},
   "outputs": [],
   "source": [
    "# most frequency\n",
    "df.loc[df['item_color'] == '?', 'item_color'] = 'black'"
   ]
  },
  {
   "cell_type": "markdown",
   "metadata": {},
   "source": [
    "        Feature Enginering"
   ]
  },
  {
   "cell_type": "markdown",
   "metadata": {},
   "source": [
    "            Here we dervive customer age when he ordered"
   ]
  },
  {
   "cell_type": "markdown",
   "metadata": {},
   "source": [
    "        df['CAge']=Customer age when he ordered the product"
   ]
  },
  {
   "cell_type": "code",
   "execution_count": 183,
   "metadata": {},
   "outputs": [],
   "source": [
    "df['CAge'] = (((df['user_dob'] - df['order_date']).dt.days).abs())//365"
   ]
  },
  {
   "cell_type": "markdown",
   "metadata": {},
   "source": [
    "            we just binned the age of the customer depends upon the age whether he is child, teenager,young_adult"
   ]
  },
  {
   "cell_type": "code",
   "execution_count": 184,
   "metadata": {},
   "outputs": [],
   "source": [
    "bins=[0,12,19,30,60,116]\n",
    "group=['child','Teen_ager','Young_adult','Middle_aged','Senior_citizen']\n",
    "df['CAge']=pd.cut(df['CAge'],bins,labels=group)"
   ]
  },
  {
   "cell_type": "markdown",
   "metadata": {},
   "source": [
    "             df['AC'] means age of customer with client in days we get subtarct the df['user_reg_date'] by df['order_date'] "
   ]
  },
  {
   "cell_type": "code",
   "execution_count": 185,
   "metadata": {},
   "outputs": [],
   "source": [
    "df['AC']=((df['user_reg_date'] - df['order_date']).dt.days).abs()"
   ]
  },
  {
   "cell_type": "markdown",
   "metadata": {},
   "source": [
    "        Here, and we already  derived the features from the columns then 'user_dob','user_reg_date','order_date','delivery_date','order_item_id' attributes the above attributes dropped  "
   ]
  },
  {
   "cell_type": "code",
   "execution_count": 186,
   "metadata": {},
   "outputs": [],
   "source": [
    "df=df.drop(columns=['user_dob','user_reg_date','order_date','delivery_date','order_item_id'])"
   ]
  },
  {
   "cell_type": "markdown",
   "metadata": {},
   "source": [
    "        Now, We deal with return attribute"
   ]
  },
  {
   "cell_type": "code",
   "execution_count": 187,
   "metadata": {},
   "outputs": [
    {
     "data": {
      "application/javascript": [
       "\n",
       "        if (window._pyforest_update_imports_cell) { window._pyforest_update_imports_cell('import numpy as np\\nimport matplotlib.pyplot as plt\\nimport pandas as pd\\nimport seaborn as sns'); }\n",
       "    "
      ],
      "text/plain": [
       "<IPython.core.display.Javascript object>"
      ]
     },
     "metadata": {},
     "output_type": "display_data"
    },
    {
     "data": {
      "text/plain": [
       "<AxesSubplot:xlabel='return', ylabel='count'>"
      ]
     },
     "execution_count": 187,
     "metadata": {},
     "output_type": "execute_result"
    },
    {
     "data": {
      "image/png": "[encoded data removed]",
      "text/plain": [
       "<Figure size 360x288 with 1 Axes>"
      ]
     },
     "metadata": {
      "needs_background": "light"
     },
     "output_type": "display_data"
    }
   ],
   "source": [
    "plt.figure(figsize=(5,4))\n",
    "plt.subplot(121)\n",
    "sns.countplot(df['return'])"
   ]
  },
  {
   "cell_type": "code",
   "execution_count": 188,
   "metadata": {},
   "outputs": [
    {
     "data": {
      "text/plain": [
       "0    0.54141\n",
       "1    0.45859\n",
       "Name: return, dtype: float64"
      ]
     },
     "execution_count": 188,
     "metadata": {},
     "output_type": "execute_result"
    }
   ],
   "source": [
    "df['return'].value_counts(normalize=True)"
   ]
  },
  {
   "cell_type": "markdown",
   "metadata": {},
   "source": [
    "        Here return column is mostly the balanced data set"
   ]
  },
  {
   "cell_type": "code",
   "execution_count": 189,
   "metadata": {},
   "outputs": [
    {
     "data": {
      "application/javascript": [
       "\n",
       "        if (window._pyforest_update_imports_cell) { window._pyforest_update_imports_cell('import numpy as np\\nimport matplotlib.pyplot as plt\\nimport pandas as pd\\nimport seaborn as sns'); }\n",
       "    "
      ],
      "text/plain": [
       "<IPython.core.display.Javascript object>"
      ]
     },
     "metadata": {},
     "output_type": "display_data"
    },
    {
     "data": {
      "text/plain": [
       "<seaborn.axisgrid.PairGrid at 0x1bc3290deb0>"
      ]
     },
     "execution_count": 189,
     "metadata": {},
     "output_type": "execute_result"
    },
    {
     "data": {
      "image/png": "[encoded data removed]",
      "text/plain": [
       "<Figure size 582.375x540 with 12 Axes>"
      ]
     },
     "metadata": {
      "needs_background": "light"
     },
     "output_type": "display_data"
    }
   ],
   "source": [
    "sns.pairplot(df[['item_id','brand_id','return','item_price']], hue = 'return')"
   ]
  },
  {
   "cell_type": "markdown",
   "metadata": {},
   "source": [
    "    To check Skewness for given data set:\n",
    "        Skewness\n",
    " \n",
    "      is a measure of symmetry, or more precisely, the lackof symmetry. A distribution, or data set, is symmetric if it looks the same to the left and right of the center point. if skewness is between -1 to 1 then we can tell it as Normal diturbution "
   ]
  },
  {
   "cell_type": "code",
   "execution_count": 190,
   "metadata": {},
   "outputs": [
    {
     "data": {
      "text/plain": [
       "item_id         0.076135\n",
       "item_size      30.348769\n",
       "brand_id        1.256858\n",
       "item_price      1.790436\n",
       "user_id        -0.376819\n",
       "user_state     -0.003104\n",
       "return          0.166213\n",
       "counts          4.603568\n",
       "No_of_d_t_R     9.496156\n",
       "AC              0.122580\n",
       "dtype: float64"
      ]
     },
     "execution_count": 190,
     "metadata": {},
     "output_type": "execute_result"
    }
   ],
   "source": [
    "df.skew()"
   ]
  },
  {
   "cell_type": "markdown",
   "metadata": {},
   "source": [
    "        We underatand that item_size, brand id,No_of_d_t_R have the positive skewness"
   ]
  },
  {
   "cell_type": "code",
   "execution_count": 191,
   "metadata": {},
   "outputs": [
    {
     "data": {
      "application/javascript": [
       "\n",
       "        if (window._pyforest_update_imports_cell) { window._pyforest_update_imports_cell('import numpy as np\\nimport matplotlib.pyplot as plt\\nimport pandas as pd\\nimport seaborn as sns'); }\n",
       "    "
      ],
      "text/plain": [
       "<IPython.core.display.Javascript object>"
      ]
     },
     "metadata": {},
     "output_type": "display_data"
    },
    {
     "data": {
      "image/png": "[encoded data removed]",
      "text/plain": [
       "<Figure size 432x288 with 1 Axes>"
      ]
     },
     "metadata": {
      "needs_background": "light"
     },
     "output_type": "display_data"
    }
   ],
   "source": [
    "sns.distplot(df.item_size)\n",
    "plt.show()"
   ]
  },
  {
   "cell_type": "code",
   "execution_count": 192,
   "metadata": {},
   "outputs": [
    {
     "data": {
      "application/javascript": [
       "\n",
       "        if (window._pyforest_update_imports_cell) { window._pyforest_update_imports_cell('import numpy as np\\nimport matplotlib.pyplot as plt\\nimport pandas as pd\\nimport seaborn as sns'); }\n",
       "    "
      ],
      "text/plain": [
       "<IPython.core.display.Javascript object>"
      ]
     },
     "metadata": {},
     "output_type": "display_data"
    },
    {
     "data": {
      "image/png": "[encoded data removed]",
      "text/plain": [
       "<Figure size 432x288 with 1 Axes>"
      ]
     },
     "metadata": {
      "needs_background": "light"
     },
     "output_type": "display_data"
    }
   ],
   "source": [
    "sns.distplot(df.item_price)\n",
    "plt.title('distplot')\n",
    "plt.show()"
   ]
  },
  {
   "cell_type": "code",
   "execution_count": 193,
   "metadata": {},
   "outputs": [
    {
     "data": {
      "application/javascript": [
       "\n",
       "        if (window._pyforest_update_imports_cell) { window._pyforest_update_imports_cell('import numpy as np\\nimport matplotlib.pyplot as plt\\nimport pandas as pd\\nimport seaborn as sns'); }\n",
       "    "
      ],
      "text/plain": [
       "<IPython.core.display.Javascript object>"
      ]
     },
     "metadata": {},
     "output_type": "display_data"
    },
    {
     "data": {
      "image/png": "[encoded data removed]",
      "text/plain": [
       "<Figure size 432x288 with 1 Axes>"
      ]
     },
     "metadata": {
      "needs_background": "light"
     },
     "output_type": "display_data"
    },
    {
     "data": {
      "application/javascript": [
       "\n",
       "        if (window._pyforest_update_imports_cell) { window._pyforest_update_imports_cell('import numpy as np\\nimport matplotlib.pyplot as plt\\nimport pandas as pd\\nimport seaborn as sns'); }\n",
       "    "
      ],
      "text/plain": [
       "<IPython.core.display.Javascript object>"
      ]
     },
     "metadata": {},
     "output_type": "display_data"
    },
    {
     "data": {
      "image/png": "[encoded data removed]",
      "text/plain": [
       "<Figure size 432x288 with 1 Axes>"
      ]
     },
     "metadata": {
      "needs_background": "light"
     },
     "output_type": "display_data"
    }
   ],
   "source": [
    "sns.boxplot(df.item_size)\n",
    "plt.title('Boxplot')\n",
    "plt.show()\n",
    "sns.boxplot(df.item_price)\n",
    "plt.title('Boxplot')\n",
    "plt.show()"
   ]
  },
  {
   "cell_type": "code",
   "execution_count": 194,
   "metadata": {},
   "outputs": [
    {
     "data": {
      "text/plain": [
       "({'item_size': -68.79641833369031, 'item_price': -6.505136368423678},\n",
       " {'item_size': 262.50583730916077, 'item_price': 136.6821788351573})"
      ]
     },
     "execution_count": 194,
     "metadata": {},
     "output_type": "execute_result"
    }
   ],
   "source": [
    "from feature_engine.outliers import Winsorizer\n",
    "windsoriser = Winsorizer(capping_method='gaussian', # choose skewed for IQR rule boundaries or gaussian for mean and std\n",
    "                          tail='both', # cap left, right or both tails \n",
    "                          fold=1.5,\n",
    "                          variables=['item_size','item_price'])\n",
    "                         \n",
    "df[['item_size','item_price']]= windsoriser.fit_transform(df[['item_size','item_price']])\n",
    "\n",
    "windsoriser.left_tail_caps_, windsoriser.right_tail_caps_ "
   ]
  },
  {
   "cell_type": "code",
   "execution_count": 195,
   "metadata": {},
   "outputs": [
    {
     "data": {
      "application/javascript": [
       "\n",
       "        if (window._pyforest_update_imports_cell) { window._pyforest_update_imports_cell('import numpy as np\\nimport matplotlib.pyplot as plt\\nimport pandas as pd\\nimport seaborn as sns'); }\n",
       "    "
      ],
      "text/plain": [
       "<IPython.core.display.Javascript object>"
      ]
     },
     "metadata": {},
     "output_type": "display_data"
    },
    {
     "data": {
      "image/png": "[encoded data removed]",
      "text/plain": [
       "<Figure size 432x288 with 1 Axes>"
      ]
     },
     "metadata": {
      "needs_background": "light"
     },
     "output_type": "display_data"
    },
    {
     "data": {
      "application/javascript": [
       "\n",
       "        if (window._pyforest_update_imports_cell) { window._pyforest_update_imports_cell('import numpy as np\\nimport matplotlib.pyplot as plt\\nimport pandas as pd\\nimport seaborn as sns'); }\n",
       "    "
      ],
      "text/plain": [
       "<IPython.core.display.Javascript object>"
      ]
     },
     "metadata": {},
     "output_type": "display_data"
    },
    {
     "data": {
      "image/png": "[encoded data removed]",
      "text/plain": [
       "<Figure size 432x288 with 1 Axes>"
      ]
     },
     "metadata": {
      "needs_background": "light"
     },
     "output_type": "display_data"
    }
   ],
   "source": [
    "sns.boxplot(df.item_size)\n",
    "plt.title('Boxplot')\n",
    "plt.show()\n",
    "sns.boxplot(df.item_price)\n",
    "plt.title('Boxplot')\n",
    "plt.show()"
   ]
  },
  {
   "cell_type": "code",
   "execution_count": 196,
   "metadata": {},
   "outputs": [
    {
     "data": {
      "text/html": [
       "<div>\n",
       "<style scoped>\n",
       "    .dataframe tbody tr th:only-of-type {\n",
       "        vertical-align: middle;\n",
       "    }\n",
       "\n",
       "    .dataframe tbody tr th {\n",
       "        vertical-align: top;\n",
       "    }\n",
       "\n",
       "    .dataframe thead th {\n",
       "        text-align: right;\n",
       "    }\n",
       "</style>\n",
       "<table border=\"1\" class=\"dataframe\">\n",
       "  <thead>\n",
       "    <tr style=\"text-align: right;\">\n",
       "      <th></th>\n",
       "      <th>item_id</th>\n",
       "      <th>item_size</th>\n",
       "      <th>item_color</th>\n",
       "      <th>brand_id</th>\n",
       "      <th>item_price</th>\n",
       "      <th>user_id</th>\n",
       "      <th>user_title</th>\n",
       "      <th>user_state</th>\n",
       "      <th>return</th>\n",
       "      <th>counts</th>\n",
       "      <th>day_of_order</th>\n",
       "      <th>delieverday_of_order</th>\n",
       "      <th>No_of_d_t_R</th>\n",
       "      <th>CAge</th>\n",
       "      <th>AC</th>\n",
       "    </tr>\n",
       "  </thead>\n",
       "  <tbody>\n",
       "    <tr>\n",
       "      <th>0</th>\n",
       "      <td>643</td>\n",
       "      <td>96.52</td>\n",
       "      <td>navy</td>\n",
       "      <td>30</td>\n",
       "      <td>49.9</td>\n",
       "      <td>30822</td>\n",
       "      <td>Female</td>\n",
       "      <td>1013</td>\n",
       "      <td>0</td>\n",
       "      <td>3</td>\n",
       "      <td>Wednesday</td>\n",
       "      <td>Wednesday</td>\n",
       "      <td>5</td>\n",
       "      <td>Middle_aged</td>\n",
       "      <td>1</td>\n",
       "    </tr>\n",
       "    <tr>\n",
       "      <th>1</th>\n",
       "      <td>195</td>\n",
       "      <td>112.00</td>\n",
       "      <td>grey</td>\n",
       "      <td>46</td>\n",
       "      <td>19.9</td>\n",
       "      <td>30823</td>\n",
       "      <td>Female</td>\n",
       "      <td>1001</td>\n",
       "      <td>1</td>\n",
       "      <td>17</td>\n",
       "      <td>Wednesday</td>\n",
       "      <td>Wednesday</td>\n",
       "      <td>5</td>\n",
       "      <td>Middle_aged</td>\n",
       "      <td>465</td>\n",
       "    </tr>\n",
       "    <tr>\n",
       "      <th>2</th>\n",
       "      <td>25</td>\n",
       "      <td>112.00</td>\n",
       "      <td>grey</td>\n",
       "      <td>5</td>\n",
       "      <td>79.9</td>\n",
       "      <td>30823</td>\n",
       "      <td>Female</td>\n",
       "      <td>1001</td>\n",
       "      <td>0</td>\n",
       "      <td>17</td>\n",
       "      <td>Wednesday</td>\n",
       "      <td>Wednesday</td>\n",
       "      <td>46</td>\n",
       "      <td>Middle_aged</td>\n",
       "      <td>465</td>\n",
       "    </tr>\n",
       "    <tr>\n",
       "      <th>3</th>\n",
       "      <td>173</td>\n",
       "      <td>96.00</td>\n",
       "      <td>brown</td>\n",
       "      <td>20</td>\n",
       "      <td>19.9</td>\n",
       "      <td>17234</td>\n",
       "      <td>Female</td>\n",
       "      <td>1013</td>\n",
       "      <td>0</td>\n",
       "      <td>14</td>\n",
       "      <td>Thursday</td>\n",
       "      <td>Thursday</td>\n",
       "      <td>3</td>\n",
       "      <td>Middle_aged</td>\n",
       "      <td>492</td>\n",
       "    </tr>\n",
       "    <tr>\n",
       "      <th>4</th>\n",
       "      <td>394</td>\n",
       "      <td>101.60</td>\n",
       "      <td>black</td>\n",
       "      <td>44</td>\n",
       "      <td>90.0</td>\n",
       "      <td>30827</td>\n",
       "      <td>Female</td>\n",
       "      <td>1006</td>\n",
       "      <td>1</td>\n",
       "      <td>2</td>\n",
       "      <td>Thursday</td>\n",
       "      <td>Thursday</td>\n",
       "      <td>3</td>\n",
       "      <td>Middle_aged</td>\n",
       "      <td>71</td>\n",
       "    </tr>\n",
       "    <tr>\n",
       "      <th>...</th>\n",
       "      <td>...</td>\n",
       "      <td>...</td>\n",
       "      <td>...</td>\n",
       "      <td>...</td>\n",
       "      <td>...</td>\n",
       "      <td>...</td>\n",
       "      <td>...</td>\n",
       "      <td>...</td>\n",
       "      <td>...</td>\n",
       "      <td>...</td>\n",
       "      <td>...</td>\n",
       "      <td>...</td>\n",
       "      <td>...</td>\n",
       "      <td>...</td>\n",
       "      <td>...</td>\n",
       "    </tr>\n",
       "    <tr>\n",
       "      <th>79940</th>\n",
       "      <td>39</td>\n",
       "      <td>104.14</td>\n",
       "      <td>blue</td>\n",
       "      <td>26</td>\n",
       "      <td>89.9</td>\n",
       "      <td>48232</td>\n",
       "      <td>Female</td>\n",
       "      <td>1007</td>\n",
       "      <td>1</td>\n",
       "      <td>2</td>\n",
       "      <td>Wednesday</td>\n",
       "      <td>Wednesday</td>\n",
       "      <td>30</td>\n",
       "      <td>Senior_citizen</td>\n",
       "      <td>30</td>\n",
       "    </tr>\n",
       "    <tr>\n",
       "      <th>79941</th>\n",
       "      <td>1498</td>\n",
       "      <td>106.68</td>\n",
       "      <td>green</td>\n",
       "      <td>6</td>\n",
       "      <td>59.9</td>\n",
       "      <td>48234</td>\n",
       "      <td>Female</td>\n",
       "      <td>1007</td>\n",
       "      <td>0</td>\n",
       "      <td>10</td>\n",
       "      <td>Wednesday</td>\n",
       "      <td>Wednesday</td>\n",
       "      <td>2</td>\n",
       "      <td>Middle_aged</td>\n",
       "      <td>30</td>\n",
       "    </tr>\n",
       "    <tr>\n",
       "      <th>79942</th>\n",
       "      <td>1806</td>\n",
       "      <td>50.00</td>\n",
       "      <td>brown</td>\n",
       "      <td>110</td>\n",
       "      <td>16.9</td>\n",
       "      <td>48240</td>\n",
       "      <td>Male</td>\n",
       "      <td>1010</td>\n",
       "      <td>0</td>\n",
       "      <td>4</td>\n",
       "      <td>Wednesday</td>\n",
       "      <td>Wednesday</td>\n",
       "      <td>30</td>\n",
       "      <td>Middle_aged</td>\n",
       "      <td>631</td>\n",
       "    </tr>\n",
       "    <tr>\n",
       "      <th>79943</th>\n",
       "      <td>1530</td>\n",
       "      <td>101.00</td>\n",
       "      <td>black</td>\n",
       "      <td>56</td>\n",
       "      <td>79.9</td>\n",
       "      <td>12130</td>\n",
       "      <td>Female</td>\n",
       "      <td>1008</td>\n",
       "      <td>0</td>\n",
       "      <td>6</td>\n",
       "      <td>Wednesday</td>\n",
       "      <td>Wednesday</td>\n",
       "      <td>30</td>\n",
       "      <td>Middle_aged</td>\n",
       "      <td>294</td>\n",
       "    </tr>\n",
       "    <tr>\n",
       "      <th>79944</th>\n",
       "      <td>156</td>\n",
       "      <td>50.80</td>\n",
       "      <td>brown</td>\n",
       "      <td>34</td>\n",
       "      <td>29.9</td>\n",
       "      <td>713</td>\n",
       "      <td>Female</td>\n",
       "      <td>1011</td>\n",
       "      <td>0</td>\n",
       "      <td>1</td>\n",
       "      <td>Wednesday</td>\n",
       "      <td>Wednesday</td>\n",
       "      <td>30</td>\n",
       "      <td>Middle_aged</td>\n",
       "      <td>631</td>\n",
       "    </tr>\n",
       "  </tbody>\n",
       "</table>\n",
       "<p>79945 rows × 15 columns</p>\n",
       "</div>"
      ],
      "text/plain": [
       "       item_id  item_size item_color  brand_id  item_price  user_id  \\\n",
       "0          643      96.52       navy        30        49.9    30822   \n",
       "1          195     112.00       grey        46        19.9    30823   \n",
       "2           25     112.00       grey         5        79.9    30823   \n",
       "3          173      96.00      brown        20        19.9    17234   \n",
       "4          394     101.60      black        44        90.0    30827   \n",
       "...        ...        ...        ...       ...         ...      ...   \n",
       "79940       39     104.14       blue        26        89.9    48232   \n",
       "79941     1498     106.68      green         6        59.9    48234   \n",
       "79942     1806      50.00      brown       110        16.9    48240   \n",
       "79943     1530     101.00      black        56        79.9    12130   \n",
       "79944      156      50.80      brown        34        29.9      713   \n",
       "\n",
       "      user_title  user_state  return  counts day_of_order  \\\n",
       "0         Female        1013       0       3    Wednesday   \n",
       "1         Female        1001       1      17    Wednesday   \n",
       "2         Female        1001       0      17    Wednesday   \n",
       "3         Female        1013       0      14     Thursday   \n",
       "4         Female        1006       1       2     Thursday   \n",
       "...          ...         ...     ...     ...          ...   \n",
       "79940     Female        1007       1       2    Wednesday   \n",
       "79941     Female        1007       0      10    Wednesday   \n",
       "79942       Male        1010       0       4    Wednesday   \n",
       "79943     Female        1008       0       6    Wednesday   \n",
       "79944     Female        1011       0       1    Wednesday   \n",
       "\n",
       "      delieverday_of_order  No_of_d_t_R            CAge   AC  \n",
       "0                Wednesday            5     Middle_aged    1  \n",
       "1                Wednesday            5     Middle_aged  465  \n",
       "2                Wednesday           46     Middle_aged  465  \n",
       "3                 Thursday            3     Middle_aged  492  \n",
       "4                 Thursday            3     Middle_aged   71  \n",
       "...                    ...          ...             ...  ...  \n",
       "79940            Wednesday           30  Senior_citizen   30  \n",
       "79941            Wednesday            2     Middle_aged   30  \n",
       "79942            Wednesday           30     Middle_aged  631  \n",
       "79943            Wednesday           30     Middle_aged  294  \n",
       "79944            Wednesday           30     Middle_aged  631  \n",
       "\n",
       "[79945 rows x 15 columns]"
      ]
     },
     "execution_count": 196,
     "metadata": {},
     "output_type": "execute_result"
    }
   ],
   "source": [
    "df"
   ]
  },
  {
   "cell_type": "code",
   "execution_count": 197,
   "metadata": {},
   "outputs": [],
   "source": [
    "X=df[['item_color','user_title','day_of_order','delieverday_of_order','CAge']]\n",
    "Y=df['return']"
   ]
  },
  {
   "cell_type": "code",
   "execution_count": 198,
   "metadata": {},
   "outputs": [
    {
     "name": "stdout",
     "output_type": "stream",
     "text": [
      "H0 : Assume there is no dependence between two variable\n",
      "H1 : Assume there is dependence between two variable\n"
     ]
    },
    {
     "data": {
      "text/html": [
       "<div>\n",
       "<style scoped>\n",
       "    .dataframe tbody tr th:only-of-type {\n",
       "        vertical-align: middle;\n",
       "    }\n",
       "\n",
       "    .dataframe tbody tr th {\n",
       "        vertical-align: top;\n",
       "    }\n",
       "\n",
       "    .dataframe thead th {\n",
       "        text-align: right;\n",
       "    }\n",
       "</style>\n",
       "<table border=\"1\" class=\"dataframe\">\n",
       "  <thead>\n",
       "    <tr style=\"text-align: right;\">\n",
       "      <th></th>\n",
       "      <th>variable 1</th>\n",
       "      <th>variable 2</th>\n",
       "      <th>Chi2 Value</th>\n",
       "      <th>DOF</th>\n",
       "      <th>P Value</th>\n",
       "      <th>Decison (5% LOS)</th>\n",
       "      <th>Null Hypothesis</th>\n",
       "    </tr>\n",
       "  </thead>\n",
       "  <tbody>\n",
       "    <tr>\n",
       "      <th>0</th>\n",
       "      <td>item_color</td>\n",
       "      <td>return</td>\n",
       "      <td>621.525</td>\n",
       "      <td>73</td>\n",
       "      <td>6.03212e-88</td>\n",
       "      <td>Dependent</td>\n",
       "      <td>Rejected</td>\n",
       "    </tr>\n",
       "    <tr>\n",
       "      <th>1</th>\n",
       "      <td>user_title</td>\n",
       "      <td>return</td>\n",
       "      <td>32.8875</td>\n",
       "      <td>3</td>\n",
       "      <td>3.40159e-07</td>\n",
       "      <td>Dependent</td>\n",
       "      <td>Rejected</td>\n",
       "    </tr>\n",
       "    <tr>\n",
       "      <th>2</th>\n",
       "      <td>day_of_order</td>\n",
       "      <td>return</td>\n",
       "      <td>109.683</td>\n",
       "      <td>6</td>\n",
       "      <td>2.3749e-21</td>\n",
       "      <td>Dependent</td>\n",
       "      <td>Rejected</td>\n",
       "    </tr>\n",
       "    <tr>\n",
       "      <th>3</th>\n",
       "      <td>delieverday_of_order</td>\n",
       "      <td>return</td>\n",
       "      <td>109.683</td>\n",
       "      <td>6</td>\n",
       "      <td>2.3749e-21</td>\n",
       "      <td>Dependent</td>\n",
       "      <td>Rejected</td>\n",
       "    </tr>\n",
       "    <tr>\n",
       "      <th>4</th>\n",
       "      <td>CAge</td>\n",
       "      <td>return</td>\n",
       "      <td>99.8911</td>\n",
       "      <td>4</td>\n",
       "      <td>1.03761e-20</td>\n",
       "      <td>Dependent</td>\n",
       "      <td>Rejected</td>\n",
       "    </tr>\n",
       "  </tbody>\n",
       "</table>\n",
       "</div>"
      ],
      "text/plain": [
       "             variable 1 variable 2 Chi2 Value DOF      P Value  \\\n",
       "0            item_color     return    621.525  73  6.03212e-88   \n",
       "1            user_title     return    32.8875   3  3.40159e-07   \n",
       "2          day_of_order     return    109.683   6   2.3749e-21   \n",
       "3  delieverday_of_order     return    109.683   6   2.3749e-21   \n",
       "4                  CAge     return    99.8911   4  1.03761e-20   \n",
       "\n",
       "  Decison (5% LOS) Null Hypothesis  \n",
       "0        Dependent        Rejected  \n",
       "1        Dependent        Rejected  \n",
       "2        Dependent        Rejected  \n",
       "3        Dependent        Rejected  \n",
       "4        Dependent        Rejected  "
      ]
     },
     "execution_count": 198,
     "metadata": {},
     "output_type": "execute_result"
    }
   ],
   "source": [
    "from scipy import stats\n",
    "print(\"H0 : Assume there is no dependence between two variable\")\n",
    "print(\"H1 : Assume there is dependence between two variable\")\n",
    "var1 = []\n",
    "var2 = []\n",
    "chi2 = []\n",
    "df = []\n",
    "p = []\n",
    "d = [] \n",
    "h = []\n",
    "\n",
    "for i in ['item_color','user_title','day_of_order','delieverday_of_order','CAge']:\n",
    "            cross_tab = pd.crosstab(X[str(i)],Y)\n",
    "            chi2_stat, p_val, dof, ex = stats.chi2_contingency(cross_tab)\n",
    "            var1.append(i)\n",
    "            var2.append('return')\n",
    "            chi2.append(chi2_stat)\n",
    "            df.append(dof)\n",
    "            p.append(p_val)\n",
    "            if p_val > 0.05:\n",
    "                d.append('Independent')\n",
    "                h.append('Accepted')\n",
    "            else:\n",
    "                d.append('Dependent')\n",
    "                h.append('Rejected')\n",
    "a = pd.DataFrame([var1,var2,chi2,df,p,d,h],index=['variable 1','variable 2','Chi2 Value','DOF','P Value','Decison (5% LOS)','Null Hypothesis']).T\n",
    "a"
   ]
  },
  {
   "cell_type": "code",
   "execution_count": 124,
   "metadata": {},
   "outputs": [],
   "source": [
    "from sklearn.model_selection import train_test_split\n",
    "x,y = train_test_split(df,test_size = 0.15, random_state=101)"
   ]
  },
  {
   "cell_type": "code",
   "execution_count": 125,
   "metadata": {},
   "outputs": [
    {
     "data": {
      "text/html": [
       "<style  type=\"text/css\" >\n",
       "#T_c076d61c_0958_11ec_a8f0_30e37a1c1f55row31_col1,#T_c076d61c_0958_11ec_a8f0_30e37a1c1f55row44_col1,#T_c076d61c_0958_11ec_a8f0_30e37a1c1f55row45_col1,#T_c076d61c_0958_11ec_a8f0_30e37a1c1f55row52_col1,#T_c076d61c_0958_11ec_a8f0_30e37a1c1f55row58_col1{\n",
       "            background-color:  lightgreen;\n",
       "        }</style><table id=\"T_c076d61c_0958_11ec_a8f0_30e37a1c1f55\" ><thead>    <tr>        <th class=\"blank level0\" ></th>        <th class=\"col_heading level0 col0\" >Description</th>        <th class=\"col_heading level0 col1\" >Value</th>    </tr></thead><tbody>\n",
       "                <tr>\n",
       "                        <th id=\"T_c076d61c_0958_11ec_a8f0_30e37a1c1f55level0_row0\" class=\"row_heading level0 row0\" >0</th>\n",
       "                        <td id=\"T_c076d61c_0958_11ec_a8f0_30e37a1c1f55row0_col0\" class=\"data row0 col0\" >session_id</td>\n",
       "                        <td id=\"T_c076d61c_0958_11ec_a8f0_30e37a1c1f55row0_col1\" class=\"data row0 col1\" >123</td>\n",
       "            </tr>\n",
       "            <tr>\n",
       "                        <th id=\"T_c076d61c_0958_11ec_a8f0_30e37a1c1f55level0_row1\" class=\"row_heading level0 row1\" >1</th>\n",
       "                        <td id=\"T_c076d61c_0958_11ec_a8f0_30e37a1c1f55row1_col0\" class=\"data row1 col0\" >Target</td>\n",
       "                        <td id=\"T_c076d61c_0958_11ec_a8f0_30e37a1c1f55row1_col1\" class=\"data row1 col1\" >return</td>\n",
       "            </tr>\n",
       "            <tr>\n",
       "                        <th id=\"T_c076d61c_0958_11ec_a8f0_30e37a1c1f55level0_row2\" class=\"row_heading level0 row2\" >2</th>\n",
       "                        <td id=\"T_c076d61c_0958_11ec_a8f0_30e37a1c1f55row2_col0\" class=\"data row2 col0\" >Target Type</td>\n",
       "                        <td id=\"T_c076d61c_0958_11ec_a8f0_30e37a1c1f55row2_col1\" class=\"data row2 col1\" >Binary</td>\n",
       "            </tr>\n",
       "            <tr>\n",
       "                        <th id=\"T_c076d61c_0958_11ec_a8f0_30e37a1c1f55level0_row3\" class=\"row_heading level0 row3\" >3</th>\n",
       "                        <td id=\"T_c076d61c_0958_11ec_a8f0_30e37a1c1f55row3_col0\" class=\"data row3 col0\" >Label Encoded</td>\n",
       "                        <td id=\"T_c076d61c_0958_11ec_a8f0_30e37a1c1f55row3_col1\" class=\"data row3 col1\" >0: 0, 1: 1</td>\n",
       "            </tr>\n",
       "            <tr>\n",
       "                        <th id=\"T_c076d61c_0958_11ec_a8f0_30e37a1c1f55level0_row4\" class=\"row_heading level0 row4\" >4</th>\n",
       "                        <td id=\"T_c076d61c_0958_11ec_a8f0_30e37a1c1f55row4_col0\" class=\"data row4 col0\" >Original Data</td>\n",
       "                        <td id=\"T_c076d61c_0958_11ec_a8f0_30e37a1c1f55row4_col1\" class=\"data row4 col1\" >(67953, 15)</td>\n",
       "            </tr>\n",
       "            <tr>\n",
       "                        <th id=\"T_c076d61c_0958_11ec_a8f0_30e37a1c1f55level0_row5\" class=\"row_heading level0 row5\" >5</th>\n",
       "                        <td id=\"T_c076d61c_0958_11ec_a8f0_30e37a1c1f55row5_col0\" class=\"data row5 col0\" >Missing Values</td>\n",
       "                        <td id=\"T_c076d61c_0958_11ec_a8f0_30e37a1c1f55row5_col1\" class=\"data row5 col1\" >False</td>\n",
       "            </tr>\n",
       "            <tr>\n",
       "                        <th id=\"T_c076d61c_0958_11ec_a8f0_30e37a1c1f55level0_row6\" class=\"row_heading level0 row6\" >6</th>\n",
       "                        <td id=\"T_c076d61c_0958_11ec_a8f0_30e37a1c1f55row6_col0\" class=\"data row6 col0\" >Numeric Features</td>\n",
       "                        <td id=\"T_c076d61c_0958_11ec_a8f0_30e37a1c1f55row6_col1\" class=\"data row6 col1\" >8</td>\n",
       "            </tr>\n",
       "            <tr>\n",
       "                        <th id=\"T_c076d61c_0958_11ec_a8f0_30e37a1c1f55level0_row7\" class=\"row_heading level0 row7\" >7</th>\n",
       "                        <td id=\"T_c076d61c_0958_11ec_a8f0_30e37a1c1f55row7_col0\" class=\"data row7 col0\" >Categorical Features</td>\n",
       "                        <td id=\"T_c076d61c_0958_11ec_a8f0_30e37a1c1f55row7_col1\" class=\"data row7 col1\" >6</td>\n",
       "            </tr>\n",
       "            <tr>\n",
       "                        <th id=\"T_c076d61c_0958_11ec_a8f0_30e37a1c1f55level0_row8\" class=\"row_heading level0 row8\" >8</th>\n",
       "                        <td id=\"T_c076d61c_0958_11ec_a8f0_30e37a1c1f55row8_col0\" class=\"data row8 col0\" >Ordinal Features</td>\n",
       "                        <td id=\"T_c076d61c_0958_11ec_a8f0_30e37a1c1f55row8_col1\" class=\"data row8 col1\" >False</td>\n",
       "            </tr>\n",
       "            <tr>\n",
       "                        <th id=\"T_c076d61c_0958_11ec_a8f0_30e37a1c1f55level0_row9\" class=\"row_heading level0 row9\" >9</th>\n",
       "                        <td id=\"T_c076d61c_0958_11ec_a8f0_30e37a1c1f55row9_col0\" class=\"data row9 col0\" >High Cardinality Features</td>\n",
       "                        <td id=\"T_c076d61c_0958_11ec_a8f0_30e37a1c1f55row9_col1\" class=\"data row9 col1\" >False</td>\n",
       "            </tr>\n",
       "            <tr>\n",
       "                        <th id=\"T_c076d61c_0958_11ec_a8f0_30e37a1c1f55level0_row10\" class=\"row_heading level0 row10\" >10</th>\n",
       "                        <td id=\"T_c076d61c_0958_11ec_a8f0_30e37a1c1f55row10_col0\" class=\"data row10 col0\" >High Cardinality Method</td>\n",
       "                        <td id=\"T_c076d61c_0958_11ec_a8f0_30e37a1c1f55row10_col1\" class=\"data row10 col1\" >None</td>\n",
       "            </tr>\n",
       "            <tr>\n",
       "                        <th id=\"T_c076d61c_0958_11ec_a8f0_30e37a1c1f55level0_row11\" class=\"row_heading level0 row11\" >11</th>\n",
       "                        <td id=\"T_c076d61c_0958_11ec_a8f0_30e37a1c1f55row11_col0\" class=\"data row11 col0\" >Transformed Train Set</td>\n",
       "                        <td id=\"T_c076d61c_0958_11ec_a8f0_30e37a1c1f55row11_col1\" class=\"data row11 col1\" >(54362, 115)</td>\n",
       "            </tr>\n",
       "            <tr>\n",
       "                        <th id=\"T_c076d61c_0958_11ec_a8f0_30e37a1c1f55level0_row12\" class=\"row_heading level0 row12\" >12</th>\n",
       "                        <td id=\"T_c076d61c_0958_11ec_a8f0_30e37a1c1f55row12_col0\" class=\"data row12 col0\" >Transformed Test Set</td>\n",
       "                        <td id=\"T_c076d61c_0958_11ec_a8f0_30e37a1c1f55row12_col1\" class=\"data row12 col1\" >(13591, 115)</td>\n",
       "            </tr>\n",
       "            <tr>\n",
       "                        <th id=\"T_c076d61c_0958_11ec_a8f0_30e37a1c1f55level0_row13\" class=\"row_heading level0 row13\" >13</th>\n",
       "                        <td id=\"T_c076d61c_0958_11ec_a8f0_30e37a1c1f55row13_col0\" class=\"data row13 col0\" >Shuffle Train-Test</td>\n",
       "                        <td id=\"T_c076d61c_0958_11ec_a8f0_30e37a1c1f55row13_col1\" class=\"data row13 col1\" >True</td>\n",
       "            </tr>\n",
       "            <tr>\n",
       "                        <th id=\"T_c076d61c_0958_11ec_a8f0_30e37a1c1f55level0_row14\" class=\"row_heading level0 row14\" >14</th>\n",
       "                        <td id=\"T_c076d61c_0958_11ec_a8f0_30e37a1c1f55row14_col0\" class=\"data row14 col0\" >Stratify Train-Test</td>\n",
       "                        <td id=\"T_c076d61c_0958_11ec_a8f0_30e37a1c1f55row14_col1\" class=\"data row14 col1\" >False</td>\n",
       "            </tr>\n",
       "            <tr>\n",
       "                        <th id=\"T_c076d61c_0958_11ec_a8f0_30e37a1c1f55level0_row15\" class=\"row_heading level0 row15\" >15</th>\n",
       "                        <td id=\"T_c076d61c_0958_11ec_a8f0_30e37a1c1f55row15_col0\" class=\"data row15 col0\" >Fold Generator</td>\n",
       "                        <td id=\"T_c076d61c_0958_11ec_a8f0_30e37a1c1f55row15_col1\" class=\"data row15 col1\" >StratifiedKFold</td>\n",
       "            </tr>\n",
       "            <tr>\n",
       "                        <th id=\"T_c076d61c_0958_11ec_a8f0_30e37a1c1f55level0_row16\" class=\"row_heading level0 row16\" >16</th>\n",
       "                        <td id=\"T_c076d61c_0958_11ec_a8f0_30e37a1c1f55row16_col0\" class=\"data row16 col0\" >Fold Number</td>\n",
       "                        <td id=\"T_c076d61c_0958_11ec_a8f0_30e37a1c1f55row16_col1\" class=\"data row16 col1\" >6</td>\n",
       "            </tr>\n",
       "            <tr>\n",
       "                        <th id=\"T_c076d61c_0958_11ec_a8f0_30e37a1c1f55level0_row17\" class=\"row_heading level0 row17\" >17</th>\n",
       "                        <td id=\"T_c076d61c_0958_11ec_a8f0_30e37a1c1f55row17_col0\" class=\"data row17 col0\" >CPU Jobs</td>\n",
       "                        <td id=\"T_c076d61c_0958_11ec_a8f0_30e37a1c1f55row17_col1\" class=\"data row17 col1\" >-1</td>\n",
       "            </tr>\n",
       "            <tr>\n",
       "                        <th id=\"T_c076d61c_0958_11ec_a8f0_30e37a1c1f55level0_row18\" class=\"row_heading level0 row18\" >18</th>\n",
       "                        <td id=\"T_c076d61c_0958_11ec_a8f0_30e37a1c1f55row18_col0\" class=\"data row18 col0\" >Use GPU</td>\n",
       "                        <td id=\"T_c076d61c_0958_11ec_a8f0_30e37a1c1f55row18_col1\" class=\"data row18 col1\" >False</td>\n",
       "            </tr>\n",
       "            <tr>\n",
       "                        <th id=\"T_c076d61c_0958_11ec_a8f0_30e37a1c1f55level0_row19\" class=\"row_heading level0 row19\" >19</th>\n",
       "                        <td id=\"T_c076d61c_0958_11ec_a8f0_30e37a1c1f55row19_col0\" class=\"data row19 col0\" >Log Experiment</td>\n",
       "                        <td id=\"T_c076d61c_0958_11ec_a8f0_30e37a1c1f55row19_col1\" class=\"data row19 col1\" >False</td>\n",
       "            </tr>\n",
       "            <tr>\n",
       "                        <th id=\"T_c076d61c_0958_11ec_a8f0_30e37a1c1f55level0_row20\" class=\"row_heading level0 row20\" >20</th>\n",
       "                        <td id=\"T_c076d61c_0958_11ec_a8f0_30e37a1c1f55row20_col0\" class=\"data row20 col0\" >Experiment Name</td>\n",
       "                        <td id=\"T_c076d61c_0958_11ec_a8f0_30e37a1c1f55row20_col1\" class=\"data row20 col1\" >clf-default-name</td>\n",
       "            </tr>\n",
       "            <tr>\n",
       "                        <th id=\"T_c076d61c_0958_11ec_a8f0_30e37a1c1f55level0_row21\" class=\"row_heading level0 row21\" >21</th>\n",
       "                        <td id=\"T_c076d61c_0958_11ec_a8f0_30e37a1c1f55row21_col0\" class=\"data row21 col0\" >USI</td>\n",
       "                        <td id=\"T_c076d61c_0958_11ec_a8f0_30e37a1c1f55row21_col1\" class=\"data row21 col1\" >9e28</td>\n",
       "            </tr>\n",
       "            <tr>\n",
       "                        <th id=\"T_c076d61c_0958_11ec_a8f0_30e37a1c1f55level0_row22\" class=\"row_heading level0 row22\" >22</th>\n",
       "                        <td id=\"T_c076d61c_0958_11ec_a8f0_30e37a1c1f55row22_col0\" class=\"data row22 col0\" >Imputation Type</td>\n",
       "                        <td id=\"T_c076d61c_0958_11ec_a8f0_30e37a1c1f55row22_col1\" class=\"data row22 col1\" >iterative</td>\n",
       "            </tr>\n",
       "            <tr>\n",
       "                        <th id=\"T_c076d61c_0958_11ec_a8f0_30e37a1c1f55level0_row23\" class=\"row_heading level0 row23\" >23</th>\n",
       "                        <td id=\"T_c076d61c_0958_11ec_a8f0_30e37a1c1f55row23_col0\" class=\"data row23 col0\" >Iterative Imputation Iteration</td>\n",
       "                        <td id=\"T_c076d61c_0958_11ec_a8f0_30e37a1c1f55row23_col1\" class=\"data row23 col1\" >10</td>\n",
       "            </tr>\n",
       "            <tr>\n",
       "                        <th id=\"T_c076d61c_0958_11ec_a8f0_30e37a1c1f55level0_row24\" class=\"row_heading level0 row24\" >24</th>\n",
       "                        <td id=\"T_c076d61c_0958_11ec_a8f0_30e37a1c1f55row24_col0\" class=\"data row24 col0\" >Numeric Imputer</td>\n",
       "                        <td id=\"T_c076d61c_0958_11ec_a8f0_30e37a1c1f55row24_col1\" class=\"data row24 col1\" >mean</td>\n",
       "            </tr>\n",
       "            <tr>\n",
       "                        <th id=\"T_c076d61c_0958_11ec_a8f0_30e37a1c1f55level0_row25\" class=\"row_heading level0 row25\" >25</th>\n",
       "                        <td id=\"T_c076d61c_0958_11ec_a8f0_30e37a1c1f55row25_col0\" class=\"data row25 col0\" >Iterative Imputation Numeric Model</td>\n",
       "                        <td id=\"T_c076d61c_0958_11ec_a8f0_30e37a1c1f55row25_col1\" class=\"data row25 col1\" >Light Gradient Boosting Machine</td>\n",
       "            </tr>\n",
       "            <tr>\n",
       "                        <th id=\"T_c076d61c_0958_11ec_a8f0_30e37a1c1f55level0_row26\" class=\"row_heading level0 row26\" >26</th>\n",
       "                        <td id=\"T_c076d61c_0958_11ec_a8f0_30e37a1c1f55row26_col0\" class=\"data row26 col0\" >Categorical Imputer</td>\n",
       "                        <td id=\"T_c076d61c_0958_11ec_a8f0_30e37a1c1f55row26_col1\" class=\"data row26 col1\" >constant</td>\n",
       "            </tr>\n",
       "            <tr>\n",
       "                        <th id=\"T_c076d61c_0958_11ec_a8f0_30e37a1c1f55level0_row27\" class=\"row_heading level0 row27\" >27</th>\n",
       "                        <td id=\"T_c076d61c_0958_11ec_a8f0_30e37a1c1f55row27_col0\" class=\"data row27 col0\" >Iterative Imputation Categorical Model</td>\n",
       "                        <td id=\"T_c076d61c_0958_11ec_a8f0_30e37a1c1f55row27_col1\" class=\"data row27 col1\" >Light Gradient Boosting Machine</td>\n",
       "            </tr>\n",
       "            <tr>\n",
       "                        <th id=\"T_c076d61c_0958_11ec_a8f0_30e37a1c1f55level0_row28\" class=\"row_heading level0 row28\" >28</th>\n",
       "                        <td id=\"T_c076d61c_0958_11ec_a8f0_30e37a1c1f55row28_col0\" class=\"data row28 col0\" >Unknown Categoricals Handling</td>\n",
       "                        <td id=\"T_c076d61c_0958_11ec_a8f0_30e37a1c1f55row28_col1\" class=\"data row28 col1\" >most_frequent</td>\n",
       "            </tr>\n",
       "            <tr>\n",
       "                        <th id=\"T_c076d61c_0958_11ec_a8f0_30e37a1c1f55level0_row29\" class=\"row_heading level0 row29\" >29</th>\n",
       "                        <td id=\"T_c076d61c_0958_11ec_a8f0_30e37a1c1f55row29_col0\" class=\"data row29 col0\" >Normalize</td>\n",
       "                        <td id=\"T_c076d61c_0958_11ec_a8f0_30e37a1c1f55row29_col1\" class=\"data row29 col1\" >False</td>\n",
       "            </tr>\n",
       "            <tr>\n",
       "                        <th id=\"T_c076d61c_0958_11ec_a8f0_30e37a1c1f55level0_row30\" class=\"row_heading level0 row30\" >30</th>\n",
       "                        <td id=\"T_c076d61c_0958_11ec_a8f0_30e37a1c1f55row30_col0\" class=\"data row30 col0\" >Normalize Method</td>\n",
       "                        <td id=\"T_c076d61c_0958_11ec_a8f0_30e37a1c1f55row30_col1\" class=\"data row30 col1\" >None</td>\n",
       "            </tr>\n",
       "            <tr>\n",
       "                        <th id=\"T_c076d61c_0958_11ec_a8f0_30e37a1c1f55level0_row31\" class=\"row_heading level0 row31\" >31</th>\n",
       "                        <td id=\"T_c076d61c_0958_11ec_a8f0_30e37a1c1f55row31_col0\" class=\"data row31 col0\" >Transformation</td>\n",
       "                        <td id=\"T_c076d61c_0958_11ec_a8f0_30e37a1c1f55row31_col1\" class=\"data row31 col1\" >True</td>\n",
       "            </tr>\n",
       "            <tr>\n",
       "                        <th id=\"T_c076d61c_0958_11ec_a8f0_30e37a1c1f55level0_row32\" class=\"row_heading level0 row32\" >32</th>\n",
       "                        <td id=\"T_c076d61c_0958_11ec_a8f0_30e37a1c1f55row32_col0\" class=\"data row32 col0\" >Transformation Method</td>\n",
       "                        <td id=\"T_c076d61c_0958_11ec_a8f0_30e37a1c1f55row32_col1\" class=\"data row32 col1\" >yeo-johnson</td>\n",
       "            </tr>\n",
       "            <tr>\n",
       "                        <th id=\"T_c076d61c_0958_11ec_a8f0_30e37a1c1f55level0_row33\" class=\"row_heading level0 row33\" >33</th>\n",
       "                        <td id=\"T_c076d61c_0958_11ec_a8f0_30e37a1c1f55row33_col0\" class=\"data row33 col0\" >PCA</td>\n",
       "                        <td id=\"T_c076d61c_0958_11ec_a8f0_30e37a1c1f55row33_col1\" class=\"data row33 col1\" >False</td>\n",
       "            </tr>\n",
       "            <tr>\n",
       "                        <th id=\"T_c076d61c_0958_11ec_a8f0_30e37a1c1f55level0_row34\" class=\"row_heading level0 row34\" >34</th>\n",
       "                        <td id=\"T_c076d61c_0958_11ec_a8f0_30e37a1c1f55row34_col0\" class=\"data row34 col0\" >PCA Method</td>\n",
       "                        <td id=\"T_c076d61c_0958_11ec_a8f0_30e37a1c1f55row34_col1\" class=\"data row34 col1\" >None</td>\n",
       "            </tr>\n",
       "            <tr>\n",
       "                        <th id=\"T_c076d61c_0958_11ec_a8f0_30e37a1c1f55level0_row35\" class=\"row_heading level0 row35\" >35</th>\n",
       "                        <td id=\"T_c076d61c_0958_11ec_a8f0_30e37a1c1f55row35_col0\" class=\"data row35 col0\" >PCA Components</td>\n",
       "                        <td id=\"T_c076d61c_0958_11ec_a8f0_30e37a1c1f55row35_col1\" class=\"data row35 col1\" >None</td>\n",
       "            </tr>\n",
       "            <tr>\n",
       "                        <th id=\"T_c076d61c_0958_11ec_a8f0_30e37a1c1f55level0_row36\" class=\"row_heading level0 row36\" >36</th>\n",
       "                        <td id=\"T_c076d61c_0958_11ec_a8f0_30e37a1c1f55row36_col0\" class=\"data row36 col0\" >Ignore Low Variance</td>\n",
       "                        <td id=\"T_c076d61c_0958_11ec_a8f0_30e37a1c1f55row36_col1\" class=\"data row36 col1\" >False</td>\n",
       "            </tr>\n",
       "            <tr>\n",
       "                        <th id=\"T_c076d61c_0958_11ec_a8f0_30e37a1c1f55level0_row37\" class=\"row_heading level0 row37\" >37</th>\n",
       "                        <td id=\"T_c076d61c_0958_11ec_a8f0_30e37a1c1f55row37_col0\" class=\"data row37 col0\" >Combine Rare Levels</td>\n",
       "                        <td id=\"T_c076d61c_0958_11ec_a8f0_30e37a1c1f55row37_col1\" class=\"data row37 col1\" >False</td>\n",
       "            </tr>\n",
       "            <tr>\n",
       "                        <th id=\"T_c076d61c_0958_11ec_a8f0_30e37a1c1f55level0_row38\" class=\"row_heading level0 row38\" >38</th>\n",
       "                        <td id=\"T_c076d61c_0958_11ec_a8f0_30e37a1c1f55row38_col0\" class=\"data row38 col0\" >Rare Level Threshold</td>\n",
       "                        <td id=\"T_c076d61c_0958_11ec_a8f0_30e37a1c1f55row38_col1\" class=\"data row38 col1\" >None</td>\n",
       "            </tr>\n",
       "            <tr>\n",
       "                        <th id=\"T_c076d61c_0958_11ec_a8f0_30e37a1c1f55level0_row39\" class=\"row_heading level0 row39\" >39</th>\n",
       "                        <td id=\"T_c076d61c_0958_11ec_a8f0_30e37a1c1f55row39_col0\" class=\"data row39 col0\" >Numeric Binning</td>\n",
       "                        <td id=\"T_c076d61c_0958_11ec_a8f0_30e37a1c1f55row39_col1\" class=\"data row39 col1\" >False</td>\n",
       "            </tr>\n",
       "            <tr>\n",
       "                        <th id=\"T_c076d61c_0958_11ec_a8f0_30e37a1c1f55level0_row40\" class=\"row_heading level0 row40\" >40</th>\n",
       "                        <td id=\"T_c076d61c_0958_11ec_a8f0_30e37a1c1f55row40_col0\" class=\"data row40 col0\" >Remove Outliers</td>\n",
       "                        <td id=\"T_c076d61c_0958_11ec_a8f0_30e37a1c1f55row40_col1\" class=\"data row40 col1\" >False</td>\n",
       "            </tr>\n",
       "            <tr>\n",
       "                        <th id=\"T_c076d61c_0958_11ec_a8f0_30e37a1c1f55level0_row41\" class=\"row_heading level0 row41\" >41</th>\n",
       "                        <td id=\"T_c076d61c_0958_11ec_a8f0_30e37a1c1f55row41_col0\" class=\"data row41 col0\" >Outliers Threshold</td>\n",
       "                        <td id=\"T_c076d61c_0958_11ec_a8f0_30e37a1c1f55row41_col1\" class=\"data row41 col1\" >None</td>\n",
       "            </tr>\n",
       "            <tr>\n",
       "                        <th id=\"T_c076d61c_0958_11ec_a8f0_30e37a1c1f55level0_row42\" class=\"row_heading level0 row42\" >42</th>\n",
       "                        <td id=\"T_c076d61c_0958_11ec_a8f0_30e37a1c1f55row42_col0\" class=\"data row42 col0\" >Remove Multicollinearity</td>\n",
       "                        <td id=\"T_c076d61c_0958_11ec_a8f0_30e37a1c1f55row42_col1\" class=\"data row42 col1\" >False</td>\n",
       "            </tr>\n",
       "            <tr>\n",
       "                        <th id=\"T_c076d61c_0958_11ec_a8f0_30e37a1c1f55level0_row43\" class=\"row_heading level0 row43\" >43</th>\n",
       "                        <td id=\"T_c076d61c_0958_11ec_a8f0_30e37a1c1f55row43_col0\" class=\"data row43 col0\" >Multicollinearity Threshold</td>\n",
       "                        <td id=\"T_c076d61c_0958_11ec_a8f0_30e37a1c1f55row43_col1\" class=\"data row43 col1\" >None</td>\n",
       "            </tr>\n",
       "            <tr>\n",
       "                        <th id=\"T_c076d61c_0958_11ec_a8f0_30e37a1c1f55level0_row44\" class=\"row_heading level0 row44\" >44</th>\n",
       "                        <td id=\"T_c076d61c_0958_11ec_a8f0_30e37a1c1f55row44_col0\" class=\"data row44 col0\" >Remove Perfect Collinearity</td>\n",
       "                        <td id=\"T_c076d61c_0958_11ec_a8f0_30e37a1c1f55row44_col1\" class=\"data row44 col1\" >True</td>\n",
       "            </tr>\n",
       "            <tr>\n",
       "                        <th id=\"T_c076d61c_0958_11ec_a8f0_30e37a1c1f55level0_row45\" class=\"row_heading level0 row45\" >45</th>\n",
       "                        <td id=\"T_c076d61c_0958_11ec_a8f0_30e37a1c1f55row45_col0\" class=\"data row45 col0\" >Clustering</td>\n",
       "                        <td id=\"T_c076d61c_0958_11ec_a8f0_30e37a1c1f55row45_col1\" class=\"data row45 col1\" >True</td>\n",
       "            </tr>\n",
       "            <tr>\n",
       "                        <th id=\"T_c076d61c_0958_11ec_a8f0_30e37a1c1f55level0_row46\" class=\"row_heading level0 row46\" >46</th>\n",
       "                        <td id=\"T_c076d61c_0958_11ec_a8f0_30e37a1c1f55row46_col0\" class=\"data row46 col0\" >Clustering Iteration</td>\n",
       "                        <td id=\"T_c076d61c_0958_11ec_a8f0_30e37a1c1f55row46_col1\" class=\"data row46 col1\" >10</td>\n",
       "            </tr>\n",
       "            <tr>\n",
       "                        <th id=\"T_c076d61c_0958_11ec_a8f0_30e37a1c1f55level0_row47\" class=\"row_heading level0 row47\" >47</th>\n",
       "                        <td id=\"T_c076d61c_0958_11ec_a8f0_30e37a1c1f55row47_col0\" class=\"data row47 col0\" >Polynomial Features</td>\n",
       "                        <td id=\"T_c076d61c_0958_11ec_a8f0_30e37a1c1f55row47_col1\" class=\"data row47 col1\" >False</td>\n",
       "            </tr>\n",
       "            <tr>\n",
       "                        <th id=\"T_c076d61c_0958_11ec_a8f0_30e37a1c1f55level0_row48\" class=\"row_heading level0 row48\" >48</th>\n",
       "                        <td id=\"T_c076d61c_0958_11ec_a8f0_30e37a1c1f55row48_col0\" class=\"data row48 col0\" >Polynomial Degree</td>\n",
       "                        <td id=\"T_c076d61c_0958_11ec_a8f0_30e37a1c1f55row48_col1\" class=\"data row48 col1\" >None</td>\n",
       "            </tr>\n",
       "            <tr>\n",
       "                        <th id=\"T_c076d61c_0958_11ec_a8f0_30e37a1c1f55level0_row49\" class=\"row_heading level0 row49\" >49</th>\n",
       "                        <td id=\"T_c076d61c_0958_11ec_a8f0_30e37a1c1f55row49_col0\" class=\"data row49 col0\" >Trignometry Features</td>\n",
       "                        <td id=\"T_c076d61c_0958_11ec_a8f0_30e37a1c1f55row49_col1\" class=\"data row49 col1\" >False</td>\n",
       "            </tr>\n",
       "            <tr>\n",
       "                        <th id=\"T_c076d61c_0958_11ec_a8f0_30e37a1c1f55level0_row50\" class=\"row_heading level0 row50\" >50</th>\n",
       "                        <td id=\"T_c076d61c_0958_11ec_a8f0_30e37a1c1f55row50_col0\" class=\"data row50 col0\" >Polynomial Threshold</td>\n",
       "                        <td id=\"T_c076d61c_0958_11ec_a8f0_30e37a1c1f55row50_col1\" class=\"data row50 col1\" >None</td>\n",
       "            </tr>\n",
       "            <tr>\n",
       "                        <th id=\"T_c076d61c_0958_11ec_a8f0_30e37a1c1f55level0_row51\" class=\"row_heading level0 row51\" >51</th>\n",
       "                        <td id=\"T_c076d61c_0958_11ec_a8f0_30e37a1c1f55row51_col0\" class=\"data row51 col0\" >Group Features</td>\n",
       "                        <td id=\"T_c076d61c_0958_11ec_a8f0_30e37a1c1f55row51_col1\" class=\"data row51 col1\" >False</td>\n",
       "            </tr>\n",
       "            <tr>\n",
       "                        <th id=\"T_c076d61c_0958_11ec_a8f0_30e37a1c1f55level0_row52\" class=\"row_heading level0 row52\" >52</th>\n",
       "                        <td id=\"T_c076d61c_0958_11ec_a8f0_30e37a1c1f55row52_col0\" class=\"data row52 col0\" >Feature Selection</td>\n",
       "                        <td id=\"T_c076d61c_0958_11ec_a8f0_30e37a1c1f55row52_col1\" class=\"data row52 col1\" >True</td>\n",
       "            </tr>\n",
       "            <tr>\n",
       "                        <th id=\"T_c076d61c_0958_11ec_a8f0_30e37a1c1f55level0_row53\" class=\"row_heading level0 row53\" >53</th>\n",
       "                        <td id=\"T_c076d61c_0958_11ec_a8f0_30e37a1c1f55row53_col0\" class=\"data row53 col0\" >Feature Selection Method</td>\n",
       "                        <td id=\"T_c076d61c_0958_11ec_a8f0_30e37a1c1f55row53_col1\" class=\"data row53 col1\" >classic</td>\n",
       "            </tr>\n",
       "            <tr>\n",
       "                        <th id=\"T_c076d61c_0958_11ec_a8f0_30e37a1c1f55level0_row54\" class=\"row_heading level0 row54\" >54</th>\n",
       "                        <td id=\"T_c076d61c_0958_11ec_a8f0_30e37a1c1f55row54_col0\" class=\"data row54 col0\" >Features Selection Threshold</td>\n",
       "                        <td id=\"T_c076d61c_0958_11ec_a8f0_30e37a1c1f55row54_col1\" class=\"data row54 col1\" >0.850000</td>\n",
       "            </tr>\n",
       "            <tr>\n",
       "                        <th id=\"T_c076d61c_0958_11ec_a8f0_30e37a1c1f55level0_row55\" class=\"row_heading level0 row55\" >55</th>\n",
       "                        <td id=\"T_c076d61c_0958_11ec_a8f0_30e37a1c1f55row55_col0\" class=\"data row55 col0\" >Feature Interaction</td>\n",
       "                        <td id=\"T_c076d61c_0958_11ec_a8f0_30e37a1c1f55row55_col1\" class=\"data row55 col1\" >False</td>\n",
       "            </tr>\n",
       "            <tr>\n",
       "                        <th id=\"T_c076d61c_0958_11ec_a8f0_30e37a1c1f55level0_row56\" class=\"row_heading level0 row56\" >56</th>\n",
       "                        <td id=\"T_c076d61c_0958_11ec_a8f0_30e37a1c1f55row56_col0\" class=\"data row56 col0\" >Feature Ratio</td>\n",
       "                        <td id=\"T_c076d61c_0958_11ec_a8f0_30e37a1c1f55row56_col1\" class=\"data row56 col1\" >False</td>\n",
       "            </tr>\n",
       "            <tr>\n",
       "                        <th id=\"T_c076d61c_0958_11ec_a8f0_30e37a1c1f55level0_row57\" class=\"row_heading level0 row57\" >57</th>\n",
       "                        <td id=\"T_c076d61c_0958_11ec_a8f0_30e37a1c1f55row57_col0\" class=\"data row57 col0\" >Interaction Threshold</td>\n",
       "                        <td id=\"T_c076d61c_0958_11ec_a8f0_30e37a1c1f55row57_col1\" class=\"data row57 col1\" >None</td>\n",
       "            </tr>\n",
       "            <tr>\n",
       "                        <th id=\"T_c076d61c_0958_11ec_a8f0_30e37a1c1f55level0_row58\" class=\"row_heading level0 row58\" >58</th>\n",
       "                        <td id=\"T_c076d61c_0958_11ec_a8f0_30e37a1c1f55row58_col0\" class=\"data row58 col0\" >Fix Imbalance</td>\n",
       "                        <td id=\"T_c076d61c_0958_11ec_a8f0_30e37a1c1f55row58_col1\" class=\"data row58 col1\" >True</td>\n",
       "            </tr>\n",
       "            <tr>\n",
       "                        <th id=\"T_c076d61c_0958_11ec_a8f0_30e37a1c1f55level0_row59\" class=\"row_heading level0 row59\" >59</th>\n",
       "                        <td id=\"T_c076d61c_0958_11ec_a8f0_30e37a1c1f55row59_col0\" class=\"data row59 col0\" >Fix Imbalance Method</td>\n",
       "                        <td id=\"T_c076d61c_0958_11ec_a8f0_30e37a1c1f55row59_col1\" class=\"data row59 col1\" >SMOTE</td>\n",
       "            </tr>\n",
       "    </tbody></table>"
      ],
      "text/plain": [
       "<pandas.io.formats.style.Styler at 0x1bc8b0984f0>"
      ]
     },
     "metadata": {},
     "output_type": "display_data"
    }
   ],
   "source": [
    "from pycaret.classification import *\n",
    "exp_reg101 = setup(data = x, target = 'return',train_size=0.8,imputation_type='iterative',\n",
    "                   iterative_imputation_iters=10,normalize_method = 'minmax',\n",
    "                   transformation=True,unknown_categorical_method='most_frequent',\n",
    "                   feature_selection=True,feature_selection_threshold=0.85,fold=6,\n",
    "                  fold_shuffle=True,n_jobs=-1,session_id=123,silent=True,categorical_features=['item_color','user_title','CAge'],\n",
    "                   create_clusters=True,cluster_iter=10,fix_imbalance=True)"
   ]
  },
  {
   "cell_type": "code",
   "execution_count": 101,
   "metadata": {},
   "outputs": [
    {
     "data": {
      "text/html": [
       "<style  type=\"text/css\" >\n",
       "    #T_a4cdaeb9_08a1_11ec_9485_30e37a1c1f55 th {\n",
       "          text-align: left;\n",
       "    }#T_a4cdaeb9_08a1_11ec_9485_30e37a1c1f55row0_col0,#T_a4cdaeb9_08a1_11ec_9485_30e37a1c1f55row0_col3,#T_a4cdaeb9_08a1_11ec_9485_30e37a1c1f55row0_col4,#T_a4cdaeb9_08a1_11ec_9485_30e37a1c1f55row0_col5,#T_a4cdaeb9_08a1_11ec_9485_30e37a1c1f55row1_col0,#T_a4cdaeb9_08a1_11ec_9485_30e37a1c1f55row1_col1,#T_a4cdaeb9_08a1_11ec_9485_30e37a1c1f55row1_col2,#T_a4cdaeb9_08a1_11ec_9485_30e37a1c1f55row1_col3,#T_a4cdaeb9_08a1_11ec_9485_30e37a1c1f55row1_col4,#T_a4cdaeb9_08a1_11ec_9485_30e37a1c1f55row1_col5,#T_a4cdaeb9_08a1_11ec_9485_30e37a1c1f55row1_col6,#T_a4cdaeb9_08a1_11ec_9485_30e37a1c1f55row1_col7,#T_a4cdaeb9_08a1_11ec_9485_30e37a1c1f55row2_col0,#T_a4cdaeb9_08a1_11ec_9485_30e37a1c1f55row2_col1,#T_a4cdaeb9_08a1_11ec_9485_30e37a1c1f55row2_col2,#T_a4cdaeb9_08a1_11ec_9485_30e37a1c1f55row2_col3,#T_a4cdaeb9_08a1_11ec_9485_30e37a1c1f55row2_col5,#T_a4cdaeb9_08a1_11ec_9485_30e37a1c1f55row2_col6,#T_a4cdaeb9_08a1_11ec_9485_30e37a1c1f55row2_col7,#T_a4cdaeb9_08a1_11ec_9485_30e37a1c1f55row3_col0,#T_a4cdaeb9_08a1_11ec_9485_30e37a1c1f55row3_col1,#T_a4cdaeb9_08a1_11ec_9485_30e37a1c1f55row3_col2,#T_a4cdaeb9_08a1_11ec_9485_30e37a1c1f55row3_col3,#T_a4cdaeb9_08a1_11ec_9485_30e37a1c1f55row3_col4,#T_a4cdaeb9_08a1_11ec_9485_30e37a1c1f55row3_col5,#T_a4cdaeb9_08a1_11ec_9485_30e37a1c1f55row3_col6,#T_a4cdaeb9_08a1_11ec_9485_30e37a1c1f55row3_col7,#T_a4cdaeb9_08a1_11ec_9485_30e37a1c1f55row4_col0,#T_a4cdaeb9_08a1_11ec_9485_30e37a1c1f55row4_col1,#T_a4cdaeb9_08a1_11ec_9485_30e37a1c1f55row4_col2,#T_a4cdaeb9_08a1_11ec_9485_30e37a1c1f55row4_col3,#T_a4cdaeb9_08a1_11ec_9485_30e37a1c1f55row4_col4,#T_a4cdaeb9_08a1_11ec_9485_30e37a1c1f55row4_col6,#T_a4cdaeb9_08a1_11ec_9485_30e37a1c1f55row4_col7,#T_a4cdaeb9_08a1_11ec_9485_30e37a1c1f55row5_col0,#T_a4cdaeb9_08a1_11ec_9485_30e37a1c1f55row5_col1,#T_a4cdaeb9_08a1_11ec_9485_30e37a1c1f55row5_col2,#T_a4cdaeb9_08a1_11ec_9485_30e37a1c1f55row5_col3,#T_a4cdaeb9_08a1_11ec_9485_30e37a1c1f55row5_col4,#T_a4cdaeb9_08a1_11ec_9485_30e37a1c1f55row5_col5,#T_a4cdaeb9_08a1_11ec_9485_30e37a1c1f55row5_col6,#T_a4cdaeb9_08a1_11ec_9485_30e37a1c1f55row5_col7,#T_a4cdaeb9_08a1_11ec_9485_30e37a1c1f55row6_col0,#T_a4cdaeb9_08a1_11ec_9485_30e37a1c1f55row6_col1,#T_a4cdaeb9_08a1_11ec_9485_30e37a1c1f55row6_col2,#T_a4cdaeb9_08a1_11ec_9485_30e37a1c1f55row6_col3,#T_a4cdaeb9_08a1_11ec_9485_30e37a1c1f55row6_col4,#T_a4cdaeb9_08a1_11ec_9485_30e37a1c1f55row6_col5,#T_a4cdaeb9_08a1_11ec_9485_30e37a1c1f55row6_col6,#T_a4cdaeb9_08a1_11ec_9485_30e37a1c1f55row6_col7,#T_a4cdaeb9_08a1_11ec_9485_30e37a1c1f55row7_col0,#T_a4cdaeb9_08a1_11ec_9485_30e37a1c1f55row7_col1,#T_a4cdaeb9_08a1_11ec_9485_30e37a1c1f55row7_col2,#T_a4cdaeb9_08a1_11ec_9485_30e37a1c1f55row7_col3,#T_a4cdaeb9_08a1_11ec_9485_30e37a1c1f55row7_col4,#T_a4cdaeb9_08a1_11ec_9485_30e37a1c1f55row7_col5,#T_a4cdaeb9_08a1_11ec_9485_30e37a1c1f55row7_col6,#T_a4cdaeb9_08a1_11ec_9485_30e37a1c1f55row7_col7,#T_a4cdaeb9_08a1_11ec_9485_30e37a1c1f55row8_col0,#T_a4cdaeb9_08a1_11ec_9485_30e37a1c1f55row8_col1,#T_a4cdaeb9_08a1_11ec_9485_30e37a1c1f55row8_col2,#T_a4cdaeb9_08a1_11ec_9485_30e37a1c1f55row8_col3,#T_a4cdaeb9_08a1_11ec_9485_30e37a1c1f55row8_col4,#T_a4cdaeb9_08a1_11ec_9485_30e37a1c1f55row8_col5,#T_a4cdaeb9_08a1_11ec_9485_30e37a1c1f55row8_col6,#T_a4cdaeb9_08a1_11ec_9485_30e37a1c1f55row8_col7,#T_a4cdaeb9_08a1_11ec_9485_30e37a1c1f55row9_col0,#T_a4cdaeb9_08a1_11ec_9485_30e37a1c1f55row9_col1,#T_a4cdaeb9_08a1_11ec_9485_30e37a1c1f55row9_col2,#T_a4cdaeb9_08a1_11ec_9485_30e37a1c1f55row9_col3,#T_a4cdaeb9_08a1_11ec_9485_30e37a1c1f55row9_col4,#T_a4cdaeb9_08a1_11ec_9485_30e37a1c1f55row9_col5,#T_a4cdaeb9_08a1_11ec_9485_30e37a1c1f55row9_col6,#T_a4cdaeb9_08a1_11ec_9485_30e37a1c1f55row9_col7,#T_a4cdaeb9_08a1_11ec_9485_30e37a1c1f55row10_col0,#T_a4cdaeb9_08a1_11ec_9485_30e37a1c1f55row10_col1,#T_a4cdaeb9_08a1_11ec_9485_30e37a1c1f55row10_col2,#T_a4cdaeb9_08a1_11ec_9485_30e37a1c1f55row10_col3,#T_a4cdaeb9_08a1_11ec_9485_30e37a1c1f55row10_col4,#T_a4cdaeb9_08a1_11ec_9485_30e37a1c1f55row10_col5,#T_a4cdaeb9_08a1_11ec_9485_30e37a1c1f55row10_col6,#T_a4cdaeb9_08a1_11ec_9485_30e37a1c1f55row10_col7,#T_a4cdaeb9_08a1_11ec_9485_30e37a1c1f55row11_col0,#T_a4cdaeb9_08a1_11ec_9485_30e37a1c1f55row11_col1,#T_a4cdaeb9_08a1_11ec_9485_30e37a1c1f55row11_col2,#T_a4cdaeb9_08a1_11ec_9485_30e37a1c1f55row11_col3,#T_a4cdaeb9_08a1_11ec_9485_30e37a1c1f55row11_col4,#T_a4cdaeb9_08a1_11ec_9485_30e37a1c1f55row11_col5,#T_a4cdaeb9_08a1_11ec_9485_30e37a1c1f55row11_col6,#T_a4cdaeb9_08a1_11ec_9485_30e37a1c1f55row11_col7,#T_a4cdaeb9_08a1_11ec_9485_30e37a1c1f55row12_col0,#T_a4cdaeb9_08a1_11ec_9485_30e37a1c1f55row12_col1,#T_a4cdaeb9_08a1_11ec_9485_30e37a1c1f55row12_col2,#T_a4cdaeb9_08a1_11ec_9485_30e37a1c1f55row12_col3,#T_a4cdaeb9_08a1_11ec_9485_30e37a1c1f55row12_col4,#T_a4cdaeb9_08a1_11ec_9485_30e37a1c1f55row12_col5,#T_a4cdaeb9_08a1_11ec_9485_30e37a1c1f55row12_col6,#T_a4cdaeb9_08a1_11ec_9485_30e37a1c1f55row12_col7,#T_a4cdaeb9_08a1_11ec_9485_30e37a1c1f55row13_col0,#T_a4cdaeb9_08a1_11ec_9485_30e37a1c1f55row13_col1,#T_a4cdaeb9_08a1_11ec_9485_30e37a1c1f55row13_col2,#T_a4cdaeb9_08a1_11ec_9485_30e37a1c1f55row13_col3,#T_a4cdaeb9_08a1_11ec_9485_30e37a1c1f55row13_col4,#T_a4cdaeb9_08a1_11ec_9485_30e37a1c1f55row13_col5,#T_a4cdaeb9_08a1_11ec_9485_30e37a1c1f55row13_col6,#T_a4cdaeb9_08a1_11ec_9485_30e37a1c1f55row13_col7,#T_a4cdaeb9_08a1_11ec_9485_30e37a1c1f55row14_col0,#T_a4cdaeb9_08a1_11ec_9485_30e37a1c1f55row14_col1,#T_a4cdaeb9_08a1_11ec_9485_30e37a1c1f55row14_col2,#T_a4cdaeb9_08a1_11ec_9485_30e37a1c1f55row14_col4,#T_a4cdaeb9_08a1_11ec_9485_30e37a1c1f55row14_col5,#T_a4cdaeb9_08a1_11ec_9485_30e37a1c1f55row14_col6,#T_a4cdaeb9_08a1_11ec_9485_30e37a1c1f55row14_col7{\n",
       "            text-align:  left;\n",
       "            text-align:  left;\n",
       "        }#T_a4cdaeb9_08a1_11ec_9485_30e37a1c1f55row0_col1,#T_a4cdaeb9_08a1_11ec_9485_30e37a1c1f55row0_col2,#T_a4cdaeb9_08a1_11ec_9485_30e37a1c1f55row0_col6,#T_a4cdaeb9_08a1_11ec_9485_30e37a1c1f55row0_col7,#T_a4cdaeb9_08a1_11ec_9485_30e37a1c1f55row2_col4,#T_a4cdaeb9_08a1_11ec_9485_30e37a1c1f55row4_col5,#T_a4cdaeb9_08a1_11ec_9485_30e37a1c1f55row14_col3{\n",
       "            text-align:  left;\n",
       "            text-align:  left;\n",
       "            background-color:  yellow;\n",
       "        }#T_a4cdaeb9_08a1_11ec_9485_30e37a1c1f55row0_col8,#T_a4cdaeb9_08a1_11ec_9485_30e37a1c1f55row1_col8,#T_a4cdaeb9_08a1_11ec_9485_30e37a1c1f55row2_col8,#T_a4cdaeb9_08a1_11ec_9485_30e37a1c1f55row3_col8,#T_a4cdaeb9_08a1_11ec_9485_30e37a1c1f55row4_col8,#T_a4cdaeb9_08a1_11ec_9485_30e37a1c1f55row5_col8,#T_a4cdaeb9_08a1_11ec_9485_30e37a1c1f55row6_col8,#T_a4cdaeb9_08a1_11ec_9485_30e37a1c1f55row7_col8,#T_a4cdaeb9_08a1_11ec_9485_30e37a1c1f55row8_col8,#T_a4cdaeb9_08a1_11ec_9485_30e37a1c1f55row9_col8,#T_a4cdaeb9_08a1_11ec_9485_30e37a1c1f55row10_col8,#T_a4cdaeb9_08a1_11ec_9485_30e37a1c1f55row12_col8,#T_a4cdaeb9_08a1_11ec_9485_30e37a1c1f55row13_col8,#T_a4cdaeb9_08a1_11ec_9485_30e37a1c1f55row14_col8{\n",
       "            text-align:  left;\n",
       "            text-align:  left;\n",
       "            background-color:  lightgrey;\n",
       "        }#T_a4cdaeb9_08a1_11ec_9485_30e37a1c1f55row11_col8{\n",
       "            text-align:  left;\n",
       "            text-align:  left;\n",
       "            background-color:  yellow;\n",
       "            background-color:  lightgrey;\n",
       "        }</style><table id=\"T_a4cdaeb9_08a1_11ec_9485_30e37a1c1f55\" ><thead>    <tr>        <th class=\"blank level0\" ></th>        <th class=\"col_heading level0 col0\" >Model</th>        <th class=\"col_heading level0 col1\" >Accuracy</th>        <th class=\"col_heading level0 col2\" >AUC</th>        <th class=\"col_heading level0 col3\" >Recall</th>        <th class=\"col_heading level0 col4\" >Prec.</th>        <th class=\"col_heading level0 col5\" >F1</th>        <th class=\"col_heading level0 col6\" >Kappa</th>        <th class=\"col_heading level0 col7\" >MCC</th>        <th class=\"col_heading level0 col8\" >TT (Sec)</th>    </tr></thead><tbody>\n",
       "                <tr>\n",
       "                        <th id=\"T_a4cdaeb9_08a1_11ec_9485_30e37a1c1f55level0_row0\" class=\"row_heading level0 row0\" >catboost</th>\n",
       "                        <td id=\"T_a4cdaeb9_08a1_11ec_9485_30e37a1c1f55row0_col0\" class=\"data row0 col0\" >CatBoost Classifier</td>\n",
       "                        <td id=\"T_a4cdaeb9_08a1_11ec_9485_30e37a1c1f55row0_col1\" class=\"data row0 col1\" >0.6318</td>\n",
       "                        <td id=\"T_a4cdaeb9_08a1_11ec_9485_30e37a1c1f55row0_col2\" class=\"data row0 col2\" >0.6884</td>\n",
       "                        <td id=\"T_a4cdaeb9_08a1_11ec_9485_30e37a1c1f55row0_col3\" class=\"data row0 col3\" >0.6419</td>\n",
       "                        <td id=\"T_a4cdaeb9_08a1_11ec_9485_30e37a1c1f55row0_col4\" class=\"data row0 col4\" >0.5912</td>\n",
       "                        <td id=\"T_a4cdaeb9_08a1_11ec_9485_30e37a1c1f55row0_col5\" class=\"data row0 col5\" >0.6155</td>\n",
       "                        <td id=\"T_a4cdaeb9_08a1_11ec_9485_30e37a1c1f55row0_col6\" class=\"data row0 col6\" >0.2634</td>\n",
       "                        <td id=\"T_a4cdaeb9_08a1_11ec_9485_30e37a1c1f55row0_col7\" class=\"data row0 col7\" >0.2642</td>\n",
       "                        <td id=\"T_a4cdaeb9_08a1_11ec_9485_30e37a1c1f55row0_col8\" class=\"data row0 col8\" >45.5650</td>\n",
       "            </tr>\n",
       "            <tr>\n",
       "                        <th id=\"T_a4cdaeb9_08a1_11ec_9485_30e37a1c1f55level0_row1\" class=\"row_heading level0 row1\" >xgboost</th>\n",
       "                        <td id=\"T_a4cdaeb9_08a1_11ec_9485_30e37a1c1f55row1_col0\" class=\"data row1 col0\" >Extreme Gradient Boosting</td>\n",
       "                        <td id=\"T_a4cdaeb9_08a1_11ec_9485_30e37a1c1f55row1_col1\" class=\"data row1 col1\" >0.6300</td>\n",
       "                        <td id=\"T_a4cdaeb9_08a1_11ec_9485_30e37a1c1f55row1_col2\" class=\"data row1 col2\" >0.6858</td>\n",
       "                        <td id=\"T_a4cdaeb9_08a1_11ec_9485_30e37a1c1f55row1_col3\" class=\"data row1 col3\" >0.6371</td>\n",
       "                        <td id=\"T_a4cdaeb9_08a1_11ec_9485_30e37a1c1f55row1_col4\" class=\"data row1 col4\" >0.5898</td>\n",
       "                        <td id=\"T_a4cdaeb9_08a1_11ec_9485_30e37a1c1f55row1_col5\" class=\"data row1 col5\" >0.6125</td>\n",
       "                        <td id=\"T_a4cdaeb9_08a1_11ec_9485_30e37a1c1f55row1_col6\" class=\"data row1 col6\" >0.2594</td>\n",
       "                        <td id=\"T_a4cdaeb9_08a1_11ec_9485_30e37a1c1f55row1_col7\" class=\"data row1 col7\" >0.2602</td>\n",
       "                        <td id=\"T_a4cdaeb9_08a1_11ec_9485_30e37a1c1f55row1_col8\" class=\"data row1 col8\" >32.1500</td>\n",
       "            </tr>\n",
       "            <tr>\n",
       "                        <th id=\"T_a4cdaeb9_08a1_11ec_9485_30e37a1c1f55level0_row2\" class=\"row_heading level0 row2\" >rf</th>\n",
       "                        <td id=\"T_a4cdaeb9_08a1_11ec_9485_30e37a1c1f55row2_col0\" class=\"data row2 col0\" >Random Forest Classifier</td>\n",
       "                        <td id=\"T_a4cdaeb9_08a1_11ec_9485_30e37a1c1f55row2_col1\" class=\"data row2 col1\" >0.6276</td>\n",
       "                        <td id=\"T_a4cdaeb9_08a1_11ec_9485_30e37a1c1f55row2_col2\" class=\"data row2 col2\" >0.6839</td>\n",
       "                        <td id=\"T_a4cdaeb9_08a1_11ec_9485_30e37a1c1f55row2_col3\" class=\"data row2 col3\" >0.6006</td>\n",
       "                        <td id=\"T_a4cdaeb9_08a1_11ec_9485_30e37a1c1f55row2_col4\" class=\"data row2 col4\" >0.5933</td>\n",
       "                        <td id=\"T_a4cdaeb9_08a1_11ec_9485_30e37a1c1f55row2_col5\" class=\"data row2 col5\" >0.5969</td>\n",
       "                        <td id=\"T_a4cdaeb9_08a1_11ec_9485_30e37a1c1f55row2_col6\" class=\"data row2 col6\" >0.2510</td>\n",
       "                        <td id=\"T_a4cdaeb9_08a1_11ec_9485_30e37a1c1f55row2_col7\" class=\"data row2 col7\" >0.2510</td>\n",
       "                        <td id=\"T_a4cdaeb9_08a1_11ec_9485_30e37a1c1f55row2_col8\" class=\"data row2 col8\" >35.9317</td>\n",
       "            </tr>\n",
       "            <tr>\n",
       "                        <th id=\"T_a4cdaeb9_08a1_11ec_9485_30e37a1c1f55level0_row3\" class=\"row_heading level0 row3\" >lightgbm</th>\n",
       "                        <td id=\"T_a4cdaeb9_08a1_11ec_9485_30e37a1c1f55row3_col0\" class=\"data row3 col0\" >Light Gradient Boosting Machine</td>\n",
       "                        <td id=\"T_a4cdaeb9_08a1_11ec_9485_30e37a1c1f55row3_col1\" class=\"data row3 col1\" >0.6253</td>\n",
       "                        <td id=\"T_a4cdaeb9_08a1_11ec_9485_30e37a1c1f55row3_col2\" class=\"data row3 col2\" >0.6831</td>\n",
       "                        <td id=\"T_a4cdaeb9_08a1_11ec_9485_30e37a1c1f55row3_col3\" class=\"data row3 col3\" >0.6786</td>\n",
       "                        <td id=\"T_a4cdaeb9_08a1_11ec_9485_30e37a1c1f55row3_col4\" class=\"data row3 col4\" >0.5784</td>\n",
       "                        <td id=\"T_a4cdaeb9_08a1_11ec_9485_30e37a1c1f55row3_col5\" class=\"data row3 col5\" >0.6245</td>\n",
       "                        <td id=\"T_a4cdaeb9_08a1_11ec_9485_30e37a1c1f55row3_col6\" class=\"data row3 col6\" >0.2554</td>\n",
       "                        <td id=\"T_a4cdaeb9_08a1_11ec_9485_30e37a1c1f55row3_col7\" class=\"data row3 col7\" >0.2587</td>\n",
       "                        <td id=\"T_a4cdaeb9_08a1_11ec_9485_30e37a1c1f55row3_col8\" class=\"data row3 col8\" >24.4400</td>\n",
       "            </tr>\n",
       "            <tr>\n",
       "                        <th id=\"T_a4cdaeb9_08a1_11ec_9485_30e37a1c1f55level0_row4\" class=\"row_heading level0 row4\" >gbc</th>\n",
       "                        <td id=\"T_a4cdaeb9_08a1_11ec_9485_30e37a1c1f55row4_col0\" class=\"data row4 col0\" >Gradient Boosting Classifier</td>\n",
       "                        <td id=\"T_a4cdaeb9_08a1_11ec_9485_30e37a1c1f55row4_col1\" class=\"data row4 col1\" >0.6145</td>\n",
       "                        <td id=\"T_a4cdaeb9_08a1_11ec_9485_30e37a1c1f55row4_col2\" class=\"data row4 col2\" >0.6652</td>\n",
       "                        <td id=\"T_a4cdaeb9_08a1_11ec_9485_30e37a1c1f55row4_col3\" class=\"data row4 col3\" >0.7152</td>\n",
       "                        <td id=\"T_a4cdaeb9_08a1_11ec_9485_30e37a1c1f55row4_col4\" class=\"data row4 col4\" >0.5631</td>\n",
       "                        <td id=\"T_a4cdaeb9_08a1_11ec_9485_30e37a1c1f55row4_col5\" class=\"data row4 col5\" >0.6301</td>\n",
       "                        <td id=\"T_a4cdaeb9_08a1_11ec_9485_30e37a1c1f55row4_col6\" class=\"data row4 col6\" >0.2393</td>\n",
       "                        <td id=\"T_a4cdaeb9_08a1_11ec_9485_30e37a1c1f55row4_col7\" class=\"data row4 col7\" >0.2468</td>\n",
       "                        <td id=\"T_a4cdaeb9_08a1_11ec_9485_30e37a1c1f55row4_col8\" class=\"data row4 col8\" >32.0467</td>\n",
       "            </tr>\n",
       "            <tr>\n",
       "                        <th id=\"T_a4cdaeb9_08a1_11ec_9485_30e37a1c1f55level0_row5\" class=\"row_heading level0 row5\" >ada</th>\n",
       "                        <td id=\"T_a4cdaeb9_08a1_11ec_9485_30e37a1c1f55row5_col0\" class=\"data row5 col0\" >Ada Boost Classifier</td>\n",
       "                        <td id=\"T_a4cdaeb9_08a1_11ec_9485_30e37a1c1f55row5_col1\" class=\"data row5 col1\" >0.6091</td>\n",
       "                        <td id=\"T_a4cdaeb9_08a1_11ec_9485_30e37a1c1f55row5_col2\" class=\"data row5 col2\" >0.6548</td>\n",
       "                        <td id=\"T_a4cdaeb9_08a1_11ec_9485_30e37a1c1f55row5_col3\" class=\"data row5 col3\" >0.6954</td>\n",
       "                        <td id=\"T_a4cdaeb9_08a1_11ec_9485_30e37a1c1f55row5_col4\" class=\"data row5 col4\" >0.5598</td>\n",
       "                        <td id=\"T_a4cdaeb9_08a1_11ec_9485_30e37a1c1f55row5_col5\" class=\"data row5 col5\" >0.6202</td>\n",
       "                        <td id=\"T_a4cdaeb9_08a1_11ec_9485_30e37a1c1f55row5_col6\" class=\"data row5 col6\" >0.2271</td>\n",
       "                        <td id=\"T_a4cdaeb9_08a1_11ec_9485_30e37a1c1f55row5_col7\" class=\"data row5 col7\" >0.2328</td>\n",
       "                        <td id=\"T_a4cdaeb9_08a1_11ec_9485_30e37a1c1f55row5_col8\" class=\"data row5 col8\" >27.2900</td>\n",
       "            </tr>\n",
       "            <tr>\n",
       "                        <th id=\"T_a4cdaeb9_08a1_11ec_9485_30e37a1c1f55level0_row6\" class=\"row_heading level0 row6\" >et</th>\n",
       "                        <td id=\"T_a4cdaeb9_08a1_11ec_9485_30e37a1c1f55row6_col0\" class=\"data row6 col0\" >Extra Trees Classifier</td>\n",
       "                        <td id=\"T_a4cdaeb9_08a1_11ec_9485_30e37a1c1f55row6_col1\" class=\"data row6 col1\" >0.6049</td>\n",
       "                        <td id=\"T_a4cdaeb9_08a1_11ec_9485_30e37a1c1f55row6_col2\" class=\"data row6 col2\" >0.6421</td>\n",
       "                        <td id=\"T_a4cdaeb9_08a1_11ec_9485_30e37a1c1f55row6_col3\" class=\"data row6 col3\" >0.5398</td>\n",
       "                        <td id=\"T_a4cdaeb9_08a1_11ec_9485_30e37a1c1f55row6_col4\" class=\"data row6 col4\" >0.5742</td>\n",
       "                        <td id=\"T_a4cdaeb9_08a1_11ec_9485_30e37a1c1f55row6_col5\" class=\"data row6 col5\" >0.5564</td>\n",
       "                        <td id=\"T_a4cdaeb9_08a1_11ec_9485_30e37a1c1f55row6_col6\" class=\"data row6 col6\" >0.2009</td>\n",
       "                        <td id=\"T_a4cdaeb9_08a1_11ec_9485_30e37a1c1f55row6_col7\" class=\"data row6 col7\" >0.2013</td>\n",
       "                        <td id=\"T_a4cdaeb9_08a1_11ec_9485_30e37a1c1f55row6_col8\" class=\"data row6 col8\" >33.6733</td>\n",
       "            </tr>\n",
       "            <tr>\n",
       "                        <th id=\"T_a4cdaeb9_08a1_11ec_9485_30e37a1c1f55level0_row7\" class=\"row_heading level0 row7\" >dt</th>\n",
       "                        <td id=\"T_a4cdaeb9_08a1_11ec_9485_30e37a1c1f55row7_col0\" class=\"data row7 col0\" >Decision Tree Classifier</td>\n",
       "                        <td id=\"T_a4cdaeb9_08a1_11ec_9485_30e37a1c1f55row7_col1\" class=\"data row7 col1\" >0.5863</td>\n",
       "                        <td id=\"T_a4cdaeb9_08a1_11ec_9485_30e37a1c1f55row7_col2\" class=\"data row7 col2\" >0.5846</td>\n",
       "                        <td id=\"T_a4cdaeb9_08a1_11ec_9485_30e37a1c1f55row7_col3\" class=\"data row7 col3\" >0.5626</td>\n",
       "                        <td id=\"T_a4cdaeb9_08a1_11ec_9485_30e37a1c1f55row7_col4\" class=\"data row7 col4\" >0.5482</td>\n",
       "                        <td id=\"T_a4cdaeb9_08a1_11ec_9485_30e37a1c1f55row7_col5\" class=\"data row7 col5\" >0.5553</td>\n",
       "                        <td id=\"T_a4cdaeb9_08a1_11ec_9485_30e37a1c1f55row7_col6\" class=\"data row7 col6\" >0.1687</td>\n",
       "                        <td id=\"T_a4cdaeb9_08a1_11ec_9485_30e37a1c1f55row7_col7\" class=\"data row7 col7\" >0.1688</td>\n",
       "                        <td id=\"T_a4cdaeb9_08a1_11ec_9485_30e37a1c1f55row7_col8\" class=\"data row7 col8\" >29.3700</td>\n",
       "            </tr>\n",
       "            <tr>\n",
       "                        <th id=\"T_a4cdaeb9_08a1_11ec_9485_30e37a1c1f55level0_row8\" class=\"row_heading level0 row8\" >lr</th>\n",
       "                        <td id=\"T_a4cdaeb9_08a1_11ec_9485_30e37a1c1f55row8_col0\" class=\"data row8 col0\" >Logistic Regression</td>\n",
       "                        <td id=\"T_a4cdaeb9_08a1_11ec_9485_30e37a1c1f55row8_col1\" class=\"data row8 col1\" >0.5831</td>\n",
       "                        <td id=\"T_a4cdaeb9_08a1_11ec_9485_30e37a1c1f55row8_col2\" class=\"data row8 col2\" >0.6173</td>\n",
       "                        <td id=\"T_a4cdaeb9_08a1_11ec_9485_30e37a1c1f55row8_col3\" class=\"data row8 col3\" >0.5917</td>\n",
       "                        <td id=\"T_a4cdaeb9_08a1_11ec_9485_30e37a1c1f55row8_col4\" class=\"data row8 col4\" >0.5421</td>\n",
       "                        <td id=\"T_a4cdaeb9_08a1_11ec_9485_30e37a1c1f55row8_col5\" class=\"data row8 col5\" >0.5658</td>\n",
       "                        <td id=\"T_a4cdaeb9_08a1_11ec_9485_30e37a1c1f55row8_col6\" class=\"data row8 col6\" >0.1664</td>\n",
       "                        <td id=\"T_a4cdaeb9_08a1_11ec_9485_30e37a1c1f55row8_col7\" class=\"data row8 col7\" >0.1670</td>\n",
       "                        <td id=\"T_a4cdaeb9_08a1_11ec_9485_30e37a1c1f55row8_col8\" class=\"data row8 col8\" >36.5467</td>\n",
       "            </tr>\n",
       "            <tr>\n",
       "                        <th id=\"T_a4cdaeb9_08a1_11ec_9485_30e37a1c1f55level0_row9\" class=\"row_heading level0 row9\" >svm</th>\n",
       "                        <td id=\"T_a4cdaeb9_08a1_11ec_9485_30e37a1c1f55row9_col0\" class=\"data row9 col0\" >SVM - Linear Kernel</td>\n",
       "                        <td id=\"T_a4cdaeb9_08a1_11ec_9485_30e37a1c1f55row9_col1\" class=\"data row9 col1\" >0.5829</td>\n",
       "                        <td id=\"T_a4cdaeb9_08a1_11ec_9485_30e37a1c1f55row9_col2\" class=\"data row9 col2\" >0.0000</td>\n",
       "                        <td id=\"T_a4cdaeb9_08a1_11ec_9485_30e37a1c1f55row9_col3\" class=\"data row9 col3\" >0.5466</td>\n",
       "                        <td id=\"T_a4cdaeb9_08a1_11ec_9485_30e37a1c1f55row9_col4\" class=\"data row9 col4\" >0.5457</td>\n",
       "                        <td id=\"T_a4cdaeb9_08a1_11ec_9485_30e37a1c1f55row9_col5\" class=\"data row9 col5\" >0.5460</td>\n",
       "                        <td id=\"T_a4cdaeb9_08a1_11ec_9485_30e37a1c1f55row9_col6\" class=\"data row9 col6\" >0.1602</td>\n",
       "                        <td id=\"T_a4cdaeb9_08a1_11ec_9485_30e37a1c1f55row9_col7\" class=\"data row9 col7\" >0.1603</td>\n",
       "                        <td id=\"T_a4cdaeb9_08a1_11ec_9485_30e37a1c1f55row9_col8\" class=\"data row9 col8\" >27.5833</td>\n",
       "            </tr>\n",
       "            <tr>\n",
       "                        <th id=\"T_a4cdaeb9_08a1_11ec_9485_30e37a1c1f55level0_row10\" class=\"row_heading level0 row10\" >ridge</th>\n",
       "                        <td id=\"T_a4cdaeb9_08a1_11ec_9485_30e37a1c1f55row10_col0\" class=\"data row10 col0\" >Ridge Classifier</td>\n",
       "                        <td id=\"T_a4cdaeb9_08a1_11ec_9485_30e37a1c1f55row10_col1\" class=\"data row10 col1\" >0.5827</td>\n",
       "                        <td id=\"T_a4cdaeb9_08a1_11ec_9485_30e37a1c1f55row10_col2\" class=\"data row10 col2\" >0.0000</td>\n",
       "                        <td id=\"T_a4cdaeb9_08a1_11ec_9485_30e37a1c1f55row10_col3\" class=\"data row10 col3\" >0.5924</td>\n",
       "                        <td id=\"T_a4cdaeb9_08a1_11ec_9485_30e37a1c1f55row10_col4\" class=\"data row10 col4\" >0.5416</td>\n",
       "                        <td id=\"T_a4cdaeb9_08a1_11ec_9485_30e37a1c1f55row10_col5\" class=\"data row10 col5\" >0.5659</td>\n",
       "                        <td id=\"T_a4cdaeb9_08a1_11ec_9485_30e37a1c1f55row10_col6\" class=\"data row10 col6\" >0.1657</td>\n",
       "                        <td id=\"T_a4cdaeb9_08a1_11ec_9485_30e37a1c1f55row10_col7\" class=\"data row10 col7\" >0.1664</td>\n",
       "                        <td id=\"T_a4cdaeb9_08a1_11ec_9485_30e37a1c1f55row10_col8\" class=\"data row10 col8\" >25.8033</td>\n",
       "            </tr>\n",
       "            <tr>\n",
       "                        <th id=\"T_a4cdaeb9_08a1_11ec_9485_30e37a1c1f55level0_row11\" class=\"row_heading level0 row11\" >lda</th>\n",
       "                        <td id=\"T_a4cdaeb9_08a1_11ec_9485_30e37a1c1f55row11_col0\" class=\"data row11 col0\" >Linear Discriminant Analysis</td>\n",
       "                        <td id=\"T_a4cdaeb9_08a1_11ec_9485_30e37a1c1f55row11_col1\" class=\"data row11 col1\" >0.5827</td>\n",
       "                        <td id=\"T_a4cdaeb9_08a1_11ec_9485_30e37a1c1f55row11_col2\" class=\"data row11 col2\" >0.6172</td>\n",
       "                        <td id=\"T_a4cdaeb9_08a1_11ec_9485_30e37a1c1f55row11_col3\" class=\"data row11 col3\" >0.5926</td>\n",
       "                        <td id=\"T_a4cdaeb9_08a1_11ec_9485_30e37a1c1f55row11_col4\" class=\"data row11 col4\" >0.5416</td>\n",
       "                        <td id=\"T_a4cdaeb9_08a1_11ec_9485_30e37a1c1f55row11_col5\" class=\"data row11 col5\" >0.5659</td>\n",
       "                        <td id=\"T_a4cdaeb9_08a1_11ec_9485_30e37a1c1f55row11_col6\" class=\"data row11 col6\" >0.1657</td>\n",
       "                        <td id=\"T_a4cdaeb9_08a1_11ec_9485_30e37a1c1f55row11_col7\" class=\"data row11 col7\" >0.1663</td>\n",
       "                        <td id=\"T_a4cdaeb9_08a1_11ec_9485_30e37a1c1f55row11_col8\" class=\"data row11 col8\" >24.1483</td>\n",
       "            </tr>\n",
       "            <tr>\n",
       "                        <th id=\"T_a4cdaeb9_08a1_11ec_9485_30e37a1c1f55level0_row12\" class=\"row_heading level0 row12\" >knn</th>\n",
       "                        <td id=\"T_a4cdaeb9_08a1_11ec_9485_30e37a1c1f55row12_col0\" class=\"data row12 col0\" >K Neighbors Classifier</td>\n",
       "                        <td id=\"T_a4cdaeb9_08a1_11ec_9485_30e37a1c1f55row12_col1\" class=\"data row12 col1\" >0.5701</td>\n",
       "                        <td id=\"T_a4cdaeb9_08a1_11ec_9485_30e37a1c1f55row12_col2\" class=\"data row12 col2\" >0.5962</td>\n",
       "                        <td id=\"T_a4cdaeb9_08a1_11ec_9485_30e37a1c1f55row12_col3\" class=\"data row12 col3\" >0.5968</td>\n",
       "                        <td id=\"T_a4cdaeb9_08a1_11ec_9485_30e37a1c1f55row12_col4\" class=\"data row12 col4\" >0.5282</td>\n",
       "                        <td id=\"T_a4cdaeb9_08a1_11ec_9485_30e37a1c1f55row12_col5\" class=\"data row12 col5\" >0.5604</td>\n",
       "                        <td id=\"T_a4cdaeb9_08a1_11ec_9485_30e37a1c1f55row12_col6\" class=\"data row12 col6\" >0.1429</td>\n",
       "                        <td id=\"T_a4cdaeb9_08a1_11ec_9485_30e37a1c1f55row12_col7\" class=\"data row12 col7\" >0.1439</td>\n",
       "                        <td id=\"T_a4cdaeb9_08a1_11ec_9485_30e37a1c1f55row12_col8\" class=\"data row12 col8\" >60.2367</td>\n",
       "            </tr>\n",
       "            <tr>\n",
       "                        <th id=\"T_a4cdaeb9_08a1_11ec_9485_30e37a1c1f55level0_row13\" class=\"row_heading level0 row13\" >nb</th>\n",
       "                        <td id=\"T_a4cdaeb9_08a1_11ec_9485_30e37a1c1f55row13_col0\" class=\"data row13 col0\" >Naive Bayes</td>\n",
       "                        <td id=\"T_a4cdaeb9_08a1_11ec_9485_30e37a1c1f55row13_col1\" class=\"data row13 col1\" >0.4721</td>\n",
       "                        <td id=\"T_a4cdaeb9_08a1_11ec_9485_30e37a1c1f55row13_col2\" class=\"data row13 col2\" >0.5354</td>\n",
       "                        <td id=\"T_a4cdaeb9_08a1_11ec_9485_30e37a1c1f55row13_col3\" class=\"data row13 col3\" >0.9710</td>\n",
       "                        <td id=\"T_a4cdaeb9_08a1_11ec_9485_30e37a1c1f55row13_col4\" class=\"data row13 col4\" >0.4642</td>\n",
       "                        <td id=\"T_a4cdaeb9_08a1_11ec_9485_30e37a1c1f55row13_col5\" class=\"data row13 col5\" >0.6281</td>\n",
       "                        <td id=\"T_a4cdaeb9_08a1_11ec_9485_30e37a1c1f55row13_col6\" class=\"data row13 col6\" >0.0181</td>\n",
       "                        <td id=\"T_a4cdaeb9_08a1_11ec_9485_30e37a1c1f55row13_col7\" class=\"data row13 col7\" >0.0506</td>\n",
       "                        <td id=\"T_a4cdaeb9_08a1_11ec_9485_30e37a1c1f55row13_col8\" class=\"data row13 col8\" >26.6133</td>\n",
       "            </tr>\n",
       "            <tr>\n",
       "                        <th id=\"T_a4cdaeb9_08a1_11ec_9485_30e37a1c1f55level0_row14\" class=\"row_heading level0 row14\" >qda</th>\n",
       "                        <td id=\"T_a4cdaeb9_08a1_11ec_9485_30e37a1c1f55row14_col0\" class=\"data row14 col0\" >Quadratic Discriminant Analysis</td>\n",
       "                        <td id=\"T_a4cdaeb9_08a1_11ec_9485_30e37a1c1f55row14_col1\" class=\"data row14 col1\" >0.4593</td>\n",
       "                        <td id=\"T_a4cdaeb9_08a1_11ec_9485_30e37a1c1f55row14_col2\" class=\"data row14 col2\" >0.5001</td>\n",
       "                        <td id=\"T_a4cdaeb9_08a1_11ec_9485_30e37a1c1f55row14_col3\" class=\"data row14 col3\" >0.9997</td>\n",
       "                        <td id=\"T_a4cdaeb9_08a1_11ec_9485_30e37a1c1f55row14_col4\" class=\"data row14 col4\" >0.4592</td>\n",
       "                        <td id=\"T_a4cdaeb9_08a1_11ec_9485_30e37a1c1f55row14_col5\" class=\"data row14 col5\" >0.6293</td>\n",
       "                        <td id=\"T_a4cdaeb9_08a1_11ec_9485_30e37a1c1f55row14_col6\" class=\"data row14 col6\" >0.0002</td>\n",
       "                        <td id=\"T_a4cdaeb9_08a1_11ec_9485_30e37a1c1f55row14_col7\" class=\"data row14 col7\" >0.0068</td>\n",
       "                        <td id=\"T_a4cdaeb9_08a1_11ec_9485_30e37a1c1f55row14_col8\" class=\"data row14 col8\" >28.2217</td>\n",
       "            </tr>\n",
       "    </tbody></table>"
      ],
      "text/plain": [
       "<pandas.io.formats.style.Styler at 0x2273eb890a0>"
      ]
     },
     "metadata": {},
     "output_type": "display_data"
    }
   ],
   "source": [
    "#best = compare_models()"
   ]
  },
  {
   "cell_type": "code",
   "execution_count": 126,
   "metadata": {},
   "outputs": [
    {
     "data": {
      "text/html": [
       "<style  type=\"text/css\" >\n",
       "#T_699e67a4_0959_11ec_8118_30e37a1c1f55row3_col0,#T_699e67a4_0959_11ec_8118_30e37a1c1f55row3_col1,#T_699e67a4_0959_11ec_8118_30e37a1c1f55row3_col2,#T_699e67a4_0959_11ec_8118_30e37a1c1f55row3_col3,#T_699e67a4_0959_11ec_8118_30e37a1c1f55row3_col4,#T_699e67a4_0959_11ec_8118_30e37a1c1f55row3_col5,#T_699e67a4_0959_11ec_8118_30e37a1c1f55row3_col6{\n",
       "            background:  yellow;\n",
       "        }</style><table id=\"T_699e67a4_0959_11ec_8118_30e37a1c1f55\" ><thead>    <tr>        <th class=\"blank level0\" ></th>        <th class=\"col_heading level0 col0\" >Accuracy</th>        <th class=\"col_heading level0 col1\" >AUC</th>        <th class=\"col_heading level0 col2\" >Recall</th>        <th class=\"col_heading level0 col3\" >Prec.</th>        <th class=\"col_heading level0 col4\" >F1</th>        <th class=\"col_heading level0 col5\" >Kappa</th>        <th class=\"col_heading level0 col6\" >MCC</th>    </tr></thead><tbody>\n",
       "                <tr>\n",
       "                        <th id=\"T_699e67a4_0959_11ec_8118_30e37a1c1f55level0_row0\" class=\"row_heading level0 row0\" >0</th>\n",
       "                        <td id=\"T_699e67a4_0959_11ec_8118_30e37a1c1f55row0_col0\" class=\"data row0 col0\" >0.645</td>\n",
       "                        <td id=\"T_699e67a4_0959_11ec_8118_30e37a1c1f55row0_col1\" class=\"data row0 col1\" >0.707</td>\n",
       "                        <td id=\"T_699e67a4_0959_11ec_8118_30e37a1c1f55row0_col2\" class=\"data row0 col2\" >0.643</td>\n",
       "                        <td id=\"T_699e67a4_0959_11ec_8118_30e37a1c1f55row0_col3\" class=\"data row0 col3\" >0.608</td>\n",
       "                        <td id=\"T_699e67a4_0959_11ec_8118_30e37a1c1f55row0_col4\" class=\"data row0 col4\" >0.625</td>\n",
       "                        <td id=\"T_699e67a4_0959_11ec_8118_30e37a1c1f55row0_col5\" class=\"data row0 col5\" >0.289</td>\n",
       "                        <td id=\"T_699e67a4_0959_11ec_8118_30e37a1c1f55row0_col6\" class=\"data row0 col6\" >0.289</td>\n",
       "            </tr>\n",
       "            <tr>\n",
       "                        <th id=\"T_699e67a4_0959_11ec_8118_30e37a1c1f55level0_row1\" class=\"row_heading level0 row1\" >1</th>\n",
       "                        <td id=\"T_699e67a4_0959_11ec_8118_30e37a1c1f55row1_col0\" class=\"data row1 col0\" >0.641</td>\n",
       "                        <td id=\"T_699e67a4_0959_11ec_8118_30e37a1c1f55row1_col1\" class=\"data row1 col1\" >0.706</td>\n",
       "                        <td id=\"T_699e67a4_0959_11ec_8118_30e37a1c1f55row1_col2\" class=\"data row1 col2\" >0.636</td>\n",
       "                        <td id=\"T_699e67a4_0959_11ec_8118_30e37a1c1f55row1_col3\" class=\"data row1 col3\" >0.604</td>\n",
       "                        <td id=\"T_699e67a4_0959_11ec_8118_30e37a1c1f55row1_col4\" class=\"data row1 col4\" >0.619</td>\n",
       "                        <td id=\"T_699e67a4_0959_11ec_8118_30e37a1c1f55row1_col5\" class=\"data row1 col5\" >0.280</td>\n",
       "                        <td id=\"T_699e67a4_0959_11ec_8118_30e37a1c1f55row1_col6\" class=\"data row1 col6\" >0.280</td>\n",
       "            </tr>\n",
       "            <tr>\n",
       "                        <th id=\"T_699e67a4_0959_11ec_8118_30e37a1c1f55level0_row2\" class=\"row_heading level0 row2\" >2</th>\n",
       "                        <td id=\"T_699e67a4_0959_11ec_8118_30e37a1c1f55row2_col0\" class=\"data row2 col0\" >0.646</td>\n",
       "                        <td id=\"T_699e67a4_0959_11ec_8118_30e37a1c1f55row2_col1\" class=\"data row2 col1\" >0.707</td>\n",
       "                        <td id=\"T_699e67a4_0959_11ec_8118_30e37a1c1f55row2_col2\" class=\"data row2 col2\" >0.643</td>\n",
       "                        <td id=\"T_699e67a4_0959_11ec_8118_30e37a1c1f55row2_col3\" class=\"data row2 col3\" >0.609</td>\n",
       "                        <td id=\"T_699e67a4_0959_11ec_8118_30e37a1c1f55row2_col4\" class=\"data row2 col4\" >0.626</td>\n",
       "                        <td id=\"T_699e67a4_0959_11ec_8118_30e37a1c1f55row2_col5\" class=\"data row2 col5\" >0.291</td>\n",
       "                        <td id=\"T_699e67a4_0959_11ec_8118_30e37a1c1f55row2_col6\" class=\"data row2 col6\" >0.291</td>\n",
       "            </tr>\n",
       "            <tr>\n",
       "                        <th id=\"T_699e67a4_0959_11ec_8118_30e37a1c1f55level0_row3\" class=\"row_heading level0 row3\" >Mean</th>\n",
       "                        <td id=\"T_699e67a4_0959_11ec_8118_30e37a1c1f55row3_col0\" class=\"data row3 col0\" >0.644</td>\n",
       "                        <td id=\"T_699e67a4_0959_11ec_8118_30e37a1c1f55row3_col1\" class=\"data row3 col1\" >0.706</td>\n",
       "                        <td id=\"T_699e67a4_0959_11ec_8118_30e37a1c1f55row3_col2\" class=\"data row3 col2\" >0.641</td>\n",
       "                        <td id=\"T_699e67a4_0959_11ec_8118_30e37a1c1f55row3_col3\" class=\"data row3 col3\" >0.607</td>\n",
       "                        <td id=\"T_699e67a4_0959_11ec_8118_30e37a1c1f55row3_col4\" class=\"data row3 col4\" >0.623</td>\n",
       "                        <td id=\"T_699e67a4_0959_11ec_8118_30e37a1c1f55row3_col5\" class=\"data row3 col5\" >0.287</td>\n",
       "                        <td id=\"T_699e67a4_0959_11ec_8118_30e37a1c1f55row3_col6\" class=\"data row3 col6\" >0.287</td>\n",
       "            </tr>\n",
       "            <tr>\n",
       "                        <th id=\"T_699e67a4_0959_11ec_8118_30e37a1c1f55level0_row4\" class=\"row_heading level0 row4\" >SD</th>\n",
       "                        <td id=\"T_699e67a4_0959_11ec_8118_30e37a1c1f55row4_col0\" class=\"data row4 col0\" >0.002</td>\n",
       "                        <td id=\"T_699e67a4_0959_11ec_8118_30e37a1c1f55row4_col1\" class=\"data row4 col1\" >0.000</td>\n",
       "                        <td id=\"T_699e67a4_0959_11ec_8118_30e37a1c1f55row4_col2\" class=\"data row4 col2\" >0.003</td>\n",
       "                        <td id=\"T_699e67a4_0959_11ec_8118_30e37a1c1f55row4_col3\" class=\"data row4 col3\" >0.002</td>\n",
       "                        <td id=\"T_699e67a4_0959_11ec_8118_30e37a1c1f55row4_col4\" class=\"data row4 col4\" >0.003</td>\n",
       "                        <td id=\"T_699e67a4_0959_11ec_8118_30e37a1c1f55row4_col5\" class=\"data row4 col5\" >0.005</td>\n",
       "                        <td id=\"T_699e67a4_0959_11ec_8118_30e37a1c1f55row4_col6\" class=\"data row4 col6\" >0.005</td>\n",
       "            </tr>\n",
       "    </tbody></table>"
      ],
      "text/plain": [
       "<pandas.io.formats.style.Styler at 0x1bc83f6b550>"
      ]
     },
     "metadata": {},
     "output_type": "display_data"
    }
   ],
   "source": [
    "rf = create_model('xgboost', round = 3,fold = 3)"
   ]
  },
  {
   "cell_type": "code",
   "execution_count": 127,
   "metadata": {},
   "outputs": [
    {
     "data": {
      "text/html": [
       "<style  type=\"text/css\" >\n",
       "#T_4e2605a5_095d_11ec_8a57_30e37a1c1f55row3_col0,#T_4e2605a5_095d_11ec_8a57_30e37a1c1f55row3_col1,#T_4e2605a5_095d_11ec_8a57_30e37a1c1f55row3_col2,#T_4e2605a5_095d_11ec_8a57_30e37a1c1f55row3_col3,#T_4e2605a5_095d_11ec_8a57_30e37a1c1f55row3_col4,#T_4e2605a5_095d_11ec_8a57_30e37a1c1f55row3_col5,#T_4e2605a5_095d_11ec_8a57_30e37a1c1f55row3_col6{\n",
       "            background:  yellow;\n",
       "        }</style><table id=\"T_4e2605a5_095d_11ec_8a57_30e37a1c1f55\" ><thead>    <tr>        <th class=\"blank level0\" ></th>        <th class=\"col_heading level0 col0\" >Accuracy</th>        <th class=\"col_heading level0 col1\" >AUC</th>        <th class=\"col_heading level0 col2\" >Recall</th>        <th class=\"col_heading level0 col3\" >Prec.</th>        <th class=\"col_heading level0 col4\" >F1</th>        <th class=\"col_heading level0 col5\" >Kappa</th>        <th class=\"col_heading level0 col6\" >MCC</th>    </tr></thead><tbody>\n",
       "                <tr>\n",
       "                        <th id=\"T_4e2605a5_095d_11ec_8a57_30e37a1c1f55level0_row0\" class=\"row_heading level0 row0\" >0</th>\n",
       "                        <td id=\"T_4e2605a5_095d_11ec_8a57_30e37a1c1f55row0_col0\" class=\"data row0 col0\" >0.5841</td>\n",
       "                        <td id=\"T_4e2605a5_095d_11ec_8a57_30e37a1c1f55row0_col1\" class=\"data row0 col1\" >0.6870</td>\n",
       "                        <td id=\"T_4e2605a5_095d_11ec_8a57_30e37a1c1f55row0_col2\" class=\"data row0 col2\" >0.9259</td>\n",
       "                        <td id=\"T_4e2605a5_095d_11ec_8a57_30e37a1c1f55row0_col3\" class=\"data row0 col3\" >0.5271</td>\n",
       "                        <td id=\"T_4e2605a5_095d_11ec_8a57_30e37a1c1f55row0_col4\" class=\"data row0 col4\" >0.6718</td>\n",
       "                        <td id=\"T_4e2605a5_095d_11ec_8a57_30e37a1c1f55row0_col5\" class=\"data row0 col5\" >0.2076</td>\n",
       "                        <td id=\"T_4e2605a5_095d_11ec_8a57_30e37a1c1f55row0_col6\" class=\"data row0 col6\" >0.2772</td>\n",
       "            </tr>\n",
       "            <tr>\n",
       "                        <th id=\"T_4e2605a5_095d_11ec_8a57_30e37a1c1f55level0_row1\" class=\"row_heading level0 row1\" >1</th>\n",
       "                        <td id=\"T_4e2605a5_095d_11ec_8a57_30e37a1c1f55row1_col0\" class=\"data row1 col0\" >0.5825</td>\n",
       "                        <td id=\"T_4e2605a5_095d_11ec_8a57_30e37a1c1f55row1_col1\" class=\"data row1 col1\" >0.6878</td>\n",
       "                        <td id=\"T_4e2605a5_095d_11ec_8a57_30e37a1c1f55row1_col2\" class=\"data row1 col2\" >0.9294</td>\n",
       "                        <td id=\"T_4e2605a5_095d_11ec_8a57_30e37a1c1f55row1_col3\" class=\"data row1 col3\" >0.5259</td>\n",
       "                        <td id=\"T_4e2605a5_095d_11ec_8a57_30e37a1c1f55row1_col4\" class=\"data row1 col4\" >0.6717</td>\n",
       "                        <td id=\"T_4e2605a5_095d_11ec_8a57_30e37a1c1f55row1_col5\" class=\"data row1 col5\" >0.2050</td>\n",
       "                        <td id=\"T_4e2605a5_095d_11ec_8a57_30e37a1c1f55row1_col6\" class=\"data row1 col6\" >0.2767</td>\n",
       "            </tr>\n",
       "            <tr>\n",
       "                        <th id=\"T_4e2605a5_095d_11ec_8a57_30e37a1c1f55level0_row2\" class=\"row_heading level0 row2\" >2</th>\n",
       "                        <td id=\"T_4e2605a5_095d_11ec_8a57_30e37a1c1f55row2_col0\" class=\"data row2 col0\" >0.5805</td>\n",
       "                        <td id=\"T_4e2605a5_095d_11ec_8a57_30e37a1c1f55row2_col1\" class=\"data row2 col1\" >0.6826</td>\n",
       "                        <td id=\"T_4e2605a5_095d_11ec_8a57_30e37a1c1f55row2_col2\" class=\"data row2 col2\" >0.9185</td>\n",
       "                        <td id=\"T_4e2605a5_095d_11ec_8a57_30e37a1c1f55row2_col3\" class=\"data row2 col3\" >0.5249</td>\n",
       "                        <td id=\"T_4e2605a5_095d_11ec_8a57_30e37a1c1f55row2_col4\" class=\"data row2 col4\" >0.6681</td>\n",
       "                        <td id=\"T_4e2605a5_095d_11ec_8a57_30e37a1c1f55row2_col5\" class=\"data row2 col5\" >0.2003</td>\n",
       "                        <td id=\"T_4e2605a5_095d_11ec_8a57_30e37a1c1f55row2_col6\" class=\"data row2 col6\" >0.2657</td>\n",
       "            </tr>\n",
       "            <tr>\n",
       "                        <th id=\"T_4e2605a5_095d_11ec_8a57_30e37a1c1f55level0_row3\" class=\"row_heading level0 row3\" >Mean</th>\n",
       "                        <td id=\"T_4e2605a5_095d_11ec_8a57_30e37a1c1f55row3_col0\" class=\"data row3 col0\" >0.5824</td>\n",
       "                        <td id=\"T_4e2605a5_095d_11ec_8a57_30e37a1c1f55row3_col1\" class=\"data row3 col1\" >0.6858</td>\n",
       "                        <td id=\"T_4e2605a5_095d_11ec_8a57_30e37a1c1f55row3_col2\" class=\"data row3 col2\" >0.9246</td>\n",
       "                        <td id=\"T_4e2605a5_095d_11ec_8a57_30e37a1c1f55row3_col3\" class=\"data row3 col3\" >0.5260</td>\n",
       "                        <td id=\"T_4e2605a5_095d_11ec_8a57_30e37a1c1f55row3_col4\" class=\"data row3 col4\" >0.6705</td>\n",
       "                        <td id=\"T_4e2605a5_095d_11ec_8a57_30e37a1c1f55row3_col5\" class=\"data row3 col5\" >0.2043</td>\n",
       "                        <td id=\"T_4e2605a5_095d_11ec_8a57_30e37a1c1f55row3_col6\" class=\"data row3 col6\" >0.2732</td>\n",
       "            </tr>\n",
       "            <tr>\n",
       "                        <th id=\"T_4e2605a5_095d_11ec_8a57_30e37a1c1f55level0_row4\" class=\"row_heading level0 row4\" >SD</th>\n",
       "                        <td id=\"T_4e2605a5_095d_11ec_8a57_30e37a1c1f55row4_col0\" class=\"data row4 col0\" >0.0015</td>\n",
       "                        <td id=\"T_4e2605a5_095d_11ec_8a57_30e37a1c1f55row4_col1\" class=\"data row4 col1\" >0.0023</td>\n",
       "                        <td id=\"T_4e2605a5_095d_11ec_8a57_30e37a1c1f55row4_col2\" class=\"data row4 col2\" >0.0046</td>\n",
       "                        <td id=\"T_4e2605a5_095d_11ec_8a57_30e37a1c1f55row4_col3\" class=\"data row4 col3\" >0.0009</td>\n",
       "                        <td id=\"T_4e2605a5_095d_11ec_8a57_30e37a1c1f55row4_col4\" class=\"data row4 col4\" >0.0017</td>\n",
       "                        <td id=\"T_4e2605a5_095d_11ec_8a57_30e37a1c1f55row4_col5\" class=\"data row4 col5\" >0.0030</td>\n",
       "                        <td id=\"T_4e2605a5_095d_11ec_8a57_30e37a1c1f55row4_col6\" class=\"data row4 col6\" >0.0053</td>\n",
       "            </tr>\n",
       "    </tbody></table>"
      ],
      "text/plain": [
       "<pandas.io.formats.style.Styler at 0x1bc8b877970>"
      ]
     },
     "metadata": {},
     "output_type": "display_data"
    }
   ],
   "source": [
    "tuned_rf = tune_model(rf, optimize = 'Accuracy',fold = 3)"
   ]
  },
  {
   "cell_type": "code",
   "execution_count": 128,
   "metadata": {},
   "outputs": [
    {
     "data": {
      "text/html": [
       "<style  type=\"text/css\" >\n",
       "#T_fd474f64_095d_11ec_ba44_30e37a1c1f55row3_col0,#T_fd474f64_095d_11ec_ba44_30e37a1c1f55row3_col1,#T_fd474f64_095d_11ec_ba44_30e37a1c1f55row3_col2,#T_fd474f64_095d_11ec_ba44_30e37a1c1f55row3_col3,#T_fd474f64_095d_11ec_ba44_30e37a1c1f55row3_col4,#T_fd474f64_095d_11ec_ba44_30e37a1c1f55row3_col5,#T_fd474f64_095d_11ec_ba44_30e37a1c1f55row3_col6{\n",
       "            background:  yellow;\n",
       "        }</style><table id=\"T_fd474f64_095d_11ec_ba44_30e37a1c1f55\" ><thead>    <tr>        <th class=\"blank level0\" ></th>        <th class=\"col_heading level0 col0\" >Accuracy</th>        <th class=\"col_heading level0 col1\" >AUC</th>        <th class=\"col_heading level0 col2\" >Recall</th>        <th class=\"col_heading level0 col3\" >Prec.</th>        <th class=\"col_heading level0 col4\" >F1</th>        <th class=\"col_heading level0 col5\" >Kappa</th>        <th class=\"col_heading level0 col6\" >MCC</th>    </tr></thead><tbody>\n",
       "                <tr>\n",
       "                        <th id=\"T_fd474f64_095d_11ec_ba44_30e37a1c1f55level0_row0\" class=\"row_heading level0 row0\" >0</th>\n",
       "                        <td id=\"T_fd474f64_095d_11ec_ba44_30e37a1c1f55row0_col0\" class=\"data row0 col0\" >0.650</td>\n",
       "                        <td id=\"T_fd474f64_095d_11ec_ba44_30e37a1c1f55row0_col1\" class=\"data row0 col1\" >0.711</td>\n",
       "                        <td id=\"T_fd474f64_095d_11ec_ba44_30e37a1c1f55row0_col2\" class=\"data row0 col2\" >0.656</td>\n",
       "                        <td id=\"T_fd474f64_095d_11ec_ba44_30e37a1c1f55row0_col3\" class=\"data row0 col3\" >0.611</td>\n",
       "                        <td id=\"T_fd474f64_095d_11ec_ba44_30e37a1c1f55row0_col4\" class=\"data row0 col4\" >0.633</td>\n",
       "                        <td id=\"T_fd474f64_095d_11ec_ba44_30e37a1c1f55row0_col5\" class=\"data row0 col5\" >0.300</td>\n",
       "                        <td id=\"T_fd474f64_095d_11ec_ba44_30e37a1c1f55row0_col6\" class=\"data row0 col6\" >0.300</td>\n",
       "            </tr>\n",
       "            <tr>\n",
       "                        <th id=\"T_fd474f64_095d_11ec_ba44_30e37a1c1f55level0_row1\" class=\"row_heading level0 row1\" >1</th>\n",
       "                        <td id=\"T_fd474f64_095d_11ec_ba44_30e37a1c1f55row1_col0\" class=\"data row1 col0\" >0.648</td>\n",
       "                        <td id=\"T_fd474f64_095d_11ec_ba44_30e37a1c1f55row1_col1\" class=\"data row1 col1\" >0.712</td>\n",
       "                        <td id=\"T_fd474f64_095d_11ec_ba44_30e37a1c1f55row1_col2\" class=\"data row1 col2\" >0.650</td>\n",
       "                        <td id=\"T_fd474f64_095d_11ec_ba44_30e37a1c1f55row1_col3\" class=\"data row1 col3\" >0.610</td>\n",
       "                        <td id=\"T_fd474f64_095d_11ec_ba44_30e37a1c1f55row1_col4\" class=\"data row1 col4\" >0.629</td>\n",
       "                        <td id=\"T_fd474f64_095d_11ec_ba44_30e37a1c1f55row1_col5\" class=\"data row1 col5\" >0.295</td>\n",
       "                        <td id=\"T_fd474f64_095d_11ec_ba44_30e37a1c1f55row1_col6\" class=\"data row1 col6\" >0.295</td>\n",
       "            </tr>\n",
       "            <tr>\n",
       "                        <th id=\"T_fd474f64_095d_11ec_ba44_30e37a1c1f55level0_row2\" class=\"row_heading level0 row2\" >2</th>\n",
       "                        <td id=\"T_fd474f64_095d_11ec_ba44_30e37a1c1f55row2_col0\" class=\"data row2 col0\" >0.650</td>\n",
       "                        <td id=\"T_fd474f64_095d_11ec_ba44_30e37a1c1f55row2_col1\" class=\"data row2 col1\" >0.710</td>\n",
       "                        <td id=\"T_fd474f64_095d_11ec_ba44_30e37a1c1f55row2_col2\" class=\"data row2 col2\" >0.654</td>\n",
       "                        <td id=\"T_fd474f64_095d_11ec_ba44_30e37a1c1f55row2_col3\" class=\"data row2 col3\" >0.611</td>\n",
       "                        <td id=\"T_fd474f64_095d_11ec_ba44_30e37a1c1f55row2_col4\" class=\"data row2 col4\" >0.632</td>\n",
       "                        <td id=\"T_fd474f64_095d_11ec_ba44_30e37a1c1f55row2_col5\" class=\"data row2 col5\" >0.299</td>\n",
       "                        <td id=\"T_fd474f64_095d_11ec_ba44_30e37a1c1f55row2_col6\" class=\"data row2 col6\" >0.299</td>\n",
       "            </tr>\n",
       "            <tr>\n",
       "                        <th id=\"T_fd474f64_095d_11ec_ba44_30e37a1c1f55level0_row3\" class=\"row_heading level0 row3\" >Mean</th>\n",
       "                        <td id=\"T_fd474f64_095d_11ec_ba44_30e37a1c1f55row3_col0\" class=\"data row3 col0\" >0.649</td>\n",
       "                        <td id=\"T_fd474f64_095d_11ec_ba44_30e37a1c1f55row3_col1\" class=\"data row3 col1\" >0.711</td>\n",
       "                        <td id=\"T_fd474f64_095d_11ec_ba44_30e37a1c1f55row3_col2\" class=\"data row3 col2\" >0.653</td>\n",
       "                        <td id=\"T_fd474f64_095d_11ec_ba44_30e37a1c1f55row3_col3\" class=\"data row3 col3\" >0.611</td>\n",
       "                        <td id=\"T_fd474f64_095d_11ec_ba44_30e37a1c1f55row3_col4\" class=\"data row3 col4\" >0.631</td>\n",
       "                        <td id=\"T_fd474f64_095d_11ec_ba44_30e37a1c1f55row3_col5\" class=\"data row3 col5\" >0.298</td>\n",
       "                        <td id=\"T_fd474f64_095d_11ec_ba44_30e37a1c1f55row3_col6\" class=\"data row3 col6\" >0.298</td>\n",
       "            </tr>\n",
       "            <tr>\n",
       "                        <th id=\"T_fd474f64_095d_11ec_ba44_30e37a1c1f55level0_row4\" class=\"row_heading level0 row4\" >SD</th>\n",
       "                        <td id=\"T_fd474f64_095d_11ec_ba44_30e37a1c1f55row4_col0\" class=\"data row4 col0\" >0.001</td>\n",
       "                        <td id=\"T_fd474f64_095d_11ec_ba44_30e37a1c1f55row4_col1\" class=\"data row4 col1\" >0.001</td>\n",
       "                        <td id=\"T_fd474f64_095d_11ec_ba44_30e37a1c1f55row4_col2\" class=\"data row4 col2\" >0.002</td>\n",
       "                        <td id=\"T_fd474f64_095d_11ec_ba44_30e37a1c1f55row4_col3\" class=\"data row4 col3\" >0.001</td>\n",
       "                        <td id=\"T_fd474f64_095d_11ec_ba44_30e37a1c1f55row4_col4\" class=\"data row4 col4\" >0.002</td>\n",
       "                        <td id=\"T_fd474f64_095d_11ec_ba44_30e37a1c1f55row4_col5\" class=\"data row4 col5\" >0.002</td>\n",
       "                        <td id=\"T_fd474f64_095d_11ec_ba44_30e37a1c1f55row4_col6\" class=\"data row4 col6\" >0.002</td>\n",
       "            </tr>\n",
       "    </tbody></table>"
      ],
      "text/plain": [
       "<pandas.io.formats.style.Styler at 0x1bc2ada8d00>"
      ]
     },
     "metadata": {},
     "output_type": "display_data"
    }
   ],
   "source": [
    "rb = create_model('catboost', round = 3,fold = 3)"
   ]
  },
  {
   "cell_type": "code",
   "execution_count": 132,
   "metadata": {},
   "outputs": [
    {
     "data": {
      "text/html": [
       "<style  type=\"text/css\" >\n",
       "#T_973d217f_0960_11ec_8e32_30e37a1c1f55row3_col0,#T_973d217f_0960_11ec_8e32_30e37a1c1f55row3_col1,#T_973d217f_0960_11ec_8e32_30e37a1c1f55row3_col2,#T_973d217f_0960_11ec_8e32_30e37a1c1f55row3_col3,#T_973d217f_0960_11ec_8e32_30e37a1c1f55row3_col4,#T_973d217f_0960_11ec_8e32_30e37a1c1f55row3_col5,#T_973d217f_0960_11ec_8e32_30e37a1c1f55row3_col6{\n",
       "            background:  yellow;\n",
       "        }</style><table id=\"T_973d217f_0960_11ec_8e32_30e37a1c1f55\" ><thead>    <tr>        <th class=\"blank level0\" ></th>        <th class=\"col_heading level0 col0\" >Accuracy</th>        <th class=\"col_heading level0 col1\" >AUC</th>        <th class=\"col_heading level0 col2\" >Recall</th>        <th class=\"col_heading level0 col3\" >Prec.</th>        <th class=\"col_heading level0 col4\" >F1</th>        <th class=\"col_heading level0 col5\" >Kappa</th>        <th class=\"col_heading level0 col6\" >MCC</th>    </tr></thead><tbody>\n",
       "                <tr>\n",
       "                        <th id=\"T_973d217f_0960_11ec_8e32_30e37a1c1f55level0_row0\" class=\"row_heading level0 row0\" >0</th>\n",
       "                        <td id=\"T_973d217f_0960_11ec_8e32_30e37a1c1f55row0_col0\" class=\"data row0 col0\" >0.6369</td>\n",
       "                        <td id=\"T_973d217f_0960_11ec_8e32_30e37a1c1f55row0_col1\" class=\"data row0 col1\" >0.6966</td>\n",
       "                        <td id=\"T_973d217f_0960_11ec_8e32_30e37a1c1f55row0_col2\" class=\"data row0 col2\" >0.6266</td>\n",
       "                        <td id=\"T_973d217f_0960_11ec_8e32_30e37a1c1f55row0_col3\" class=\"data row0 col3\" >0.6006</td>\n",
       "                        <td id=\"T_973d217f_0960_11ec_8e32_30e37a1c1f55row0_col4\" class=\"data row0 col4\" >0.6134</td>\n",
       "                        <td id=\"T_973d217f_0960_11ec_8e32_30e37a1c1f55row0_col5\" class=\"data row0 col5\" >0.2714</td>\n",
       "                        <td id=\"T_973d217f_0960_11ec_8e32_30e37a1c1f55row0_col6\" class=\"data row0 col6\" >0.2716</td>\n",
       "            </tr>\n",
       "            <tr>\n",
       "                        <th id=\"T_973d217f_0960_11ec_8e32_30e37a1c1f55level0_row1\" class=\"row_heading level0 row1\" >1</th>\n",
       "                        <td id=\"T_973d217f_0960_11ec_8e32_30e37a1c1f55row1_col0\" class=\"data row1 col0\" >0.6389</td>\n",
       "                        <td id=\"T_973d217f_0960_11ec_8e32_30e37a1c1f55row1_col1\" class=\"data row1 col1\" >0.6985</td>\n",
       "                        <td id=\"T_973d217f_0960_11ec_8e32_30e37a1c1f55row1_col2\" class=\"data row1 col2\" >0.6246</td>\n",
       "                        <td id=\"T_973d217f_0960_11ec_8e32_30e37a1c1f55row1_col3\" class=\"data row1 col3\" >0.6036</td>\n",
       "                        <td id=\"T_973d217f_0960_11ec_8e32_30e37a1c1f55row1_col4\" class=\"data row1 col4\" >0.6139</td>\n",
       "                        <td id=\"T_973d217f_0960_11ec_8e32_30e37a1c1f55row1_col5\" class=\"data row1 col5\" >0.2749</td>\n",
       "                        <td id=\"T_973d217f_0960_11ec_8e32_30e37a1c1f55row1_col6\" class=\"data row1 col6\" >0.2750</td>\n",
       "            </tr>\n",
       "            <tr>\n",
       "                        <th id=\"T_973d217f_0960_11ec_8e32_30e37a1c1f55level0_row2\" class=\"row_heading level0 row2\" >2</th>\n",
       "                        <td id=\"T_973d217f_0960_11ec_8e32_30e37a1c1f55row2_col0\" class=\"data row2 col0\" >0.6417</td>\n",
       "                        <td id=\"T_973d217f_0960_11ec_8e32_30e37a1c1f55row2_col1\" class=\"data row2 col1\" >0.6992</td>\n",
       "                        <td id=\"T_973d217f_0960_11ec_8e32_30e37a1c1f55row2_col2\" class=\"data row2 col2\" >0.6266</td>\n",
       "                        <td id=\"T_973d217f_0960_11ec_8e32_30e37a1c1f55row2_col3\" class=\"data row2 col3\" >0.6067</td>\n",
       "                        <td id=\"T_973d217f_0960_11ec_8e32_30e37a1c1f55row2_col4\" class=\"data row2 col4\" >0.6165</td>\n",
       "                        <td id=\"T_973d217f_0960_11ec_8e32_30e37a1c1f55row2_col5\" class=\"data row2 col5\" >0.2804</td>\n",
       "                        <td id=\"T_973d217f_0960_11ec_8e32_30e37a1c1f55row2_col6\" class=\"data row2 col6\" >0.2805</td>\n",
       "            </tr>\n",
       "            <tr>\n",
       "                        <th id=\"T_973d217f_0960_11ec_8e32_30e37a1c1f55level0_row3\" class=\"row_heading level0 row3\" >Mean</th>\n",
       "                        <td id=\"T_973d217f_0960_11ec_8e32_30e37a1c1f55row3_col0\" class=\"data row3 col0\" >0.6391</td>\n",
       "                        <td id=\"T_973d217f_0960_11ec_8e32_30e37a1c1f55row3_col1\" class=\"data row3 col1\" >0.6981</td>\n",
       "                        <td id=\"T_973d217f_0960_11ec_8e32_30e37a1c1f55row3_col2\" class=\"data row3 col2\" >0.6259</td>\n",
       "                        <td id=\"T_973d217f_0960_11ec_8e32_30e37a1c1f55row3_col3\" class=\"data row3 col3\" >0.6036</td>\n",
       "                        <td id=\"T_973d217f_0960_11ec_8e32_30e37a1c1f55row3_col4\" class=\"data row3 col4\" >0.6146</td>\n",
       "                        <td id=\"T_973d217f_0960_11ec_8e32_30e37a1c1f55row3_col5\" class=\"data row3 col5\" >0.2755</td>\n",
       "                        <td id=\"T_973d217f_0960_11ec_8e32_30e37a1c1f55row3_col6\" class=\"data row3 col6\" >0.2757</td>\n",
       "            </tr>\n",
       "            <tr>\n",
       "                        <th id=\"T_973d217f_0960_11ec_8e32_30e37a1c1f55level0_row4\" class=\"row_heading level0 row4\" >SD</th>\n",
       "                        <td id=\"T_973d217f_0960_11ec_8e32_30e37a1c1f55row4_col0\" class=\"data row4 col0\" >0.0020</td>\n",
       "                        <td id=\"T_973d217f_0960_11ec_8e32_30e37a1c1f55row4_col1\" class=\"data row4 col1\" >0.0011</td>\n",
       "                        <td id=\"T_973d217f_0960_11ec_8e32_30e37a1c1f55row4_col2\" class=\"data row4 col2\" >0.0010</td>\n",
       "                        <td id=\"T_973d217f_0960_11ec_8e32_30e37a1c1f55row4_col3\" class=\"data row4 col3\" >0.0025</td>\n",
       "                        <td id=\"T_973d217f_0960_11ec_8e32_30e37a1c1f55row4_col4\" class=\"data row4 col4\" >0.0014</td>\n",
       "                        <td id=\"T_973d217f_0960_11ec_8e32_30e37a1c1f55row4_col5\" class=\"data row4 col5\" >0.0037</td>\n",
       "                        <td id=\"T_973d217f_0960_11ec_8e32_30e37a1c1f55row4_col6\" class=\"data row4 col6\" >0.0037</td>\n",
       "            </tr>\n",
       "    </tbody></table>"
      ],
      "text/plain": [
       "<pandas.io.formats.style.Styler at 0x1bc77cad460>"
      ]
     },
     "metadata": {},
     "output_type": "display_data"
    }
   ],
   "source": [
    "tuned_rb= tune_model(rb, optimize = 'Accuracy',fold = 3)"
   ]
  },
  {
   "cell_type": "code",
   "execution_count": 133,
   "metadata": {},
   "outputs": [
    {
     "data": {
      "text/html": [
       "<style  type=\"text/css\" >\n",
       "#T_136cf92e_0961_11ec_bb70_30e37a1c1f55row3_col0,#T_136cf92e_0961_11ec_bb70_30e37a1c1f55row3_col1,#T_136cf92e_0961_11ec_bb70_30e37a1c1f55row3_col2,#T_136cf92e_0961_11ec_bb70_30e37a1c1f55row3_col3,#T_136cf92e_0961_11ec_bb70_30e37a1c1f55row3_col4,#T_136cf92e_0961_11ec_bb70_30e37a1c1f55row3_col5,#T_136cf92e_0961_11ec_bb70_30e37a1c1f55row3_col6{\n",
       "            background:  yellow;\n",
       "        }</style><table id=\"T_136cf92e_0961_11ec_bb70_30e37a1c1f55\" ><thead>    <tr>        <th class=\"blank level0\" ></th>        <th class=\"col_heading level0 col0\" >Accuracy</th>        <th class=\"col_heading level0 col1\" >AUC</th>        <th class=\"col_heading level0 col2\" >Recall</th>        <th class=\"col_heading level0 col3\" >Prec.</th>        <th class=\"col_heading level0 col4\" >F1</th>        <th class=\"col_heading level0 col5\" >Kappa</th>        <th class=\"col_heading level0 col6\" >MCC</th>    </tr></thead><tbody>\n",
       "                <tr>\n",
       "                        <th id=\"T_136cf92e_0961_11ec_bb70_30e37a1c1f55level0_row0\" class=\"row_heading level0 row0\" >0</th>\n",
       "                        <td id=\"T_136cf92e_0961_11ec_bb70_30e37a1c1f55row0_col0\" class=\"data row0 col0\" >0.646</td>\n",
       "                        <td id=\"T_136cf92e_0961_11ec_bb70_30e37a1c1f55row0_col1\" class=\"data row0 col1\" >0.705</td>\n",
       "                        <td id=\"T_136cf92e_0961_11ec_bb70_30e37a1c1f55row0_col2\" class=\"data row0 col2\" >0.618</td>\n",
       "                        <td id=\"T_136cf92e_0961_11ec_bb70_30e37a1c1f55row0_col3\" class=\"data row0 col3\" >0.615</td>\n",
       "                        <td id=\"T_136cf92e_0961_11ec_bb70_30e37a1c1f55row0_col4\" class=\"data row0 col4\" >0.616</td>\n",
       "                        <td id=\"T_136cf92e_0961_11ec_bb70_30e37a1c1f55row0_col5\" class=\"data row0 col5\" >0.288</td>\n",
       "                        <td id=\"T_136cf92e_0961_11ec_bb70_30e37a1c1f55row0_col6\" class=\"data row0 col6\" >0.288</td>\n",
       "            </tr>\n",
       "            <tr>\n",
       "                        <th id=\"T_136cf92e_0961_11ec_bb70_30e37a1c1f55level0_row1\" class=\"row_heading level0 row1\" >1</th>\n",
       "                        <td id=\"T_136cf92e_0961_11ec_bb70_30e37a1c1f55row1_col0\" class=\"data row1 col0\" >0.649</td>\n",
       "                        <td id=\"T_136cf92e_0961_11ec_bb70_30e37a1c1f55row1_col1\" class=\"data row1 col1\" >0.707</td>\n",
       "                        <td id=\"T_136cf92e_0961_11ec_bb70_30e37a1c1f55row1_col2\" class=\"data row1 col2\" >0.615</td>\n",
       "                        <td id=\"T_136cf92e_0961_11ec_bb70_30e37a1c1f55row1_col3\" class=\"data row1 col3\" >0.619</td>\n",
       "                        <td id=\"T_136cf92e_0961_11ec_bb70_30e37a1c1f55row1_col4\" class=\"data row1 col4\" >0.617</td>\n",
       "                        <td id=\"T_136cf92e_0961_11ec_bb70_30e37a1c1f55row1_col5\" class=\"data row1 col5\" >0.293</td>\n",
       "                        <td id=\"T_136cf92e_0961_11ec_bb70_30e37a1c1f55row1_col6\" class=\"data row1 col6\" >0.293</td>\n",
       "            </tr>\n",
       "            <tr>\n",
       "                        <th id=\"T_136cf92e_0961_11ec_bb70_30e37a1c1f55level0_row2\" class=\"row_heading level0 row2\" >2</th>\n",
       "                        <td id=\"T_136cf92e_0961_11ec_bb70_30e37a1c1f55row2_col0\" class=\"data row2 col0\" >0.646</td>\n",
       "                        <td id=\"T_136cf92e_0961_11ec_bb70_30e37a1c1f55row2_col1\" class=\"data row2 col1\" >0.701</td>\n",
       "                        <td id=\"T_136cf92e_0961_11ec_bb70_30e37a1c1f55row2_col2\" class=\"data row2 col2\" >0.612</td>\n",
       "                        <td id=\"T_136cf92e_0961_11ec_bb70_30e37a1c1f55row2_col3\" class=\"data row2 col3\" >0.616</td>\n",
       "                        <td id=\"T_136cf92e_0961_11ec_bb70_30e37a1c1f55row2_col4\" class=\"data row2 col4\" >0.614</td>\n",
       "                        <td id=\"T_136cf92e_0961_11ec_bb70_30e37a1c1f55row2_col5\" class=\"data row2 col5\" >0.288</td>\n",
       "                        <td id=\"T_136cf92e_0961_11ec_bb70_30e37a1c1f55row2_col6\" class=\"data row2 col6\" >0.288</td>\n",
       "            </tr>\n",
       "            <tr>\n",
       "                        <th id=\"T_136cf92e_0961_11ec_bb70_30e37a1c1f55level0_row3\" class=\"row_heading level0 row3\" >Mean</th>\n",
       "                        <td id=\"T_136cf92e_0961_11ec_bb70_30e37a1c1f55row3_col0\" class=\"data row3 col0\" >0.647</td>\n",
       "                        <td id=\"T_136cf92e_0961_11ec_bb70_30e37a1c1f55row3_col1\" class=\"data row3 col1\" >0.704</td>\n",
       "                        <td id=\"T_136cf92e_0961_11ec_bb70_30e37a1c1f55row3_col2\" class=\"data row3 col2\" >0.615</td>\n",
       "                        <td id=\"T_136cf92e_0961_11ec_bb70_30e37a1c1f55row3_col3\" class=\"data row3 col3\" >0.616</td>\n",
       "                        <td id=\"T_136cf92e_0961_11ec_bb70_30e37a1c1f55row3_col4\" class=\"data row3 col4\" >0.616</td>\n",
       "                        <td id=\"T_136cf92e_0961_11ec_bb70_30e37a1c1f55row3_col5\" class=\"data row3 col5\" >0.289</td>\n",
       "                        <td id=\"T_136cf92e_0961_11ec_bb70_30e37a1c1f55row3_col6\" class=\"data row3 col6\" >0.289</td>\n",
       "            </tr>\n",
       "            <tr>\n",
       "                        <th id=\"T_136cf92e_0961_11ec_bb70_30e37a1c1f55level0_row4\" class=\"row_heading level0 row4\" >SD</th>\n",
       "                        <td id=\"T_136cf92e_0961_11ec_bb70_30e37a1c1f55row4_col0\" class=\"data row4 col0\" >0.001</td>\n",
       "                        <td id=\"T_136cf92e_0961_11ec_bb70_30e37a1c1f55row4_col1\" class=\"data row4 col1\" >0.003</td>\n",
       "                        <td id=\"T_136cf92e_0961_11ec_bb70_30e37a1c1f55row4_col2\" class=\"data row4 col2\" >0.002</td>\n",
       "                        <td id=\"T_136cf92e_0961_11ec_bb70_30e37a1c1f55row4_col3\" class=\"data row4 col3\" >0.002</td>\n",
       "                        <td id=\"T_136cf92e_0961_11ec_bb70_30e37a1c1f55row4_col4\" class=\"data row4 col4\" >0.001</td>\n",
       "                        <td id=\"T_136cf92e_0961_11ec_bb70_30e37a1c1f55row4_col5\" class=\"data row4 col5\" >0.002</td>\n",
       "                        <td id=\"T_136cf92e_0961_11ec_bb70_30e37a1c1f55row4_col6\" class=\"data row4 col6\" >0.002</td>\n",
       "            </tr>\n",
       "    </tbody></table>"
      ],
      "text/plain": [
       "<pandas.io.formats.style.Styler at 0x1bc75a24c70>"
      ]
     },
     "metadata": {},
     "output_type": "display_data"
    }
   ],
   "source": [
    "rk = create_model('rf', round = 3,fold = 3)"
   ]
  },
  {
   "cell_type": "code",
   "execution_count": 135,
   "metadata": {},
   "outputs": [
    {
     "data": {
      "text/html": [
       "<style  type=\"text/css\" >\n",
       "#T_410f4521_0964_11ec_a06b_30e37a1c1f55row3_col0,#T_410f4521_0964_11ec_a06b_30e37a1c1f55row3_col1,#T_410f4521_0964_11ec_a06b_30e37a1c1f55row3_col2,#T_410f4521_0964_11ec_a06b_30e37a1c1f55row3_col3,#T_410f4521_0964_11ec_a06b_30e37a1c1f55row3_col4,#T_410f4521_0964_11ec_a06b_30e37a1c1f55row3_col5,#T_410f4521_0964_11ec_a06b_30e37a1c1f55row3_col6{\n",
       "            background:  yellow;\n",
       "        }</style><table id=\"T_410f4521_0964_11ec_a06b_30e37a1c1f55\" ><thead>    <tr>        <th class=\"blank level0\" ></th>        <th class=\"col_heading level0 col0\" >Accuracy</th>        <th class=\"col_heading level0 col1\" >AUC</th>        <th class=\"col_heading level0 col2\" >Recall</th>        <th class=\"col_heading level0 col3\" >Prec.</th>        <th class=\"col_heading level0 col4\" >F1</th>        <th class=\"col_heading level0 col5\" >Kappa</th>        <th class=\"col_heading level0 col6\" >MCC</th>    </tr></thead><tbody>\n",
       "                <tr>\n",
       "                        <th id=\"T_410f4521_0964_11ec_a06b_30e37a1c1f55level0_row0\" class=\"row_heading level0 row0\" >0</th>\n",
       "                        <td id=\"T_410f4521_0964_11ec_a06b_30e37a1c1f55row0_col0\" class=\"data row0 col0\" >0.6173</td>\n",
       "                        <td id=\"T_410f4521_0964_11ec_a06b_30e37a1c1f55row0_col1\" class=\"data row0 col1\" >0.6675</td>\n",
       "                        <td id=\"T_410f4521_0964_11ec_a06b_30e37a1c1f55row0_col2\" class=\"data row0 col2\" >0.7003</td>\n",
       "                        <td id=\"T_410f4521_0964_11ec_a06b_30e37a1c1f55row0_col3\" class=\"data row0 col3\" >0.5679</td>\n",
       "                        <td id=\"T_410f4521_0964_11ec_a06b_30e37a1c1f55row0_col4\" class=\"data row0 col4\" >0.6272</td>\n",
       "                        <td id=\"T_410f4521_0964_11ec_a06b_30e37a1c1f55row0_col5\" class=\"data row0 col5\" >0.2428</td>\n",
       "                        <td id=\"T_410f4521_0964_11ec_a06b_30e37a1c1f55row0_col6\" class=\"data row0 col6\" >0.2484</td>\n",
       "            </tr>\n",
       "            <tr>\n",
       "                        <th id=\"T_410f4521_0964_11ec_a06b_30e37a1c1f55level0_row1\" class=\"row_heading level0 row1\" >1</th>\n",
       "                        <td id=\"T_410f4521_0964_11ec_a06b_30e37a1c1f55row1_col0\" class=\"data row1 col0\" >0.6213</td>\n",
       "                        <td id=\"T_410f4521_0964_11ec_a06b_30e37a1c1f55row1_col1\" class=\"data row1 col1\" >0.6675</td>\n",
       "                        <td id=\"T_410f4521_0964_11ec_a06b_30e37a1c1f55row1_col2\" class=\"data row1 col2\" >0.6832</td>\n",
       "                        <td id=\"T_410f4521_0964_11ec_a06b_30e37a1c1f55row1_col3\" class=\"data row1 col3\" >0.5740</td>\n",
       "                        <td id=\"T_410f4521_0964_11ec_a06b_30e37a1c1f55row1_col4\" class=\"data row1 col4\" >0.6238</td>\n",
       "                        <td id=\"T_410f4521_0964_11ec_a06b_30e37a1c1f55row1_col5\" class=\"data row1 col5\" >0.2484</td>\n",
       "                        <td id=\"T_410f4521_0964_11ec_a06b_30e37a1c1f55row1_col6\" class=\"data row1 col6\" >0.2522</td>\n",
       "            </tr>\n",
       "            <tr>\n",
       "                        <th id=\"T_410f4521_0964_11ec_a06b_30e37a1c1f55level0_row2\" class=\"row_heading level0 row2\" >2</th>\n",
       "                        <td id=\"T_410f4521_0964_11ec_a06b_30e37a1c1f55row2_col0\" class=\"data row2 col0\" >0.6136</td>\n",
       "                        <td id=\"T_410f4521_0964_11ec_a06b_30e37a1c1f55row2_col1\" class=\"data row2 col1\" >0.6615</td>\n",
       "                        <td id=\"T_410f4521_0964_11ec_a06b_30e37a1c1f55row2_col2\" class=\"data row2 col2\" >0.7173</td>\n",
       "                        <td id=\"T_410f4521_0964_11ec_a06b_30e37a1c1f55row2_col3\" class=\"data row2 col3\" >0.5625</td>\n",
       "                        <td id=\"T_410f4521_0964_11ec_a06b_30e37a1c1f55row2_col4\" class=\"data row2 col4\" >0.6305</td>\n",
       "                        <td id=\"T_410f4521_0964_11ec_a06b_30e37a1c1f55row2_col5\" class=\"data row2 col5\" >0.2379</td>\n",
       "                        <td id=\"T_410f4521_0964_11ec_a06b_30e37a1c1f55row2_col6\" class=\"data row2 col6\" >0.2456</td>\n",
       "            </tr>\n",
       "            <tr>\n",
       "                        <th id=\"T_410f4521_0964_11ec_a06b_30e37a1c1f55level0_row3\" class=\"row_heading level0 row3\" >Mean</th>\n",
       "                        <td id=\"T_410f4521_0964_11ec_a06b_30e37a1c1f55row3_col0\" class=\"data row3 col0\" >0.6174</td>\n",
       "                        <td id=\"T_410f4521_0964_11ec_a06b_30e37a1c1f55row3_col1\" class=\"data row3 col1\" >0.6655</td>\n",
       "                        <td id=\"T_410f4521_0964_11ec_a06b_30e37a1c1f55row3_col2\" class=\"data row3 col2\" >0.7003</td>\n",
       "                        <td id=\"T_410f4521_0964_11ec_a06b_30e37a1c1f55row3_col3\" class=\"data row3 col3\" >0.5681</td>\n",
       "                        <td id=\"T_410f4521_0964_11ec_a06b_30e37a1c1f55row3_col4\" class=\"data row3 col4\" >0.6272</td>\n",
       "                        <td id=\"T_410f4521_0964_11ec_a06b_30e37a1c1f55row3_col5\" class=\"data row3 col5\" >0.2430</td>\n",
       "                        <td id=\"T_410f4521_0964_11ec_a06b_30e37a1c1f55row3_col6\" class=\"data row3 col6\" >0.2487</td>\n",
       "            </tr>\n",
       "            <tr>\n",
       "                        <th id=\"T_410f4521_0964_11ec_a06b_30e37a1c1f55level0_row4\" class=\"row_heading level0 row4\" >SD</th>\n",
       "                        <td id=\"T_410f4521_0964_11ec_a06b_30e37a1c1f55row4_col0\" class=\"data row4 col0\" >0.0031</td>\n",
       "                        <td id=\"T_410f4521_0964_11ec_a06b_30e37a1c1f55row4_col1\" class=\"data row4 col1\" >0.0028</td>\n",
       "                        <td id=\"T_410f4521_0964_11ec_a06b_30e37a1c1f55row4_col2\" class=\"data row4 col2\" >0.0140</td>\n",
       "                        <td id=\"T_410f4521_0964_11ec_a06b_30e37a1c1f55row4_col3\" class=\"data row4 col3\" >0.0047</td>\n",
       "                        <td id=\"T_410f4521_0964_11ec_a06b_30e37a1c1f55row4_col4\" class=\"data row4 col4\" >0.0027</td>\n",
       "                        <td id=\"T_410f4521_0964_11ec_a06b_30e37a1c1f55row4_col5\" class=\"data row4 col5\" >0.0043</td>\n",
       "                        <td id=\"T_410f4521_0964_11ec_a06b_30e37a1c1f55row4_col6\" class=\"data row4 col6\" >0.0027</td>\n",
       "            </tr>\n",
       "    </tbody></table>"
      ],
      "text/plain": [
       "<pandas.io.formats.style.Styler at 0x1bc74ccedf0>"
      ]
     },
     "metadata": {},
     "output_type": "display_data"
    }
   ],
   "source": [
    "tuned_rk= tune_model(rk, optimize = 'Accuracy',fold = 3)"
   ]
  },
  {
   "cell_type": "code",
   "execution_count": 130,
   "metadata": {},
   "outputs": [
    {
     "data": {
      "text/html": [
       "<div>\n",
       "<style scoped>\n",
       "    .dataframe tbody tr th:only-of-type {\n",
       "        vertical-align: middle;\n",
       "    }\n",
       "\n",
       "    .dataframe tbody tr th {\n",
       "        vertical-align: top;\n",
       "    }\n",
       "\n",
       "    .dataframe thead th {\n",
       "        text-align: right;\n",
       "    }\n",
       "</style>\n",
       "<table border=\"1\" class=\"dataframe\">\n",
       "  <thead>\n",
       "    <tr style=\"text-align: right;\">\n",
       "      <th></th>\n",
       "      <th>item_id</th>\n",
       "      <th>item_size</th>\n",
       "      <th>item_color</th>\n",
       "      <th>brand_id</th>\n",
       "      <th>item_price</th>\n",
       "      <th>user_id</th>\n",
       "      <th>user_title</th>\n",
       "      <th>user_state</th>\n",
       "      <th>return</th>\n",
       "      <th>counts</th>\n",
       "      <th>day_of_order</th>\n",
       "      <th>delieverday_of_order</th>\n",
       "      <th>No_of_d_t_R</th>\n",
       "      <th>CAge</th>\n",
       "      <th>AC</th>\n",
       "      <th>Label</th>\n",
       "      <th>Score</th>\n",
       "    </tr>\n",
       "  </thead>\n",
       "  <tbody>\n",
       "    <tr>\n",
       "      <th>47922</th>\n",
       "      <td>1532</td>\n",
       "      <td>91.00</td>\n",
       "      <td>coral</td>\n",
       "      <td>37</td>\n",
       "      <td>26.9</td>\n",
       "      <td>44429</td>\n",
       "      <td>Female</td>\n",
       "      <td>1001</td>\n",
       "      <td>1</td>\n",
       "      <td>11</td>\n",
       "      <td>Tuesday</td>\n",
       "      <td>Tuesday</td>\n",
       "      <td>4</td>\n",
       "      <td>Middle_aged</td>\n",
       "      <td>217</td>\n",
       "      <td>1</td>\n",
       "      <td>0.5738</td>\n",
       "    </tr>\n",
       "    <tr>\n",
       "      <th>49013</th>\n",
       "      <td>1576</td>\n",
       "      <td>101.60</td>\n",
       "      <td>anthracite</td>\n",
       "      <td>90</td>\n",
       "      <td>89.9</td>\n",
       "      <td>18000</td>\n",
       "      <td>Female</td>\n",
       "      <td>1008</td>\n",
       "      <td>1</td>\n",
       "      <td>3</td>\n",
       "      <td>Saturday</td>\n",
       "      <td>Saturday</td>\n",
       "      <td>91</td>\n",
       "      <td>Middle_aged</td>\n",
       "      <td>326</td>\n",
       "      <td>1</td>\n",
       "      <td>0.5692</td>\n",
       "    </tr>\n",
       "    <tr>\n",
       "      <th>25942</th>\n",
       "      <td>2030</td>\n",
       "      <td>96.00</td>\n",
       "      <td>berry</td>\n",
       "      <td>29</td>\n",
       "      <td>69.9</td>\n",
       "      <td>5750</td>\n",
       "      <td>Male</td>\n",
       "      <td>1002</td>\n",
       "      <td>1</td>\n",
       "      <td>5</td>\n",
       "      <td>Monday</td>\n",
       "      <td>Monday</td>\n",
       "      <td>31</td>\n",
       "      <td>Senior_citizen</td>\n",
       "      <td>462</td>\n",
       "      <td>0</td>\n",
       "      <td>0.6091</td>\n",
       "    </tr>\n",
       "    <tr>\n",
       "      <th>47285</th>\n",
       "      <td>2017</td>\n",
       "      <td>96.00</td>\n",
       "      <td>anthracite</td>\n",
       "      <td>117</td>\n",
       "      <td>109.9</td>\n",
       "      <td>32831</td>\n",
       "      <td>Female</td>\n",
       "      <td>1015</td>\n",
       "      <td>0</td>\n",
       "      <td>7</td>\n",
       "      <td>Wednesday</td>\n",
       "      <td>Wednesday</td>\n",
       "      <td>4</td>\n",
       "      <td>Middle_aged</td>\n",
       "      <td>300</td>\n",
       "      <td>1</td>\n",
       "      <td>0.6669</td>\n",
       "    </tr>\n",
       "    <tr>\n",
       "      <th>55533</th>\n",
       "      <td>36</td>\n",
       "      <td>99.06</td>\n",
       "      <td>stained</td>\n",
       "      <td>1</td>\n",
       "      <td>59.9</td>\n",
       "      <td>18840</td>\n",
       "      <td>Female</td>\n",
       "      <td>1002</td>\n",
       "      <td>0</td>\n",
       "      <td>2</td>\n",
       "      <td>Sunday</td>\n",
       "      <td>Sunday</td>\n",
       "      <td>61</td>\n",
       "      <td>Middle_aged</td>\n",
       "      <td>446</td>\n",
       "      <td>0</td>\n",
       "      <td>0.6422</td>\n",
       "    </tr>\n",
       "  </tbody>\n",
       "</table>\n",
       "</div>"
      ],
      "text/plain": [
       "       item_id  item_size  item_color  brand_id  item_price  user_id  \\\n",
       "47922     1532      91.00       coral        37        26.9    44429   \n",
       "49013     1576     101.60  anthracite        90        89.9    18000   \n",
       "25942     2030      96.00       berry        29        69.9     5750   \n",
       "47285     2017      96.00  anthracite       117       109.9    32831   \n",
       "55533       36      99.06     stained         1        59.9    18840   \n",
       "\n",
       "      user_title  user_state  return  counts day_of_order  \\\n",
       "47922     Female        1001       1      11      Tuesday   \n",
       "49013     Female        1008       1       3     Saturday   \n",
       "25942       Male        1002       1       5       Monday   \n",
       "47285     Female        1015       0       7    Wednesday   \n",
       "55533     Female        1002       0       2       Sunday   \n",
       "\n",
       "      delieverday_of_order  No_of_d_t_R            CAge   AC  Label   Score  \n",
       "47922              Tuesday            4     Middle_aged  217      1  0.5738  \n",
       "49013             Saturday           91     Middle_aged  326      1  0.5692  \n",
       "25942               Monday           31  Senior_citizen  462      0  0.6091  \n",
       "47285            Wednesday            4     Middle_aged  300      1  0.6669  \n",
       "55533               Sunday           61     Middle_aged  446      0  0.6422  "
      ]
     },
     "execution_count": 130,
     "metadata": {},
     "output_type": "execute_result"
    }
   ],
   "source": [
    "unseen_predictions = predict_model(rb, data=y)\n",
    "unseen_predictions.head()"
   ]
  },
  {
   "cell_type": "code",
   "execution_count": 131,
   "metadata": {},
   "outputs": [
    {
     "data": {
      "text/plain": [
       "0.6509"
      ]
     },
     "execution_count": 131,
     "metadata": {},
     "output_type": "execute_result"
    }
   ],
   "source": [
    "from pycaret.utils import check_metric\n",
    "check_metric(unseen_predictions['return'], unseen_predictions.Label, 'Accuracy')"
   ]
  },
  {
   "cell_type": "code",
   "execution_count": 120,
   "metadata": {},
   "outputs": [
    {
     "data": {
      "text/html": [
       "<div>\n",
       "<style scoped>\n",
       "    .dataframe tbody tr th:only-of-type {\n",
       "        vertical-align: middle;\n",
       "    }\n",
       "\n",
       "    .dataframe tbody tr th {\n",
       "        vertical-align: top;\n",
       "    }\n",
       "\n",
       "    .dataframe thead th {\n",
       "        text-align: right;\n",
       "    }\n",
       "</style>\n",
       "<table border=\"1\" class=\"dataframe\">\n",
       "  <thead>\n",
       "    <tr style=\"text-align: right;\">\n",
       "      <th></th>\n",
       "      <th>item_id</th>\n",
       "      <th>item_size</th>\n",
       "      <th>item_color</th>\n",
       "      <th>brand_id</th>\n",
       "      <th>item_price</th>\n",
       "      <th>user_id</th>\n",
       "      <th>user_title</th>\n",
       "      <th>user_state</th>\n",
       "      <th>No_of_d_t_R</th>\n",
       "      <th>CAge</th>\n",
       "      <th>AC</th>\n",
       "    </tr>\n",
       "  </thead>\n",
       "  <tbody>\n",
       "    <tr>\n",
       "      <th>0</th>\n",
       "      <td>92</td>\n",
       "      <td>106.0</td>\n",
       "      <td>turquoise</td>\n",
       "      <td>42</td>\n",
       "      <td>69.90</td>\n",
       "      <td>9392</td>\n",
       "      <td>Female</td>\n",
       "      <td>1010</td>\n",
       "      <td>3</td>\n",
       "      <td>Middle_aged</td>\n",
       "      <td>91</td>\n",
       "    </tr>\n",
       "    <tr>\n",
       "      <th>1</th>\n",
       "      <td>2</td>\n",
       "      <td>112.0</td>\n",
       "      <td>green</td>\n",
       "      <td>2</td>\n",
       "      <td>19.90</td>\n",
       "      <td>9392</td>\n",
       "      <td>Female</td>\n",
       "      <td>1010</td>\n",
       "      <td>9</td>\n",
       "      <td>Middle_aged</td>\n",
       "      <td>91</td>\n",
       "    </tr>\n",
       "    <tr>\n",
       "      <th>2</th>\n",
       "      <td>895</td>\n",
       "      <td>101.0</td>\n",
       "      <td>white</td>\n",
       "      <td>39</td>\n",
       "      <td>39.95</td>\n",
       "      <td>30826</td>\n",
       "      <td>Female</td>\n",
       "      <td>1001</td>\n",
       "      <td>3</td>\n",
       "      <td>Middle_aged</td>\n",
       "      <td>492</td>\n",
       "    </tr>\n",
       "    <tr>\n",
       "      <th>3</th>\n",
       "      <td>5</td>\n",
       "      <td>101.0</td>\n",
       "      <td>white</td>\n",
       "      <td>5</td>\n",
       "      <td>69.90</td>\n",
       "      <td>30828</td>\n",
       "      <td>Female</td>\n",
       "      <td>1008</td>\n",
       "      <td>2</td>\n",
       "      <td>Middle_aged</td>\n",
       "      <td>154</td>\n",
       "    </tr>\n",
       "    <tr>\n",
       "      <th>4</th>\n",
       "      <td>55</td>\n",
       "      <td>101.0</td>\n",
       "      <td>purple</td>\n",
       "      <td>1</td>\n",
       "      <td>89.90</td>\n",
       "      <td>22948</td>\n",
       "      <td>Female</td>\n",
       "      <td>1001</td>\n",
       "      <td>2</td>\n",
       "      <td>Middle_aged</td>\n",
       "      <td>492</td>\n",
       "    </tr>\n",
       "  </tbody>\n",
       "</table>\n",
       "</div>"
      ],
      "text/plain": [
       "   item_id  item_size item_color  brand_id  item_price  user_id user_title  \\\n",
       "0       92      106.0  turquoise        42       69.90     9392     Female   \n",
       "1        2      112.0      green         2       19.90     9392     Female   \n",
       "2      895      101.0      white        39       39.95    30826     Female   \n",
       "3        5      101.0      white         5       69.90    30828     Female   \n",
       "4       55      101.0     purple         1       89.90    22948     Female   \n",
       "\n",
       "   user_state  No_of_d_t_R         CAge   AC  \n",
       "0        1010            3  Middle_aged   91  \n",
       "1        1010            9  Middle_aged   91  \n",
       "2        1001            3  Middle_aged  492  \n",
       "3        1008            2  Middle_aged  154  \n",
       "4        1001            2  Middle_aged  492  "
      ]
     },
     "execution_count": 120,
     "metadata": {},
     "output_type": "execute_result"
    }
   ],
   "source": [
    "df_test=pd.read_csv(\"H:\\\\Data Science\\\\Data Sets\\\\Analyze purposes\\\\Compay_datasets\\\\test.csv\")\n",
    "test=df_test.copy()\n",
    "test.head()"
   ]
  },
  {
   "cell_type": "code",
   "execution_count": 121,
   "metadata": {},
   "outputs": [
    {
     "data": {
      "text/html": [
       "<div>\n",
       "<style scoped>\n",
       "    .dataframe tbody tr th:only-of-type {\n",
       "        vertical-align: middle;\n",
       "    }\n",
       "\n",
       "    .dataframe tbody tr th {\n",
       "        vertical-align: top;\n",
       "    }\n",
       "\n",
       "    .dataframe thead th {\n",
       "        text-align: right;\n",
       "    }\n",
       "</style>\n",
       "<table border=\"1\" class=\"dataframe\">\n",
       "  <thead>\n",
       "    <tr style=\"text-align: right;\">\n",
       "      <th></th>\n",
       "      <th>item_id</th>\n",
       "      <th>item_size</th>\n",
       "      <th>item_color</th>\n",
       "      <th>brand_id</th>\n",
       "      <th>item_price</th>\n",
       "      <th>user_id</th>\n",
       "      <th>user_title</th>\n",
       "      <th>user_state</th>\n",
       "      <th>No_of_d_t_R</th>\n",
       "      <th>CAge</th>\n",
       "      <th>AC</th>\n",
       "      <th>Label</th>\n",
       "      <th>Score</th>\n",
       "    </tr>\n",
       "  </thead>\n",
       "  <tbody>\n",
       "    <tr>\n",
       "      <th>0</th>\n",
       "      <td>92</td>\n",
       "      <td>106.0</td>\n",
       "      <td>turquoise</td>\n",
       "      <td>42</td>\n",
       "      <td>69.90</td>\n",
       "      <td>9392</td>\n",
       "      <td>Female</td>\n",
       "      <td>1010</td>\n",
       "      <td>3</td>\n",
       "      <td>Middle_aged</td>\n",
       "      <td>91</td>\n",
       "      <td>1</td>\n",
       "      <td>0.8084</td>\n",
       "    </tr>\n",
       "    <tr>\n",
       "      <th>1</th>\n",
       "      <td>2</td>\n",
       "      <td>112.0</td>\n",
       "      <td>green</td>\n",
       "      <td>2</td>\n",
       "      <td>19.90</td>\n",
       "      <td>9392</td>\n",
       "      <td>Female</td>\n",
       "      <td>1010</td>\n",
       "      <td>9</td>\n",
       "      <td>Middle_aged</td>\n",
       "      <td>91</td>\n",
       "      <td>0</td>\n",
       "      <td>0.6839</td>\n",
       "    </tr>\n",
       "    <tr>\n",
       "      <th>2</th>\n",
       "      <td>895</td>\n",
       "      <td>101.0</td>\n",
       "      <td>white</td>\n",
       "      <td>39</td>\n",
       "      <td>39.95</td>\n",
       "      <td>30826</td>\n",
       "      <td>Female</td>\n",
       "      <td>1001</td>\n",
       "      <td>3</td>\n",
       "      <td>Middle_aged</td>\n",
       "      <td>492</td>\n",
       "      <td>1</td>\n",
       "      <td>0.6953</td>\n",
       "    </tr>\n",
       "    <tr>\n",
       "      <th>3</th>\n",
       "      <td>5</td>\n",
       "      <td>101.0</td>\n",
       "      <td>white</td>\n",
       "      <td>5</td>\n",
       "      <td>69.90</td>\n",
       "      <td>30828</td>\n",
       "      <td>Female</td>\n",
       "      <td>1008</td>\n",
       "      <td>2</td>\n",
       "      <td>Middle_aged</td>\n",
       "      <td>154</td>\n",
       "      <td>0</td>\n",
       "      <td>0.7377</td>\n",
       "    </tr>\n",
       "    <tr>\n",
       "      <th>4</th>\n",
       "      <td>55</td>\n",
       "      <td>101.0</td>\n",
       "      <td>purple</td>\n",
       "      <td>1</td>\n",
       "      <td>89.90</td>\n",
       "      <td>22948</td>\n",
       "      <td>Female</td>\n",
       "      <td>1001</td>\n",
       "      <td>2</td>\n",
       "      <td>Middle_aged</td>\n",
       "      <td>492</td>\n",
       "      <td>0</td>\n",
       "      <td>0.7736</td>\n",
       "    </tr>\n",
       "  </tbody>\n",
       "</table>\n",
       "</div>"
      ],
      "text/plain": [
       "   item_id  item_size item_color  brand_id  item_price  user_id user_title  \\\n",
       "0       92      106.0  turquoise        42       69.90     9392     Female   \n",
       "1        2      112.0      green         2       19.90     9392     Female   \n",
       "2      895      101.0      white        39       39.95    30826     Female   \n",
       "3        5      101.0      white         5       69.90    30828     Female   \n",
       "4       55      101.0     purple         1       89.90    22948     Female   \n",
       "\n",
       "   user_state  No_of_d_t_R         CAge   AC  Label   Score  \n",
       "0        1010            3  Middle_aged   91      1  0.8084  \n",
       "1        1010            9  Middle_aged   91      0  0.6839  \n",
       "2        1001            3  Middle_aged  492      1  0.6953  \n",
       "3        1008            2  Middle_aged  154      0  0.7377  \n",
       "4        1001            2  Middle_aged  492      0  0.7736  "
      ]
     },
     "execution_count": 121,
     "metadata": {},
     "output_type": "execute_result"
    }
   ],
   "source": [
    "unseen_predict = predict_model(tuned_rb, data=test)\n",
    "unseen_predict.head()"
   ]
  },
  {
   "cell_type": "code",
   "execution_count": 122,
   "metadata": {},
   "outputs": [],
   "source": [
    "unseen_predict.to_csv('a2.csv')"
   ]
  },
  {
   "cell_type": "code",
   "execution_count": null,
   "metadata": {},
   "outputs": [],
   "source": []
  }
 ],
 "metadata": {
  "kernelspec": {
   "display_name": "Python 3",
   "language": "python",
   "name": "python3"
  },
  "language_info": {
   "codemirror_mode": {
    "name": "ipython",
    "version": 3
   },
   "file_extension": ".py",
   "mimetype": "text/x-python",
   "name": "python",
   "nbconvert_exporter": "python",
   "pygments_lexer": "ipython3",
   "version": "3.8.5"
  }
 },
 "nbformat": 4,
 "nbformat_minor": 4
}
